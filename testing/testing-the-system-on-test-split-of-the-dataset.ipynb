{
 "cells": [
  {
   "cell_type": "code",
   "execution_count": 1,
   "id": "f8165c7b",
   "metadata": {
    "_cell_guid": "b1076dfc-b9ad-4769-8c92-a6c4dae69d19",
    "_uuid": "8f2839f25d086af736a60e9eeb907d3b93b6e0e5",
    "collapsed": true,
    "execution": {
     "iopub.execute_input": "2025-05-28T05:25:51.741825Z",
     "iopub.status.busy": "2025-05-28T05:25:51.741471Z",
     "iopub.status.idle": "2025-05-28T05:27:16.943148Z",
     "shell.execute_reply": "2025-05-28T05:27:16.941686Z"
    },
    "jupyter": {
     "outputs_hidden": true
    },
    "papermill": {
     "duration": 85.209688,
     "end_time": "2025-05-28T05:27:16.945233",
     "exception": false,
     "start_time": "2025-05-28T05:25:51.735545",
     "status": "completed"
    },
    "tags": []
   },
   "outputs": [
    {
     "name": "stdout",
     "output_type": "stream",
     "text": [
      "Collecting openai-whisper\r\n",
      "  Downloading openai-whisper-20240930.tar.gz (800 kB)\r\n",
      "\u001b[2K     \u001b[90m━━━━━━━━━━━━━━━━━━━━━━━━━━━━━━━━━━━━━━━━\u001b[0m \u001b[32m800.5/800.5 kB\u001b[0m \u001b[31m16.0 MB/s\u001b[0m eta \u001b[36m0:00:00\u001b[0m\r\n",
      "\u001b[?25h  Installing build dependencies ... \u001b[?25l\u001b[?25hdone\r\n",
      "  Getting requirements to build wheel ... \u001b[?25l\u001b[?25hdone\r\n",
      "  Preparing metadata (pyproject.toml) ... \u001b[?25l\u001b[?25hdone\r\n",
      "Requirement already satisfied: numba in /usr/local/lib/python3.11/dist-packages (from openai-whisper) (0.60.0)\r\n",
      "Requirement already satisfied: numpy in /usr/local/lib/python3.11/dist-packages (from openai-whisper) (1.26.4)\r\n",
      "Requirement already satisfied: torch in /usr/local/lib/python3.11/dist-packages (from openai-whisper) (2.6.0+cu124)\r\n",
      "Requirement already satisfied: tqdm in /usr/local/lib/python3.11/dist-packages (from openai-whisper) (4.67.1)\r\n",
      "Requirement already satisfied: more-itertools in /usr/local/lib/python3.11/dist-packages (from openai-whisper) (10.6.0)\r\n",
      "Requirement already satisfied: tiktoken in /usr/local/lib/python3.11/dist-packages (from openai-whisper) (0.9.0)\r\n",
      "Requirement already satisfied: triton>=2.0.0 in /usr/local/lib/python3.11/dist-packages (from openai-whisper) (3.2.0)\r\n",
      "Requirement already satisfied: llvmlite<0.44,>=0.43.0dev0 in /usr/local/lib/python3.11/dist-packages (from numba->openai-whisper) (0.43.0)\r\n",
      "Requirement already satisfied: mkl_fft in /usr/local/lib/python3.11/dist-packages (from numpy->openai-whisper) (1.3.8)\r\n",
      "Requirement already satisfied: mkl_random in /usr/local/lib/python3.11/dist-packages (from numpy->openai-whisper) (1.2.4)\r\n",
      "Requirement already satisfied: mkl_umath in /usr/local/lib/python3.11/dist-packages (from numpy->openai-whisper) (0.1.1)\r\n",
      "Requirement already satisfied: mkl in /usr/local/lib/python3.11/dist-packages (from numpy->openai-whisper) (2025.1.0)\r\n",
      "Requirement already satisfied: tbb4py in /usr/local/lib/python3.11/dist-packages (from numpy->openai-whisper) (2022.1.0)\r\n",
      "Requirement already satisfied: mkl-service in /usr/local/lib/python3.11/dist-packages (from numpy->openai-whisper) (2.4.1)\r\n",
      "Requirement already satisfied: regex>=2022.1.18 in /usr/local/lib/python3.11/dist-packages (from tiktoken->openai-whisper) (2024.11.6)\r\n",
      "Requirement already satisfied: requests>=2.26.0 in /usr/local/lib/python3.11/dist-packages (from tiktoken->openai-whisper) (2.32.3)\r\n",
      "Requirement already satisfied: filelock in /usr/local/lib/python3.11/dist-packages (from torch->openai-whisper) (3.18.0)\r\n",
      "Requirement already satisfied: typing-extensions>=4.10.0 in /usr/local/lib/python3.11/dist-packages (from torch->openai-whisper) (4.13.2)\r\n",
      "Requirement already satisfied: networkx in /usr/local/lib/python3.11/dist-packages (from torch->openai-whisper) (3.4.2)\r\n",
      "Requirement already satisfied: jinja2 in /usr/local/lib/python3.11/dist-packages (from torch->openai-whisper) (3.1.6)\r\n",
      "Requirement already satisfied: fsspec in /usr/local/lib/python3.11/dist-packages (from torch->openai-whisper) (2025.3.2)\r\n",
      "Requirement already satisfied: nvidia-cuda-nvrtc-cu12==12.4.127 in /usr/local/lib/python3.11/dist-packages (from torch->openai-whisper) (12.4.127)\r\n",
      "Requirement already satisfied: nvidia-cuda-runtime-cu12==12.4.127 in /usr/local/lib/python3.11/dist-packages (from torch->openai-whisper) (12.4.127)\r\n",
      "Requirement already satisfied: nvidia-cuda-cupti-cu12==12.4.127 in /usr/local/lib/python3.11/dist-packages (from torch->openai-whisper) (12.4.127)\r\n",
      "Collecting nvidia-cudnn-cu12==9.1.0.70 (from torch->openai-whisper)\r\n",
      "  Downloading nvidia_cudnn_cu12-9.1.0.70-py3-none-manylinux2014_x86_64.whl.metadata (1.6 kB)\r\n",
      "Collecting nvidia-cublas-cu12==12.4.5.8 (from torch->openai-whisper)\r\n",
      "  Downloading nvidia_cublas_cu12-12.4.5.8-py3-none-manylinux2014_x86_64.whl.metadata (1.5 kB)\r\n",
      "Collecting nvidia-cufft-cu12==11.2.1.3 (from torch->openai-whisper)\r\n",
      "  Downloading nvidia_cufft_cu12-11.2.1.3-py3-none-manylinux2014_x86_64.whl.metadata (1.5 kB)\r\n",
      "Collecting nvidia-curand-cu12==10.3.5.147 (from torch->openai-whisper)\r\n",
      "  Downloading nvidia_curand_cu12-10.3.5.147-py3-none-manylinux2014_x86_64.whl.metadata (1.5 kB)\r\n",
      "Collecting nvidia-cusolver-cu12==11.6.1.9 (from torch->openai-whisper)\r\n",
      "  Downloading nvidia_cusolver_cu12-11.6.1.9-py3-none-manylinux2014_x86_64.whl.metadata (1.6 kB)\r\n",
      "Collecting nvidia-cusparse-cu12==12.3.1.170 (from torch->openai-whisper)\r\n",
      "  Downloading nvidia_cusparse_cu12-12.3.1.170-py3-none-manylinux2014_x86_64.whl.metadata (1.6 kB)\r\n",
      "Requirement already satisfied: nvidia-cusparselt-cu12==0.6.2 in /usr/local/lib/python3.11/dist-packages (from torch->openai-whisper) (0.6.2)\r\n",
      "Requirement already satisfied: nvidia-nccl-cu12==2.21.5 in /usr/local/lib/python3.11/dist-packages (from torch->openai-whisper) (2.21.5)\r\n",
      "Requirement already satisfied: nvidia-nvtx-cu12==12.4.127 in /usr/local/lib/python3.11/dist-packages (from torch->openai-whisper) (12.4.127)\r\n",
      "Collecting nvidia-nvjitlink-cu12==12.4.127 (from torch->openai-whisper)\r\n",
      "  Downloading nvidia_nvjitlink_cu12-12.4.127-py3-none-manylinux2014_x86_64.whl.metadata (1.5 kB)\r\n",
      "Requirement already satisfied: sympy==1.13.1 in /usr/local/lib/python3.11/dist-packages (from torch->openai-whisper) (1.13.1)\r\n",
      "Requirement already satisfied: mpmath<1.4,>=1.1.0 in /usr/local/lib/python3.11/dist-packages (from sympy==1.13.1->torch->openai-whisper) (1.3.0)\r\n",
      "Requirement already satisfied: charset-normalizer<4,>=2 in /usr/local/lib/python3.11/dist-packages (from requests>=2.26.0->tiktoken->openai-whisper) (3.4.2)\r\n",
      "Requirement already satisfied: idna<4,>=2.5 in /usr/local/lib/python3.11/dist-packages (from requests>=2.26.0->tiktoken->openai-whisper) (3.10)\r\n",
      "Requirement already satisfied: urllib3<3,>=1.21.1 in /usr/local/lib/python3.11/dist-packages (from requests>=2.26.0->tiktoken->openai-whisper) (2.4.0)\r\n",
      "Requirement already satisfied: certifi>=2017.4.17 in /usr/local/lib/python3.11/dist-packages (from requests>=2.26.0->tiktoken->openai-whisper) (2025.4.26)\r\n",
      "Requirement already satisfied: MarkupSafe>=2.0 in /usr/local/lib/python3.11/dist-packages (from jinja2->torch->openai-whisper) (3.0.2)\r\n",
      "Requirement already satisfied: intel-openmp<2026,>=2024 in /usr/local/lib/python3.11/dist-packages (from mkl->numpy->openai-whisper) (2024.2.0)\r\n",
      "Requirement already satisfied: tbb==2022.* in /usr/local/lib/python3.11/dist-packages (from mkl->numpy->openai-whisper) (2022.1.0)\r\n",
      "Requirement already satisfied: tcmlib==1.* in /usr/local/lib/python3.11/dist-packages (from tbb==2022.*->mkl->numpy->openai-whisper) (1.3.0)\r\n",
      "Requirement already satisfied: intel-cmplr-lib-rt in /usr/local/lib/python3.11/dist-packages (from mkl_umath->numpy->openai-whisper) (2024.2.0)\r\n",
      "Requirement already satisfied: intel-cmplr-lib-ur==2024.2.0 in /usr/local/lib/python3.11/dist-packages (from intel-openmp<2026,>=2024->mkl->numpy->openai-whisper) (2024.2.0)\r\n",
      "Downloading nvidia_cublas_cu12-12.4.5.8-py3-none-manylinux2014_x86_64.whl (363.4 MB)\r\n",
      "\u001b[2K   \u001b[90m━━━━━━━━━━━━━━━━━━━━━━━━━━━━━━━━━━━━━━━━\u001b[0m \u001b[32m363.4/363.4 MB\u001b[0m \u001b[31m277.6 MB/s\u001b[0m eta \u001b[36m0:00:00\u001b[0m\r\n",
      "\u001b[?25hDownloading nvidia_cudnn_cu12-9.1.0.70-py3-none-manylinux2014_x86_64.whl (664.8 MB)\r\n",
      "\u001b[2K   \u001b[90m━━━━━━━━━━━━━━━━━━━━━━━━━━━━━━━━━━━━━━━━\u001b[0m \u001b[32m664.8/664.8 MB\u001b[0m \u001b[31m267.2 MB/s\u001b[0m eta \u001b[36m0:00:00\u001b[0m\r\n",
      "\u001b[?25hDownloading nvidia_cufft_cu12-11.2.1.3-py3-none-manylinux2014_x86_64.whl (211.5 MB)\r\n",
      "\u001b[2K   \u001b[90m━━━━━━━━━━━━━━━━━━━━━━━━━━━━━━━━━━━━━━━━\u001b[0m \u001b[32m211.5/211.5 MB\u001b[0m \u001b[31m266.6 MB/s\u001b[0m eta \u001b[36m0:00:00\u001b[0m\r\n",
      "\u001b[?25hDownloading nvidia_curand_cu12-10.3.5.147-py3-none-manylinux2014_x86_64.whl (56.3 MB)\r\n",
      "\u001b[2K   \u001b[90m━━━━━━━━━━━━━━━━━━━━━━━━━━━━━━━━━━━━━━━━\u001b[0m \u001b[32m56.3/56.3 MB\u001b[0m \u001b[31m264.1 MB/s\u001b[0m eta \u001b[36m0:00:00\u001b[0m\r\n",
      "\u001b[?25hDownloading nvidia_cusolver_cu12-11.6.1.9-py3-none-manylinux2014_x86_64.whl (127.9 MB)\r\n",
      "\u001b[2K   \u001b[90m━━━━━━━━━━━━━━━━━━━━━━━━━━━━━━━━━━━━━━━━\u001b[0m \u001b[32m127.9/127.9 MB\u001b[0m \u001b[31m247.9 MB/s\u001b[0m eta \u001b[36m0:00:00\u001b[0m\r\n",
      "\u001b[?25hDownloading nvidia_cusparse_cu12-12.3.1.170-py3-none-manylinux2014_x86_64.whl (207.5 MB)\r\n",
      "\u001b[2K   \u001b[90m━━━━━━━━━━━━━━━━━━━━━━━━━━━━━━━━━━━━━━━━\u001b[0m \u001b[32m207.5/207.5 MB\u001b[0m \u001b[31m236.2 MB/s\u001b[0m eta \u001b[36m0:00:00\u001b[0m\r\n",
      "\u001b[?25hDownloading nvidia_nvjitlink_cu12-12.4.127-py3-none-manylinux2014_x86_64.whl (21.1 MB)\r\n",
      "\u001b[2K   \u001b[90m━━━━━━━━━━━━━━━━━━━━━━━━━━━━━━━━━━━━━━━━\u001b[0m \u001b[32m21.1/21.1 MB\u001b[0m \u001b[31m248.8 MB/s\u001b[0m eta \u001b[36m0:00:00\u001b[0m\r\n",
      "\u001b[?25hBuilding wheels for collected packages: openai-whisper\r\n",
      "  Building wheel for openai-whisper (pyproject.toml) ... \u001b[?25l\u001b[?25hdone\r\n",
      "  Created wheel for openai-whisper: filename=openai_whisper-20240930-py3-none-any.whl size=803404 sha256=5da3d69bd79051a0b4d24a462456782e35df68289b25455b0418a54367553c4a\r\n",
      "  Stored in directory: /tmp/pip-ephem-wheel-cache-s33mvy8z/wheels/2f/f2/ce/6eb23db4091d026238ce76703bd66da60b969d70bcc81d5d3a\r\n",
      "Successfully built openai-whisper\r\n",
      "Installing collected packages: nvidia-nvjitlink-cu12, nvidia-curand-cu12, nvidia-cufft-cu12, nvidia-cublas-cu12, nvidia-cusparse-cu12, nvidia-cudnn-cu12, nvidia-cusolver-cu12, openai-whisper\r\n",
      "  Attempting uninstall: nvidia-nvjitlink-cu12\r\n",
      "    Found existing installation: nvidia-nvjitlink-cu12 12.9.41\r\n",
      "    Uninstalling nvidia-nvjitlink-cu12-12.9.41:\r\n",
      "      Successfully uninstalled nvidia-nvjitlink-cu12-12.9.41\r\n",
      "  Attempting uninstall: nvidia-curand-cu12\r\n",
      "    Found existing installation: nvidia-curand-cu12 10.3.10.19\r\n",
      "    Uninstalling nvidia-curand-cu12-10.3.10.19:\r\n",
      "      Successfully uninstalled nvidia-curand-cu12-10.3.10.19\r\n",
      "  Attempting uninstall: nvidia-cufft-cu12\r\n",
      "    Found existing installation: nvidia-cufft-cu12 11.4.0.6\r\n",
      "    Uninstalling nvidia-cufft-cu12-11.4.0.6:\r\n",
      "      Successfully uninstalled nvidia-cufft-cu12-11.4.0.6\r\n",
      "  Attempting uninstall: nvidia-cublas-cu12\r\n",
      "    Found existing installation: nvidia-cublas-cu12 12.9.0.13\r\n",
      "    Uninstalling nvidia-cublas-cu12-12.9.0.13:\r\n",
      "      Successfully uninstalled nvidia-cublas-cu12-12.9.0.13\r\n",
      "  Attempting uninstall: nvidia-cusparse-cu12\r\n",
      "    Found existing installation: nvidia-cusparse-cu12 12.5.9.5\r\n",
      "    Uninstalling nvidia-cusparse-cu12-12.5.9.5:\r\n",
      "      Successfully uninstalled nvidia-cusparse-cu12-12.5.9.5\r\n",
      "  Attempting uninstall: nvidia-cudnn-cu12\r\n",
      "    Found existing installation: nvidia-cudnn-cu12 9.3.0.75\r\n",
      "    Uninstalling nvidia-cudnn-cu12-9.3.0.75:\r\n",
      "      Successfully uninstalled nvidia-cudnn-cu12-9.3.0.75\r\n",
      "  Attempting uninstall: nvidia-cusolver-cu12\r\n",
      "    Found existing installation: nvidia-cusolver-cu12 11.7.4.40\r\n",
      "    Uninstalling nvidia-cusolver-cu12-11.7.4.40:\r\n",
      "      Successfully uninstalled nvidia-cusolver-cu12-11.7.4.40\r\n",
      "Successfully installed nvidia-cublas-cu12-12.4.5.8 nvidia-cudnn-cu12-9.1.0.70 nvidia-cufft-cu12-11.2.1.3 nvidia-curand-cu12-10.3.5.147 nvidia-cusolver-cu12-11.6.1.9 nvidia-cusparse-cu12-12.3.1.170 nvidia-nvjitlink-cu12-12.4.127 openai-whisper-20240930\r\n",
      "Note: you may need to restart the kernel to use updated packages.\n"
     ]
    }
   ],
   "source": [
    "pip install openai-whisper --no-cache-dir"
   ]
  },
  {
   "cell_type": "code",
   "execution_count": 2,
   "id": "fa91f4b4",
   "metadata": {
    "execution": {
     "iopub.execute_input": "2025-05-28T05:27:16.973425Z",
     "iopub.status.busy": "2025-05-28T05:27:16.972404Z",
     "iopub.status.idle": "2025-05-28T05:27:26.831868Z",
     "shell.execute_reply": "2025-05-28T05:27:26.830911Z"
    },
    "papermill": {
     "duration": 9.875354,
     "end_time": "2025-05-28T05:27:26.833855",
     "exception": false,
     "start_time": "2025-05-28T05:27:16.958501",
     "status": "completed"
    },
    "tags": []
   },
   "outputs": [],
   "source": [
    "import time\n",
    "import torch\n",
    "import whisper\n",
    "import librosa\n",
    "import datetime\n",
    "import requests\n",
    "import pandas as pd\n",
    "import numpy as np\n",
    "import torch.nn as nn\n",
    "from tqdm import tqdm\n",
    "from pydub import AudioSegment\n",
    "from sklearn.metrics import accuracy_score, precision_score, recall_score, f1_score, classification_report"
   ]
  },
  {
   "cell_type": "code",
   "execution_count": 3,
   "id": "7b3d4bd0",
   "metadata": {
    "execution": {
     "iopub.execute_input": "2025-05-28T05:27:26.860670Z",
     "iopub.status.busy": "2025-05-28T05:27:26.859493Z",
     "iopub.status.idle": "2025-05-28T05:27:26.867721Z",
     "shell.execute_reply": "2025-05-28T05:27:26.866765Z"
    },
    "papermill": {
     "duration": 0.023139,
     "end_time": "2025-05-28T05:27:26.869532",
     "exception": false,
     "start_time": "2025-05-28T05:27:26.846393",
     "status": "completed"
    },
    "tags": []
   },
   "outputs": [],
   "source": [
    "class AudioCNN(nn.Module):\n",
    "    def __init__(self):\n",
    "        super(AudioCNN, self).__init__()\n",
    "        self.conv1 = nn.Conv2d(1, 32, kernel_size=3, padding=1)\n",
    "        self.conv2 = nn.Conv2d(32, 64, kernel_size=3, padding=1)\n",
    "        self.pool = nn.MaxPool2d(2, 2)\n",
    "        self.dropout = nn.Dropout(p=0.3)\n",
    "        self.fc1 = nn.Linear(64 * 32 * 70, 128)\n",
    "        self.fc2 = nn.Linear(128, 1)\n",
    "        self.sigmoid = nn.Sigmoid()\n",
    "\n",
    "    def forward(self, x):\n",
    "        x = self.pool(torch.relu(self.conv1(x)))\n",
    "        x = self.dropout(x)\n",
    "        x = self.pool(torch.relu(self.conv2(x)))\n",
    "        x = self.dropout(x)\n",
    "        x = x.view(x.size(0), -1)\n",
    "        x = torch.relu(self.fc1(x))\n",
    "        x = self.dropout(x)\n",
    "        x = self.fc2(x)\n",
    "        x = self.sigmoid(x)\n",
    "        return x"
   ]
  },
  {
   "cell_type": "code",
   "execution_count": 4,
   "id": "904a2a3e",
   "metadata": {
    "execution": {
     "iopub.execute_input": "2025-05-28T05:27:26.895683Z",
     "iopub.status.busy": "2025-05-28T05:27:26.895318Z",
     "iopub.status.idle": "2025-05-28T05:27:27.764450Z",
     "shell.execute_reply": "2025-05-28T05:27:27.763392Z"
    },
    "papermill": {
     "duration": 0.883749,
     "end_time": "2025-05-28T05:27:27.766153",
     "exception": false,
     "start_time": "2025-05-28T05:27:26.882404",
     "status": "completed"
    },
    "tags": []
   },
   "outputs": [
    {
     "data": {
      "text/plain": [
       "AudioCNN(\n",
       "  (conv1): Conv2d(1, 32, kernel_size=(3, 3), stride=(1, 1), padding=(1, 1))\n",
       "  (conv2): Conv2d(32, 64, kernel_size=(3, 3), stride=(1, 1), padding=(1, 1))\n",
       "  (pool): MaxPool2d(kernel_size=2, stride=2, padding=0, dilation=1, ceil_mode=False)\n",
       "  (dropout): Dropout(p=0.3, inplace=False)\n",
       "  (fc1): Linear(in_features=143360, out_features=128, bias=True)\n",
       "  (fc2): Linear(in_features=128, out_features=1, bias=True)\n",
       "  (sigmoid): Sigmoid()\n",
       ")"
      ]
     },
     "execution_count": 4,
     "metadata": {},
     "output_type": "execute_result"
    }
   ],
   "source": [
    "classificatorModel = AudioCNN()\n",
    "classificatorModel.load_state_dict(torch.load('/kaggle/input/speechmusicclassificator/pytorch/default/2/speech_music_classificator.pth', map_location='cpu', weights_only=True))\n",
    "classificatorModel.eval()"
   ]
  },
  {
   "cell_type": "code",
   "execution_count": 5,
   "id": "7bb89a31",
   "metadata": {
    "execution": {
     "iopub.execute_input": "2025-05-28T05:27:27.792131Z",
     "iopub.status.busy": "2025-05-28T05:27:27.791757Z",
     "iopub.status.idle": "2025-05-28T05:28:14.301364Z",
     "shell.execute_reply": "2025-05-28T05:28:14.300316Z"
    },
    "papermill": {
     "duration": 46.525259,
     "end_time": "2025-05-28T05:28:14.303768",
     "exception": false,
     "start_time": "2025-05-28T05:27:27.778509",
     "status": "completed"
    },
    "tags": []
   },
   "outputs": [
    {
     "name": "stderr",
     "output_type": "stream",
     "text": [
      "100%|█████████████████████████████████████| 1.42G/1.42G [00:26<00:00, 58.1MiB/s]\n"
     ]
    }
   ],
   "source": [
    "languageIdentifierModel = whisper.load_model('medium')"
   ]
  },
  {
   "cell_type": "code",
   "execution_count": 6,
   "id": "04690136",
   "metadata": {
    "execution": {
     "iopub.execute_input": "2025-05-28T05:28:14.363437Z",
     "iopub.status.busy": "2025-05-28T05:28:14.362592Z",
     "iopub.status.idle": "2025-05-28T05:28:14.370247Z",
     "shell.execute_reply": "2025-05-28T05:28:14.369288Z"
    },
    "papermill": {
     "duration": 0.036272,
     "end_time": "2025-05-28T05:28:14.371841",
     "exception": false,
     "start_time": "2025-05-28T05:28:14.335569",
     "status": "completed"
    },
    "tags": []
   },
   "outputs": [],
   "source": [
    "def language_identifier(array, sr=48000):\n",
    "    array = np.int16(array / np.max(np.abs(array)) * 32767)\n",
    "    audio_segment = AudioSegment(\n",
    "        array.tobytes(), \n",
    "        frame_rate=sr,\n",
    "        sample_width=2,\n",
    "        channels=1\n",
    "    )\n",
    "    audio_segment.export('piece.mp3', format='mp3')\n",
    "    audio = whisper.load_audio('/kaggle/working/piece.mp3')\n",
    "    audio = whisper.pad_or_trim(audio)\n",
    "    mel = whisper.log_mel_spectrogram(audio, n_mels=languageIdentifierModel.dims.n_mels)\n",
    "    _, probs = languageIdentifierModel.detect_language(mel)\n",
    "    return max(probs, key=probs.get)"
   ]
  },
  {
   "cell_type": "code",
   "execution_count": 7,
   "id": "8030cd7f",
   "metadata": {
    "execution": {
     "iopub.execute_input": "2025-05-28T05:28:14.415404Z",
     "iopub.status.busy": "2025-05-28T05:28:14.415007Z",
     "iopub.status.idle": "2025-05-28T05:28:14.420549Z",
     "shell.execute_reply": "2025-05-28T05:28:14.419676Z"
    },
    "papermill": {
     "duration": 0.02864,
     "end_time": "2025-05-28T05:28:14.421939",
     "exception": false,
     "start_time": "2025-05-28T05:28:14.393299",
     "status": "completed"
    },
    "tags": []
   },
   "outputs": [],
   "source": [
    "def preprocess(audio, sr=48000):\n",
    "    mel_spectrogram = librosa.feature.melspectrogram(y=audio, sr=sr)\n",
    "    log_mel_spectrogram = librosa.power_to_db(mel_spectrogram)\n",
    "    log_mel_spectrogram = (log_mel_spectrogram - np.mean(log_mel_spectrogram)) / np.std(log_mel_spectrogram)\n",
    "    return log_mel_spectrogram # (128, 282)"
   ]
  },
  {
   "cell_type": "code",
   "execution_count": 8,
   "id": "ddb190ca",
   "metadata": {
    "execution": {
     "iopub.execute_input": "2025-05-28T05:28:14.464352Z",
     "iopub.status.busy": "2025-05-28T05:28:14.463936Z",
     "iopub.status.idle": "2025-05-28T05:28:14.470099Z",
     "shell.execute_reply": "2025-05-28T05:28:14.469086Z"
    },
    "papermill": {
     "duration": 0.029389,
     "end_time": "2025-05-28T05:28:14.471837",
     "exception": false,
     "start_time": "2025-05-28T05:28:14.442448",
     "status": "completed"
    },
    "tags": []
   },
   "outputs": [],
   "source": [
    "def speech_music_classificator(array):\n",
    "    array = preprocess(array)\n",
    "    array = torch.tensor(array).unsqueeze(0).unsqueeze(0).float()\n",
    "    with torch.no_grad():\n",
    "        output = classificatorModel(array)\n",
    "    prediction = output.item()\n",
    "    prediction = 'music' if prediction < 0.5 else 'speech'\n",
    "    return prediction"
   ]
  },
  {
   "cell_type": "code",
   "execution_count": 9,
   "id": "3e6a2827",
   "metadata": {
    "execution": {
     "iopub.execute_input": "2025-05-28T05:28:14.516629Z",
     "iopub.status.busy": "2025-05-28T05:28:14.516284Z",
     "iopub.status.idle": "2025-05-28T05:28:19.100687Z",
     "shell.execute_reply": "2025-05-28T05:28:19.099681Z"
    },
    "papermill": {
     "duration": 4.608772,
     "end_time": "2025-05-28T05:28:19.102729",
     "exception": false,
     "start_time": "2025-05-28T05:28:14.493957",
     "status": "completed"
    },
    "tags": []
   },
   "outputs": [],
   "source": [
    "data = pd.read_parquet('/kaggle/input/speechandmusicinlanguagestestdataset/speechAndMusicWLanguagesTestSplit.parquet')"
   ]
  },
  {
   "cell_type": "code",
   "execution_count": 10,
   "id": "7c92003b",
   "metadata": {
    "execution": {
     "iopub.execute_input": "2025-05-28T05:28:19.147099Z",
     "iopub.status.busy": "2025-05-28T05:28:19.146770Z",
     "iopub.status.idle": "2025-05-28T05:28:19.171922Z",
     "shell.execute_reply": "2025-05-28T05:28:19.170876Z"
    },
    "papermill": {
     "duration": 0.049078,
     "end_time": "2025-05-28T05:28:19.173627",
     "exception": false,
     "start_time": "2025-05-28T05:28:19.124549",
     "status": "completed"
    },
    "tags": []
   },
   "outputs": [
    {
     "data": {
      "text/plain": [
       "language_code\n",
       "en               40\n",
       "es               40\n",
       "fr               40\n",
       "id               40\n",
       "ja               40\n",
       "lt               40\n",
       "nl               40\n",
       "pt               40\n",
       "ro               40\n",
       "Name: count, dtype: int64"
      ]
     },
     "execution_count": 10,
     "metadata": {},
     "output_type": "execute_result"
    }
   ],
   "source": [
    "data.value_counts(['language_code'])"
   ]
  },
  {
   "cell_type": "code",
   "execution_count": 11,
   "id": "02629106",
   "metadata": {
    "execution": {
     "iopub.execute_input": "2025-05-28T05:28:19.218073Z",
     "iopub.status.busy": "2025-05-28T05:28:19.217738Z",
     "iopub.status.idle": "2025-05-28T05:28:19.223231Z",
     "shell.execute_reply": "2025-05-28T05:28:19.222347Z"
    },
    "papermill": {
     "duration": 0.029341,
     "end_time": "2025-05-28T05:28:19.224887",
     "exception": false,
     "start_time": "2025-05-28T05:28:19.195546",
     "status": "completed"
    },
    "tags": []
   },
   "outputs": [],
   "source": [
    "audios = data['array'].values.tolist()\n",
    "labels = data['label'].values.tolist()\n",
    "language_codes = data['language_code'].values.tolist()"
   ]
  },
  {
   "cell_type": "code",
   "execution_count": 12,
   "id": "e2a5bc12",
   "metadata": {
    "execution": {
     "iopub.execute_input": "2025-05-28T05:28:19.268384Z",
     "iopub.status.busy": "2025-05-28T05:28:19.267964Z",
     "iopub.status.idle": "2025-05-28T05:28:19.273556Z",
     "shell.execute_reply": "2025-05-28T05:28:19.272356Z"
    },
    "papermill": {
     "duration": 0.029012,
     "end_time": "2025-05-28T05:28:19.275045",
     "exception": false,
     "start_time": "2025-05-28T05:28:19.246033",
     "status": "completed"
    },
    "tags": []
   },
   "outputs": [
    {
     "name": "stdout",
     "output_type": "stream",
     "text": [
      "360 360 360\n"
     ]
    }
   ],
   "source": [
    "print(len(audios), len(labels), len(language_codes))"
   ]
  },
  {
   "cell_type": "code",
   "execution_count": 13,
   "id": "3cbadd4a",
   "metadata": {
    "execution": {
     "iopub.execute_input": "2025-05-28T05:28:19.318557Z",
     "iopub.status.busy": "2025-05-28T05:28:19.318164Z",
     "iopub.status.idle": "2025-05-28T05:28:19.323572Z",
     "shell.execute_reply": "2025-05-28T05:28:19.322678Z"
    },
    "papermill": {
     "duration": 0.028746,
     "end_time": "2025-05-28T05:28:19.325119",
     "exception": false,
     "start_time": "2025-05-28T05:28:19.296373",
     "status": "completed"
    },
    "tags": []
   },
   "outputs": [],
   "source": [
    "def test_system(audios, labels, language_codes):\n",
    "    language_preds = []\n",
    "    content_preds = []\n",
    "    for num, audio in enumerate(audios):\n",
    "        language_pred = language_identifier(audio)\n",
    "        language_preds.append(language_pred)\n",
    "        content_pred = speech_music_classificator(audio)\n",
    "        content_preds.append(content_pred)\n",
    "    return language_preds, content_preds"
   ]
  },
  {
   "cell_type": "code",
   "execution_count": 14,
   "id": "c5be024c",
   "metadata": {
    "execution": {
     "iopub.execute_input": "2025-05-28T05:28:19.452369Z",
     "iopub.status.busy": "2025-05-28T05:28:19.451949Z",
     "iopub.status.idle": "2025-05-28T06:47:34.884496Z",
     "shell.execute_reply": "2025-05-28T06:47:34.881572Z"
    },
    "papermill": {
     "duration": 4755.543978,
     "end_time": "2025-05-28T06:47:34.894503",
     "exception": false,
     "start_time": "2025-05-28T05:28:19.350525",
     "status": "completed"
    },
    "tags": []
   },
   "outputs": [],
   "source": [
    "language_preds, content_preds = test_system(audios, labels, language_codes)"
   ]
  },
  {
   "cell_type": "code",
   "execution_count": 15,
   "id": "1475188a",
   "metadata": {
    "execution": {
     "iopub.execute_input": "2025-05-28T06:47:34.976520Z",
     "iopub.status.busy": "2025-05-28T06:47:34.972610Z",
     "iopub.status.idle": "2025-05-28T06:47:34.989722Z",
     "shell.execute_reply": "2025-05-28T06:47:34.988296Z"
    },
    "papermill": {
     "duration": 0.05757,
     "end_time": "2025-05-28T06:47:34.993339",
     "exception": false,
     "start_time": "2025-05-28T06:47:34.935769",
     "status": "completed"
    },
    "tags": []
   },
   "outputs": [
    {
     "name": "stdout",
     "output_type": "stream",
     "text": [
      "Language identification accuracy\n",
      "0.6305555555555555\n",
      "\n",
      "Speech/music classification accuracy\n",
      "0.9805555555555555\n"
     ]
    }
   ],
   "source": [
    "language_accuracy = accuracy_score(language_codes, language_preds)\n",
    "content_accuracy = accuracy_score(labels, content_preds)\n",
    "print('Language identification accuracy')\n",
    "print(language_accuracy)\n",
    "print('\\nSpeech/music classification accuracy')\n",
    "print(content_accuracy)"
   ]
  },
  {
   "cell_type": "code",
   "execution_count": 16,
   "id": "9aacc489",
   "metadata": {
    "execution": {
     "iopub.execute_input": "2025-05-28T06:47:35.043456Z",
     "iopub.status.busy": "2025-05-28T06:47:35.042245Z",
     "iopub.status.idle": "2025-05-28T06:47:35.062459Z",
     "shell.execute_reply": "2025-05-28T06:47:35.061171Z"
    },
    "papermill": {
     "duration": 0.048656,
     "end_time": "2025-05-28T06:47:35.064719",
     "exception": false,
     "start_time": "2025-05-28T06:47:35.016063",
     "status": "completed"
    },
    "tags": []
   },
   "outputs": [
    {
     "name": "stdout",
     "output_type": "stream",
     "text": [
      "Language identification precision\n",
      "0.6305555555555555\n",
      "\n",
      "Speech/music classification precision\n",
      "0.9805555555555555\n"
     ]
    }
   ],
   "source": [
    "language_precision = precision_score(language_codes, language_preds, average='micro')\n",
    "content_precision = precision_score(labels, content_preds, average='micro')\n",
    "print('Language identification precision')\n",
    "print(language_precision)\n",
    "print('\\nSpeech/music classification precision')\n",
    "print(content_precision)"
   ]
  },
  {
   "cell_type": "code",
   "execution_count": 17,
   "id": "860f63f5",
   "metadata": {
    "execution": {
     "iopub.execute_input": "2025-05-28T06:47:35.123003Z",
     "iopub.status.busy": "2025-05-28T06:47:35.122677Z",
     "iopub.status.idle": "2025-05-28T06:47:35.136293Z",
     "shell.execute_reply": "2025-05-28T06:47:35.134985Z"
    },
    "papermill": {
     "duration": 0.04137,
     "end_time": "2025-05-28T06:47:35.138133",
     "exception": false,
     "start_time": "2025-05-28T06:47:35.096763",
     "status": "completed"
    },
    "tags": []
   },
   "outputs": [
    {
     "name": "stdout",
     "output_type": "stream",
     "text": [
      "Language identification recall\n",
      "0.6305555555555555\n",
      "\n",
      "Speech/music classification recall\n",
      "0.9805555555555555\n"
     ]
    }
   ],
   "source": [
    "language_recall = recall_score(language_codes, language_preds, average='micro')\n",
    "content_recall = recall_score(labels, content_preds, average='micro')\n",
    "print('Language identification recall')\n",
    "print(language_recall)\n",
    "print('\\nSpeech/music classification recall')\n",
    "print(content_recall)"
   ]
  }
 ],
 "metadata": {
  "kaggle": {
   "accelerator": "none",
   "dataSources": [
    {
     "datasetId": 7516022,
     "sourceId": 11961970,
     "sourceType": "datasetVersion"
    },
    {
     "modelId": 350058,
     "modelInstanceId": 329247,
     "sourceId": 405908,
     "sourceType": "modelInstanceVersion"
    }
   ],
   "dockerImageVersionId": 31040,
   "isGpuEnabled": false,
   "isInternetEnabled": true,
   "language": "python",
   "sourceType": "notebook"
  },
  "kernelspec": {
   "display_name": "Python 3",
   "language": "python",
   "name": "python3"
  },
  "language_info": {
   "codemirror_mode": {
    "name": "ipython",
    "version": 3
   },
   "file_extension": ".py",
   "mimetype": "text/x-python",
   "name": "python",
   "nbconvert_exporter": "python",
   "pygments_lexer": "ipython3",
   "version": "3.11.11"
  },
  "papermill": {
   "default_parameters": {},
   "duration": 4911.309969,
   "end_time": "2025-05-28T06:47:38.124575",
   "environment_variables": {},
   "exception": null,
   "input_path": "__notebook__.ipynb",
   "output_path": "__notebook__.ipynb",
   "parameters": {},
   "start_time": "2025-05-28T05:25:46.814606",
   "version": "2.6.0"
  }
 },
 "nbformat": 4,
 "nbformat_minor": 5
}
