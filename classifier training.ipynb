{
 "cells": [
  {
   "cell_type": "code",
   "execution_count": 1,
   "id": "5c97c04d",
   "metadata": {
    "_cell_guid": "b1076dfc-b9ad-4769-8c92-a6c4dae69d19",
    "_uuid": "8f2839f25d086af736a60e9eeb907d3b93b6e0e5",
    "execution": {
     "iopub.execute_input": "2025-05-21T11:38:57.118268Z",
     "iopub.status.busy": "2025-05-21T11:38:57.117609Z",
     "iopub.status.idle": "2025-05-21T11:39:08.384065Z",
     "shell.execute_reply": "2025-05-21T11:39:08.383160Z"
    },
    "papermill": {
     "duration": 11.273019,
     "end_time": "2025-05-21T11:39:08.385622",
     "exception": false,
     "start_time": "2025-05-21T11:38:57.112603",
     "status": "completed"
    },
    "tags": []
   },
   "outputs": [],
   "source": [
    "import librosa\n",
    "import torch\n",
    "import numpy as np\n",
    "import pandas as pd\n",
    "import torch.nn as nn\n",
    "import torch.optim as optim\n",
    "import matplotlib.pyplot as plt\n",
    "from tqdm import tqdm\n",
    "from sklearn.metrics import accuracy_score, precision_score, recall_score, f1_score"
   ]
  },
  {
   "cell_type": "code",
   "execution_count": 2,
   "id": "cc0ac200",
   "metadata": {
    "execution": {
     "iopub.execute_input": "2025-05-21T11:39:08.393596Z",
     "iopub.status.busy": "2025-05-21T11:39:08.392850Z",
     "iopub.status.idle": "2025-05-21T11:40:50.658651Z",
     "shell.execute_reply": "2025-05-21T11:40:50.657696Z"
    },
    "papermill": {
     "duration": 102.271159,
     "end_time": "2025-05-21T11:40:50.660234",
     "exception": false,
     "start_time": "2025-05-21T11:39:08.389075",
     "status": "completed"
    },
    "tags": []
   },
   "outputs": [],
   "source": [
    "data = pd.read_parquet('/kaggle/input/speech-and-music-in-languages/speechAndMusicWLanguages.parquet')"
   ]
  },
  {
   "cell_type": "code",
   "execution_count": 3,
   "id": "21a78b30",
   "metadata": {
    "execution": {
     "iopub.execute_input": "2025-05-21T11:40:50.668746Z",
     "iopub.status.busy": "2025-05-21T11:40:50.668476Z",
     "iopub.status.idle": "2025-05-21T11:40:50.688833Z",
     "shell.execute_reply": "2025-05-21T11:40:50.688257Z"
    },
    "papermill": {
     "duration": 0.025786,
     "end_time": "2025-05-21T11:40:50.690052",
     "exception": false,
     "start_time": "2025-05-21T11:40:50.664266",
     "status": "completed"
    },
    "tags": []
   },
   "outputs": [],
   "source": [
    "data = data.sample(frac=1)"
   ]
  },
  {
   "cell_type": "code",
   "execution_count": 4,
   "id": "da58e12f",
   "metadata": {
    "execution": {
     "iopub.execute_input": "2025-05-21T11:40:50.697500Z",
     "iopub.status.busy": "2025-05-21T11:40:50.697008Z",
     "iopub.status.idle": "2025-05-21T11:40:50.701171Z",
     "shell.execute_reply": "2025-05-21T11:40:50.700478Z"
    },
    "papermill": {
     "duration": 0.00912,
     "end_time": "2025-05-21T11:40:50.702267",
     "exception": false,
     "start_time": "2025-05-21T11:40:50.693147",
     "status": "completed"
    },
    "tags": []
   },
   "outputs": [],
   "source": [
    "def preprocess(audio, sr=48000):\n",
    "    mel_spectrogram = librosa.feature.melspectrogram(y=audio, sr=sr)\n",
    "    log_mel_spectrogram = librosa.power_to_db(mel_spectrogram)\n",
    "    log_mel_spectrogram = (log_mel_spectrogram - np.mean(log_mel_spectrogram)) / np.std(log_mel_spectrogram)\n",
    "    return log_mel_spectrogram # (128, 282)"
   ]
  },
  {
   "cell_type": "code",
   "execution_count": 5,
   "id": "aabb2cd7",
   "metadata": {
    "execution": {
     "iopub.execute_input": "2025-05-21T11:40:50.709803Z",
     "iopub.status.busy": "2025-05-21T11:40:50.709109Z",
     "iopub.status.idle": "2025-05-21T11:40:50.712797Z",
     "shell.execute_reply": "2025-05-21T11:40:50.712080Z"
    },
    "papermill": {
     "duration": 0.008243,
     "end_time": "2025-05-21T11:40:50.713964",
     "exception": false,
     "start_time": "2025-05-21T11:40:50.705721",
     "status": "completed"
    },
    "tags": []
   },
   "outputs": [],
   "source": [
    "def labels_to_int(label):\n",
    "    if label == 'speech':\n",
    "        return 1\n",
    "    else:\n",
    "        return 0"
   ]
  },
  {
   "cell_type": "code",
   "execution_count": 6,
   "id": "88647e13",
   "metadata": {
    "execution": {
     "iopub.execute_input": "2025-05-21T11:40:50.721059Z",
     "iopub.status.busy": "2025-05-21T11:40:50.720612Z",
     "iopub.status.idle": "2025-05-21T11:40:50.732633Z",
     "shell.execute_reply": "2025-05-21T11:40:50.732110Z"
    },
    "papermill": {
     "duration": 0.016707,
     "end_time": "2025-05-21T11:40:50.733643",
     "exception": false,
     "start_time": "2025-05-21T11:40:50.716936",
     "status": "completed"
    },
    "tags": []
   },
   "outputs": [],
   "source": [
    "labels = data['label'].values.tolist()\n",
    "audios = data['array'].values.tolist()"
   ]
  },
  {
   "cell_type": "code",
   "execution_count": 7,
   "id": "de97246e",
   "metadata": {
    "execution": {
     "iopub.execute_input": "2025-05-21T11:40:50.740126Z",
     "iopub.status.busy": "2025-05-21T11:40:50.739947Z",
     "iopub.status.idle": "2025-05-21T11:40:50.762747Z",
     "shell.execute_reply": "2025-05-21T11:40:50.762114Z"
    },
    "papermill": {
     "duration": 0.027242,
     "end_time": "2025-05-21T11:40:50.763872",
     "exception": false,
     "start_time": "2025-05-21T11:40:50.736630",
     "status": "completed"
    },
    "tags": []
   },
   "outputs": [
    {
     "data": {
      "text/html": [
       "<div>\n",
       "<style scoped>\n",
       "    .dataframe tbody tr th:only-of-type {\n",
       "        vertical-align: middle;\n",
       "    }\n",
       "\n",
       "    .dataframe tbody tr th {\n",
       "        vertical-align: top;\n",
       "    }\n",
       "\n",
       "    .dataframe thead th {\n",
       "        text-align: right;\n",
       "    }\n",
       "</style>\n",
       "<table border=\"1\" class=\"dataframe\">\n",
       "  <thead>\n",
       "    <tr style=\"text-align: right;\">\n",
       "      <th></th>\n",
       "      <th>name</th>\n",
       "      <th>array</th>\n",
       "      <th>language_code</th>\n",
       "      <th>label</th>\n",
       "    </tr>\n",
       "  </thead>\n",
       "  <tbody>\n",
       "    <tr>\n",
       "      <th>3860</th>\n",
       "      <td>pt360speech</td>\n",
       "      <td>[0.0, 2.2471987e-15, 3.9839185e-14, 6.924954e-...</td>\n",
       "      <td>pt</td>\n",
       "      <td>speech</td>\n",
       "    </tr>\n",
       "    <tr>\n",
       "      <th>837</th>\n",
       "      <td>es337speech</td>\n",
       "      <td>[0.0, 2.274603e-14, -3.5452683e-15, 2.5475219e...</td>\n",
       "      <td>es</td>\n",
       "      <td>speech</td>\n",
       "    </tr>\n",
       "    <tr>\n",
       "      <th>7883</th>\n",
       "      <td>nl0_53music</td>\n",
       "      <td>[-0.025310567, 0.007154423, 0.036610972, 0.038...</td>\n",
       "      <td>nl</td>\n",
       "      <td>music</td>\n",
       "    </tr>\n",
       "  </tbody>\n",
       "</table>\n",
       "</div>"
      ],
      "text/plain": [
       "             name                                              array  \\\n",
       "3860  pt360speech  [0.0, 2.2471987e-15, 3.9839185e-14, 6.924954e-...   \n",
       "837   es337speech  [0.0, 2.274603e-14, -3.5452683e-15, 2.5475219e...   \n",
       "7883  nl0_53music  [-0.025310567, 0.007154423, 0.036610972, 0.038...   \n",
       "\n",
       "     language_code   label  \n",
       "3860            pt  speech  \n",
       "837             es  speech  \n",
       "7883            nl   music  "
      ]
     },
     "execution_count": 7,
     "metadata": {},
     "output_type": "execute_result"
    }
   ],
   "source": [
    "data.head(3)"
   ]
  },
  {
   "cell_type": "code",
   "execution_count": 8,
   "id": "5ade8afd",
   "metadata": {
    "execution": {
     "iopub.execute_input": "2025-05-21T11:40:50.770945Z",
     "iopub.status.busy": "2025-05-21T11:40:50.770725Z",
     "iopub.status.idle": "2025-05-21T11:40:50.870980Z",
     "shell.execute_reply": "2025-05-21T11:40:50.870281Z"
    },
    "papermill": {
     "duration": 0.105105,
     "end_time": "2025-05-21T11:40:50.872130",
     "exception": false,
     "start_time": "2025-05-21T11:40:50.767025",
     "status": "completed"
    },
    "tags": []
   },
   "outputs": [],
   "source": [
    "device = torch.device('cuda' if torch.cuda.is_available() else 'cpu')"
   ]
  },
  {
   "cell_type": "code",
   "execution_count": 9,
   "id": "865c8859",
   "metadata": {
    "execution": {
     "iopub.execute_input": "2025-05-21T11:40:50.879680Z",
     "iopub.status.busy": "2025-05-21T11:40:50.879264Z",
     "iopub.status.idle": "2025-05-21T11:40:50.884749Z",
     "shell.execute_reply": "2025-05-21T11:40:50.884192Z"
    },
    "papermill": {
     "duration": 0.010288,
     "end_time": "2025-05-21T11:40:50.885846",
     "exception": false,
     "start_time": "2025-05-21T11:40:50.875558",
     "status": "completed"
    },
    "tags": []
   },
   "outputs": [],
   "source": [
    "class AudioCNN(nn.Module):\n",
    "    def __init__(self):\n",
    "        super(AudioCNN, self).__init__()\n",
    "        self.conv1 = nn.Conv2d(1, 32, kernel_size=3, padding=1)\n",
    "        self.conv2 = nn.Conv2d(32, 64, kernel_size=3, padding=1)\n",
    "        self.pool = nn.MaxPool2d(2, 2)\n",
    "        self.dropout = nn.Dropout(p=0.3)\n",
    "        self.fc1 = nn.Linear(64 * 32 * 70, 128)\n",
    "        self.fc2 = nn.Linear(128, 1)\n",
    "        self.sigmoid = nn.Sigmoid()\n",
    "\n",
    "    def forward(self, x):\n",
    "        x = self.pool(torch.relu(self.conv1(x)))\n",
    "        x = self.dropout(x)\n",
    "        x = self.pool(torch.relu(self.conv2(x)))\n",
    "        x = self.dropout(x)\n",
    "        x = x.view(x.size(0), -1)\n",
    "        x = torch.relu(self.fc1(x))\n",
    "        x = self.dropout(x)\n",
    "        x = self.fc2(x)\n",
    "        x = self.sigmoid(x)\n",
    "        return x"
   ]
  },
  {
   "cell_type": "code",
   "execution_count": 10,
   "id": "d0eb5a0a",
   "metadata": {
    "execution": {
     "iopub.execute_input": "2025-05-21T11:40:50.892731Z",
     "iopub.status.busy": "2025-05-21T11:40:50.892532Z",
     "iopub.status.idle": "2025-05-21T11:40:50.897009Z",
     "shell.execute_reply": "2025-05-21T11:40:50.896405Z"
    },
    "papermill": {
     "duration": 0.009085,
     "end_time": "2025-05-21T11:40:50.898035",
     "exception": false,
     "start_time": "2025-05-21T11:40:50.888950",
     "status": "completed"
    },
    "tags": []
   },
   "outputs": [],
   "source": [
    "class AudioDataset(torch.utils.data.Dataset):\n",
    "    def __init__(self, audios, labels):\n",
    "        self.audios = audios\n",
    "        self.labels = labels\n",
    "\n",
    "    def __len__(self):\n",
    "        return len(self.audios)\n",
    "\n",
    "    def __getitem__(self, idx):\n",
    "        label = labels_to_int(self.labels[idx])\n",
    "        mel_spec = preprocess(self.audios[idx])\n",
    "        mel_spec = torch.tensor(mel_spec).unsqueeze(0).float()\n",
    "        label = torch.tensor(label).unsqueeze(0).float()\n",
    "        return mel_spec, label"
   ]
  },
  {
   "cell_type": "code",
   "execution_count": 11,
   "id": "11baf948",
   "metadata": {
    "execution": {
     "iopub.execute_input": "2025-05-21T11:40:50.905146Z",
     "iopub.status.busy": "2025-05-21T11:40:50.904955Z",
     "iopub.status.idle": "2025-05-21T11:40:50.908955Z",
     "shell.execute_reply": "2025-05-21T11:40:50.908403Z"
    },
    "papermill": {
     "duration": 0.008776,
     "end_time": "2025-05-21T11:40:50.909990",
     "exception": false,
     "start_time": "2025-05-21T11:40:50.901214",
     "status": "completed"
    },
    "tags": []
   },
   "outputs": [],
   "source": [
    "def plot_training_loss(losses):\n",
    "    epochs = range(1, len(losses) + 1)\n",
    "\n",
    "    plt.figure(figsize=(8, 6))\n",
    "    plt.plot(epochs, losses, label='Training Loss', color='blue')\n",
    "    plt.title('Training Loss')\n",
    "    plt.xlabel('Epochs')\n",
    "    plt.ylabel('Loss')\n",
    "    plt.legend()\n",
    "    plt.show()"
   ]
  },
  {
   "cell_type": "code",
   "execution_count": 12,
   "id": "1356411e",
   "metadata": {
    "execution": {
     "iopub.execute_input": "2025-05-21T11:40:50.917088Z",
     "iopub.status.busy": "2025-05-21T11:40:50.916903Z",
     "iopub.status.idle": "2025-05-21T11:40:50.922165Z",
     "shell.execute_reply": "2025-05-21T11:40:50.921661Z"
    },
    "papermill": {
     "duration": 0.010029,
     "end_time": "2025-05-21T11:40:50.923242",
     "exception": false,
     "start_time": "2025-05-21T11:40:50.913213",
     "status": "completed"
    },
    "tags": []
   },
   "outputs": [],
   "source": [
    "def train_model(model, train_loader, criterion, optimizer, num_epochs=20):\n",
    "    train_losses = []\n",
    "\n",
    "    for epoch in range(num_epochs):\n",
    "        model.train()\n",
    "        running_loss = 0.0\n",
    "\n",
    "        with tqdm(train_loader, desc=f'epoch {epoch+1}/{num_epochs}', unit='batch') as pbar:\n",
    "            for data in pbar:\n",
    "                inputs, labels = data\n",
    "                inputs, labels = inputs.to(device), labels.to(device)\n",
    "                optimizer.zero_grad()\n",
    "                outputs = model(inputs)\n",
    "                loss = criterion(outputs, labels)\n",
    "                loss.backward()\n",
    "                torch.nn.utils.clip_grad_norm_(model.parameters(), 1.0)\n",
    "                optimizer.step()\n",
    "                running_loss += loss.item()\n",
    "                pbar.set_postfix(loss=running_loss/len(train_loader))\n",
    "        epoch_loss = running_loss / len(train_loader)\n",
    "        train_losses.append(epoch_loss)\n",
    "        print(f\"Epoch {epoch+1}/{num_epochs} - Loss: {epoch_loss:.5f}\")\n",
    "    plot_training_loss(train_losses)"
   ]
  },
  {
   "cell_type": "code",
   "execution_count": 13,
   "id": "eed86cbc",
   "metadata": {
    "execution": {
     "iopub.execute_input": "2025-05-21T11:40:50.931106Z",
     "iopub.status.busy": "2025-05-21T11:40:50.930679Z",
     "iopub.status.idle": "2025-05-21T11:40:50.934615Z",
     "shell.execute_reply": "2025-05-21T11:40:50.933849Z"
    },
    "papermill": {
     "duration": 0.008812,
     "end_time": "2025-05-21T11:40:50.935825",
     "exception": false,
     "start_time": "2025-05-21T11:40:50.927013",
     "status": "completed"
    },
    "tags": []
   },
   "outputs": [],
   "source": [
    "train_dataset = AudioDataset(audios[:7199], labels[:7199])\n",
    "test_dataset = AudioDataset(audios[7200:-1], labels[7200:-1])"
   ]
  },
  {
   "cell_type": "code",
   "execution_count": 14,
   "id": "5c96ba42",
   "metadata": {
    "execution": {
     "iopub.execute_input": "2025-05-21T11:40:50.943173Z",
     "iopub.status.busy": "2025-05-21T11:40:50.942752Z",
     "iopub.status.idle": "2025-05-21T11:40:50.946980Z",
     "shell.execute_reply": "2025-05-21T11:40:50.946171Z"
    },
    "papermill": {
     "duration": 0.009201,
     "end_time": "2025-05-21T11:40:50.948242",
     "exception": false,
     "start_time": "2025-05-21T11:40:50.939041",
     "status": "completed"
    },
    "tags": []
   },
   "outputs": [],
   "source": [
    "train_loader = torch.utils.data.DataLoader(train_dataset, batch_size=16, shuffle=True)\n",
    "test_loader = torch.utils.data.DataLoader(test_dataset, batch_size=16, shuffle=True)"
   ]
  },
  {
   "cell_type": "code",
   "execution_count": 15,
   "id": "3dff6254",
   "metadata": {
    "execution": {
     "iopub.execute_input": "2025-05-21T11:40:50.955619Z",
     "iopub.status.busy": "2025-05-21T11:40:50.955354Z",
     "iopub.status.idle": "2025-05-21T11:40:57.577241Z",
     "shell.execute_reply": "2025-05-21T11:40:57.576641Z"
    },
    "papermill": {
     "duration": 6.627129,
     "end_time": "2025-05-21T11:40:57.578697",
     "exception": false,
     "start_time": "2025-05-21T11:40:50.951568",
     "status": "completed"
    },
    "tags": []
   },
   "outputs": [],
   "source": [
    "model = AudioCNN()\n",
    "model = model.to(device)\n",
    "criterion = nn.BCELoss()\n",
    "optimizer = optim.Adam(model.parameters(), lr=1e-4, weight_decay=1e-5)"
   ]
  },
  {
   "cell_type": "code",
   "execution_count": 16,
   "id": "b98bdd7e",
   "metadata": {
    "execution": {
     "iopub.execute_input": "2025-05-21T11:40:57.586540Z",
     "iopub.status.busy": "2025-05-21T11:40:57.586117Z",
     "iopub.status.idle": "2025-05-21T12:18:54.946513Z",
     "shell.execute_reply": "2025-05-21T12:18:54.945703Z"
    },
    "papermill": {
     "duration": 2277.365644,
     "end_time": "2025-05-21T12:18:54.947877",
     "exception": false,
     "start_time": "2025-05-21T11:40:57.582233",
     "status": "completed"
    },
    "tags": []
   },
   "outputs": [
    {
     "name": "stderr",
     "output_type": "stream",
     "text": [
      "epoch 1/20: 100%|██████████| 450/450 [02:15<00:00,  3.32batch/s, loss=0.101]\n"
     ]
    },
    {
     "name": "stdout",
     "output_type": "stream",
     "text": [
      "Epoch 1/20 - Loss: 0.10104\n"
     ]
    },
    {
     "name": "stderr",
     "output_type": "stream",
     "text": [
      "epoch 2/20: 100%|██████████| 450/450 [01:56<00:00,  3.88batch/s, loss=0.0347]\n"
     ]
    },
    {
     "name": "stdout",
     "output_type": "stream",
     "text": [
      "Epoch 2/20 - Loss: 0.03472\n"
     ]
    },
    {
     "name": "stderr",
     "output_type": "stream",
     "text": [
      "epoch 3/20: 100%|██████████| 450/450 [01:58<00:00,  3.81batch/s, loss=0.0127]\n"
     ]
    },
    {
     "name": "stdout",
     "output_type": "stream",
     "text": [
      "Epoch 3/20 - Loss: 0.01272\n"
     ]
    },
    {
     "name": "stderr",
     "output_type": "stream",
     "text": [
      "epoch 4/20: 100%|██████████| 450/450 [01:51<00:00,  4.04batch/s, loss=0.0101]\n"
     ]
    },
    {
     "name": "stdout",
     "output_type": "stream",
     "text": [
      "Epoch 4/20 - Loss: 0.01006\n"
     ]
    },
    {
     "name": "stderr",
     "output_type": "stream",
     "text": [
      "epoch 5/20: 100%|██████████| 450/450 [01:53<00:00,  3.97batch/s, loss=0.0053]\n"
     ]
    },
    {
     "name": "stdout",
     "output_type": "stream",
     "text": [
      "Epoch 5/20 - Loss: 0.00530\n"
     ]
    },
    {
     "name": "stderr",
     "output_type": "stream",
     "text": [
      "epoch 6/20: 100%|██████████| 450/450 [01:53<00:00,  3.96batch/s, loss=0.0026]\n"
     ]
    },
    {
     "name": "stdout",
     "output_type": "stream",
     "text": [
      "Epoch 6/20 - Loss: 0.00260\n"
     ]
    },
    {
     "name": "stderr",
     "output_type": "stream",
     "text": [
      "epoch 7/20: 100%|██████████| 450/450 [01:53<00:00,  3.97batch/s, loss=0.00271]\n"
     ]
    },
    {
     "name": "stdout",
     "output_type": "stream",
     "text": [
      "Epoch 7/20 - Loss: 0.00271\n"
     ]
    },
    {
     "name": "stderr",
     "output_type": "stream",
     "text": [
      "epoch 8/20: 100%|██████████| 450/450 [01:53<00:00,  3.98batch/s, loss=0.000462]\n"
     ]
    },
    {
     "name": "stdout",
     "output_type": "stream",
     "text": [
      "Epoch 8/20 - Loss: 0.00046\n"
     ]
    },
    {
     "name": "stderr",
     "output_type": "stream",
     "text": [
      "epoch 9/20: 100%|██████████| 450/450 [01:49<00:00,  4.12batch/s, loss=0.00219]\n"
     ]
    },
    {
     "name": "stdout",
     "output_type": "stream",
     "text": [
      "Epoch 9/20 - Loss: 0.00219\n"
     ]
    },
    {
     "name": "stderr",
     "output_type": "stream",
     "text": [
      "epoch 10/20: 100%|██████████| 450/450 [01:52<00:00,  3.99batch/s, loss=0.000386]\n"
     ]
    },
    {
     "name": "stdout",
     "output_type": "stream",
     "text": [
      "Epoch 10/20 - Loss: 0.00039\n"
     ]
    },
    {
     "name": "stderr",
     "output_type": "stream",
     "text": [
      "epoch 11/20: 100%|██████████| 450/450 [01:52<00:00,  3.99batch/s, loss=0.00129]\n"
     ]
    },
    {
     "name": "stdout",
     "output_type": "stream",
     "text": [
      "Epoch 11/20 - Loss: 0.00129\n"
     ]
    },
    {
     "name": "stderr",
     "output_type": "stream",
     "text": [
      "epoch 12/20: 100%|██████████| 450/450 [01:52<00:00,  3.99batch/s, loss=0.000504]\n"
     ]
    },
    {
     "name": "stdout",
     "output_type": "stream",
     "text": [
      "Epoch 12/20 - Loss: 0.00050\n"
     ]
    },
    {
     "name": "stderr",
     "output_type": "stream",
     "text": [
      "epoch 13/20: 100%|██████████| 450/450 [01:53<00:00,  3.98batch/s, loss=0.000651]\n"
     ]
    },
    {
     "name": "stdout",
     "output_type": "stream",
     "text": [
      "Epoch 13/20 - Loss: 0.00065\n"
     ]
    },
    {
     "name": "stderr",
     "output_type": "stream",
     "text": [
      "epoch 14/20: 100%|██████████| 450/450 [01:50<00:00,  4.07batch/s, loss=0.000486]\n"
     ]
    },
    {
     "name": "stdout",
     "output_type": "stream",
     "text": [
      "Epoch 14/20 - Loss: 0.00049\n"
     ]
    },
    {
     "name": "stderr",
     "output_type": "stream",
     "text": [
      "epoch 15/20: 100%|██████████| 450/450 [01:51<00:00,  4.03batch/s, loss=0.000354]\n"
     ]
    },
    {
     "name": "stdout",
     "output_type": "stream",
     "text": [
      "Epoch 15/20 - Loss: 0.00035\n"
     ]
    },
    {
     "name": "stderr",
     "output_type": "stream",
     "text": [
      "epoch 16/20: 100%|██████████| 450/450 [01:52<00:00,  3.98batch/s, loss=0.000501]\n"
     ]
    },
    {
     "name": "stdout",
     "output_type": "stream",
     "text": [
      "Epoch 16/20 - Loss: 0.00050\n"
     ]
    },
    {
     "name": "stderr",
     "output_type": "stream",
     "text": [
      "epoch 17/20: 100%|██████████| 450/450 [01:52<00:00,  4.00batch/s, loss=0.000933]\n"
     ]
    },
    {
     "name": "stdout",
     "output_type": "stream",
     "text": [
      "Epoch 17/20 - Loss: 0.00093\n"
     ]
    },
    {
     "name": "stderr",
     "output_type": "stream",
     "text": [
      "epoch 18/20: 100%|██████████| 450/450 [01:49<00:00,  4.11batch/s, loss=0.000581]\n"
     ]
    },
    {
     "name": "stdout",
     "output_type": "stream",
     "text": [
      "Epoch 18/20 - Loss: 0.00058\n"
     ]
    },
    {
     "name": "stderr",
     "output_type": "stream",
     "text": [
      "epoch 19/20: 100%|██████████| 450/450 [01:54<00:00,  3.94batch/s, loss=0.000623]\n"
     ]
    },
    {
     "name": "stdout",
     "output_type": "stream",
     "text": [
      "Epoch 19/20 - Loss: 0.00062\n"
     ]
    },
    {
     "name": "stderr",
     "output_type": "stream",
     "text": [
      "epoch 20/20: 100%|██████████| 450/450 [01:49<00:00,  4.10batch/s, loss=0.000118]\n"
     ]
    },
    {
     "name": "stdout",
     "output_type": "stream",
     "text": [
      "Epoch 20/20 - Loss: 0.00012\n"
     ]
    },
    {
     "data": {
      "image/png": "[encoded data removed]",
      "text/plain": [
       "<Figure size 800x600 with 1 Axes>"
      ]
     },
     "metadata": {},
     "output_type": "display_data"
    }
   ],
   "source": [
    "train_model(model, train_loader, criterion, optimizer)"
   ]
  },
  {
   "cell_type": "code",
   "execution_count": 17,
   "id": "09736566",
   "metadata": {
    "execution": {
     "iopub.execute_input": "2025-05-21T12:18:56.545181Z",
     "iopub.status.busy": "2025-05-21T12:18:56.544094Z",
     "iopub.status.idle": "2025-05-21T12:18:56.550633Z",
     "shell.execute_reply": "2025-05-21T12:18:56.550066Z"
    },
    "papermill": {
     "duration": 0.773627,
     "end_time": "2025-05-21T12:18:56.551768",
     "exception": false,
     "start_time": "2025-05-21T12:18:55.778141",
     "status": "completed"
    },
    "tags": []
   },
   "outputs": [],
   "source": [
    "def test_model(model, test_loader):\n",
    "    model.eval()\n",
    "    all_labels = []\n",
    "    all_preds = []\n",
    "\n",
    "    with torch.no_grad():\n",
    "        for data in test_loader:\n",
    "            inputs, labels = data\n",
    "            inputs, labels = inputs.to(device), labels.to(device)\n",
    "\n",
    "            outputs = model(inputs)\n",
    "\n",
    "            predicted = (outputs > 0.5).float()\n",
    "\n",
    "            all_labels.extend(labels.cpu().numpy())\n",
    "            all_preds.extend(predicted.cpu().numpy())\n",
    "\n",
    "    accuracy = accuracy_score(all_labels, all_preds)\n",
    "    precision = precision_score(all_labels, all_preds)\n",
    "    recall = recall_score(all_labels, all_preds)\n",
    "    f1 = f1_score(all_labels, all_preds)    \n",
    "    return accuracy, precision, recall, f1"
   ]
  },
  {
   "cell_type": "code",
   "execution_count": 18,
   "id": "b3e00ab3",
   "metadata": {
    "execution": {
     "iopub.execute_input": "2025-05-21T12:18:58.178519Z",
     "iopub.status.busy": "2025-05-21T12:18:58.178208Z",
     "iopub.status.idle": "2025-05-21T12:19:23.657760Z",
     "shell.execute_reply": "2025-05-21T12:19:23.656896Z"
    },
    "papermill": {
     "duration": 26.253355,
     "end_time": "2025-05-21T12:19:23.658942",
     "exception": false,
     "start_time": "2025-05-21T12:18:57.405587",
     "status": "completed"
    },
    "tags": []
   },
   "outputs": [
    {
     "name": "stdout",
     "output_type": "stream",
     "text": [
      "Test Results - Accuracy: 99.33296%, Precision: 1.00000, Recall: 0.98656, F1 Score: 0.99324\n"
     ]
    }
   ],
   "source": [
    "accuracy, precision, recall, f1 = test_model(model, test_loader)\n",
    "print(f\"Test Results - Accuracy: {accuracy*100:.5f}%, Precision: {precision:.5f}, Recall: {recall:.5f}, F1 Score: {f1:.5f}\")"
   ]
  },
  {
   "cell_type": "code",
   "execution_count": 19,
   "id": "925da3f6",
   "metadata": {
    "execution": {
     "iopub.execute_input": "2025-05-21T12:19:25.367967Z",
     "iopub.status.busy": "2025-05-21T12:19:25.367670Z",
     "iopub.status.idle": "2025-05-21T12:19:25.544940Z",
     "shell.execute_reply": "2025-05-21T12:19:25.544288Z"
    },
    "papermill": {
     "duration": 1.03333,
     "end_time": "2025-05-21T12:19:25.546325",
     "exception": false,
     "start_time": "2025-05-21T12:19:24.512995",
     "status": "completed"
    },
    "tags": []
   },
   "outputs": [],
   "source": [
    "torch.save(model.state_dict(), 'speech_music_classificator.pth')"
   ]
  },
  {
   "cell_type": "code",
   "execution_count": null,
   "id": "6080b02f",
   "metadata": {
    "papermill": {
     "duration": 0.76888,
     "end_time": "2025-05-21T12:19:27.143625",
     "exception": false,
     "start_time": "2025-05-21T12:19:26.374745",
     "status": "completed"
    },
    "tags": []
   },
   "outputs": [],
   "source": []
  }
 ],
 "metadata": {
  "kaggle": {
   "accelerator": "nvidiaTeslaT4",
   "dataSources": [
    {
     "datasetId": 7454483,
     "sourceId": 11863285,
     "sourceType": "datasetVersion"
    }
   ],
   "dockerImageVersionId": 31040,
   "isGpuEnabled": true,
   "isInternetEnabled": true,
   "language": "python",
   "sourceType": "notebook"
  },
  "kernelspec": {
   "display_name": "Python 3",
   "language": "python",
   "name": "python3"
  },
  "language_info": {
   "codemirror_mode": {
    "name": "ipython",
    "version": 3
   },
   "file_extension": ".py",
   "mimetype": "text/x-python",
   "name": "python",
   "nbconvert_exporter": "python",
   "pygments_lexer": "ipython3",
   "version": "3.11.11"
  },
  "papermill": {
   "default_parameters": {},
   "duration": 2439.596312,
   "end_time": "2025-05-21T12:19:30.698823",
   "environment_variables": {},
   "exception": null,
   "input_path": "__notebook__.ipynb",
   "output_path": "__notebook__.ipynb",
   "parameters": {},
   "start_time": "2025-05-21T11:38:51.102511",
   "version": "2.6.0"
  }
 },
 "nbformat": 4,
 "nbformat_minor": 5
}
