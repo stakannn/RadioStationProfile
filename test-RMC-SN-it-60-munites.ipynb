{
 "cells": [
  {
   "cell_type": "code",
   "execution_count": 1,
   "id": "5a084867",
   "metadata": {
    "execution": {
     "iopub.execute_input": "2025-05-28T01:36:22.614451Z",
     "iopub.status.busy": "2025-05-28T01:36:22.613972Z",
     "iopub.status.idle": "2025-05-28T01:36:41.082546Z",
     "shell.execute_reply": "2025-05-28T01:36:41.081243Z"
    },
    "papermill": {
     "duration": 18.476533,
     "end_time": "2025-05-28T01:36:41.084322",
     "exception": false,
     "start_time": "2025-05-28T01:36:22.607789",
     "status": "completed"
    },
    "tags": []
   },
   "outputs": [
    {
     "name": "stdout",
     "output_type": "stream",
     "text": [
      "Collecting openai-whisper\r\n",
      "  Downloading openai-whisper-20240930.tar.gz (800 kB)\r\n",
      "\u001b[2K     \u001b[90m━━━━━━━━━━━━━━━━━━━━━━━━━━━━━━━━━━━━━━━━\u001b[0m \u001b[32m800.5/800.5 kB\u001b[0m \u001b[31m16.9 MB/s\u001b[0m eta \u001b[36m0:00:00\u001b[0m\r\n",
      "\u001b[?25h  Installing build dependencies ... \u001b[?25l\u001b[?25hdone\r\n",
      "  Getting requirements to build wheel ... \u001b[?25l\u001b[?25hdone\r\n",
      "  Preparing metadata (pyproject.toml) ... \u001b[?25l\u001b[?25hdone\r\n",
      "Requirement already satisfied: numba in /usr/local/lib/python3.10/dist-packages (from openai-whisper) (0.60.0)\r\n",
      "Requirement already satisfied: numpy in /usr/local/lib/python3.10/dist-packages (from openai-whisper) (1.26.4)\r\n",
      "Requirement already satisfied: torch in /usr/local/lib/python3.10/dist-packages (from openai-whisper) (2.5.1+cu121)\r\n",
      "Requirement already satisfied: tqdm in /usr/local/lib/python3.10/dist-packages (from openai-whisper) (4.67.1)\r\n",
      "Requirement already satisfied: more-itertools in /usr/local/lib/python3.10/dist-packages (from openai-whisper) (10.5.0)\r\n",
      "Requirement already satisfied: tiktoken in /usr/local/lib/python3.10/dist-packages (from openai-whisper) (0.9.0)\r\n",
      "Collecting triton>=2.0.0 (from openai-whisper)\r\n",
      "  Downloading triton-3.3.0-cp310-cp310-manylinux_2_27_x86_64.manylinux_2_28_x86_64.whl.metadata (1.5 kB)\r\n",
      "Requirement already satisfied: setuptools>=40.8.0 in /usr/local/lib/python3.10/dist-packages (from triton>=2.0.0->openai-whisper) (75.1.0)\r\n",
      "Requirement already satisfied: llvmlite<0.44,>=0.43.0dev0 in /usr/local/lib/python3.10/dist-packages (from numba->openai-whisper) (0.43.0)\r\n",
      "Requirement already satisfied: mkl_fft in /usr/local/lib/python3.10/dist-packages (from numpy->openai-whisper) (1.3.8)\r\n",
      "Requirement already satisfied: mkl_random in /usr/local/lib/python3.10/dist-packages (from numpy->openai-whisper) (1.2.4)\r\n",
      "Requirement already satisfied: mkl_umath in /usr/local/lib/python3.10/dist-packages (from numpy->openai-whisper) (0.1.1)\r\n",
      "Requirement already satisfied: mkl in /usr/local/lib/python3.10/dist-packages (from numpy->openai-whisper) (2025.0.1)\r\n",
      "Requirement already satisfied: tbb4py in /usr/local/lib/python3.10/dist-packages (from numpy->openai-whisper) (2022.0.0)\r\n",
      "Requirement already satisfied: mkl-service in /usr/local/lib/python3.10/dist-packages (from numpy->openai-whisper) (2.4.1)\r\n",
      "Requirement already satisfied: regex>=2022.1.18 in /usr/local/lib/python3.10/dist-packages (from tiktoken->openai-whisper) (2024.11.6)\r\n",
      "Requirement already satisfied: requests>=2.26.0 in /usr/local/lib/python3.10/dist-packages (from tiktoken->openai-whisper) (2.32.3)\r\n",
      "Requirement already satisfied: filelock in /usr/local/lib/python3.10/dist-packages (from torch->openai-whisper) (3.17.0)\r\n",
      "Requirement already satisfied: typing-extensions>=4.8.0 in /usr/local/lib/python3.10/dist-packages (from torch->openai-whisper) (4.12.2)\r\n",
      "Requirement already satisfied: networkx in /usr/local/lib/python3.10/dist-packages (from torch->openai-whisper) (3.4.2)\r\n",
      "Requirement already satisfied: jinja2 in /usr/local/lib/python3.10/dist-packages (from torch->openai-whisper) (3.1.4)\r\n",
      "Requirement already satisfied: fsspec in /usr/local/lib/python3.10/dist-packages (from torch->openai-whisper) (2024.12.0)\r\n",
      "Requirement already satisfied: sympy==1.13.1 in /usr/local/lib/python3.10/dist-packages (from torch->openai-whisper) (1.13.1)\r\n",
      "Requirement already satisfied: mpmath<1.4,>=1.1.0 in /usr/local/lib/python3.10/dist-packages (from sympy==1.13.1->torch->openai-whisper) (1.3.0)\r\n",
      "Requirement already satisfied: charset-normalizer<4,>=2 in /usr/local/lib/python3.10/dist-packages (from requests>=2.26.0->tiktoken->openai-whisper) (3.4.1)\r\n",
      "Requirement already satisfied: idna<4,>=2.5 in /usr/local/lib/python3.10/dist-packages (from requests>=2.26.0->tiktoken->openai-whisper) (3.10)\r\n",
      "Requirement already satisfied: urllib3<3,>=1.21.1 in /usr/local/lib/python3.10/dist-packages (from requests>=2.26.0->tiktoken->openai-whisper) (2.3.0)\r\n",
      "Requirement already satisfied: certifi>=2017.4.17 in /usr/local/lib/python3.10/dist-packages (from requests>=2.26.0->tiktoken->openai-whisper) (2025.1.31)\r\n",
      "Requirement already satisfied: MarkupSafe>=2.0 in /usr/local/lib/python3.10/dist-packages (from jinja2->torch->openai-whisper) (3.0.2)\r\n",
      "Requirement already satisfied: intel-openmp>=2024 in /usr/local/lib/python3.10/dist-packages (from mkl->numpy->openai-whisper) (2024.2.0)\r\n",
      "Requirement already satisfied: tbb==2022.* in /usr/local/lib/python3.10/dist-packages (from mkl->numpy->openai-whisper) (2022.0.0)\r\n",
      "Requirement already satisfied: tcmlib==1.* in /usr/local/lib/python3.10/dist-packages (from tbb==2022.*->mkl->numpy->openai-whisper) (1.2.0)\r\n",
      "Requirement already satisfied: intel-cmplr-lib-rt in /usr/local/lib/python3.10/dist-packages (from mkl_umath->numpy->openai-whisper) (2024.2.0)\r\n",
      "Requirement already satisfied: intel-cmplr-lib-ur==2024.2.0 in /usr/local/lib/python3.10/dist-packages (from intel-openmp>=2024->mkl->numpy->openai-whisper) (2024.2.0)\r\n",
      "Downloading triton-3.3.0-cp310-cp310-manylinux_2_27_x86_64.manylinux_2_28_x86_64.whl (156.4 MB)\r\n",
      "\u001b[2K   \u001b[90m━━━━━━━━━━━━━━━━━━━━━━━━━━━━━━━━━━━━━━━━\u001b[0m \u001b[32m156.4/156.4 MB\u001b[0m \u001b[31m195.2 MB/s\u001b[0m eta \u001b[36m0:00:00\u001b[0m\r\n",
      "\u001b[?25hBuilding wheels for collected packages: openai-whisper\r\n",
      "  Building wheel for openai-whisper (pyproject.toml) ... \u001b[?25l\u001b[?25hdone\r\n",
      "  Created wheel for openai-whisper: filename=openai_whisper-20240930-py3-none-any.whl size=803404 sha256=4f2e5351a239786795e0522136d16b86a96578b7862e30d46dedd1a0e4ff8dea\r\n",
      "  Stored in directory: /tmp/pip-ephem-wheel-cache-ffizbt_a/wheels/dd/4a/1f/d1c4bf3b9133c8168fe617ed979cab7b14fe381d059ffb9d83\r\n",
      "Successfully built openai-whisper\r\n",
      "Installing collected packages: triton, openai-whisper\r\n",
      "Successfully installed openai-whisper-20240930 triton-3.3.0\r\n",
      "Note: you may need to restart the kernel to use updated packages.\n"
     ]
    }
   ],
   "source": [
    "pip install openai-whisper --no-cache-dir"
   ]
  },
  {
   "cell_type": "code",
   "execution_count": 2,
   "id": "8ee75cad",
   "metadata": {
    "execution": {
     "iopub.execute_input": "2025-05-28T01:36:41.097806Z",
     "iopub.status.busy": "2025-05-28T01:36:41.097485Z",
     "iopub.status.idle": "2025-05-28T01:36:48.256588Z",
     "shell.execute_reply": "2025-05-28T01:36:48.255663Z"
    },
    "papermill": {
     "duration": 7.167667,
     "end_time": "2025-05-28T01:36:48.258461",
     "exception": false,
     "start_time": "2025-05-28T01:36:41.090794",
     "status": "completed"
    },
    "tags": []
   },
   "outputs": [],
   "source": [
    "import re\n",
    "import time\n",
    "import torch\n",
    "import whisper\n",
    "import librosa\n",
    "import datetime\n",
    "import requests\n",
    "import pandas as pd\n",
    "import numpy as np\n",
    "import torch.nn as nn\n",
    "import plotly.graph_objects as go\n",
    "from collections import Counter"
   ]
  },
  {
   "cell_type": "code",
   "execution_count": 3,
   "id": "d74eb516",
   "metadata": {
    "execution": {
     "iopub.execute_input": "2025-05-28T01:36:48.271842Z",
     "iopub.status.busy": "2025-05-28T01:36:48.271277Z",
     "iopub.status.idle": "2025-05-28T01:36:48.278642Z",
     "shell.execute_reply": "2025-05-28T01:36:48.277732Z"
    },
    "papermill": {
     "duration": 0.015725,
     "end_time": "2025-05-28T01:36:48.280153",
     "exception": false,
     "start_time": "2025-05-28T01:36:48.264428",
     "status": "completed"
    },
    "tags": []
   },
   "outputs": [],
   "source": [
    "class AudioCNN(nn.Module):\n",
    "    def __init__(self):\n",
    "        super(AudioCNN, self).__init__()\n",
    "        self.conv1 = nn.Conv2d(1, 32, kernel_size=3, padding=1)\n",
    "        self.conv2 = nn.Conv2d(32, 64, kernel_size=3, padding=1)\n",
    "        self.pool = nn.MaxPool2d(2, 2)\n",
    "        self.dropout = nn.Dropout(p=0.3)\n",
    "        self.fc1 = nn.Linear(64 * 32 * 70, 128)\n",
    "        self.fc2 = nn.Linear(128, 1)\n",
    "        self.sigmoid = nn.Sigmoid()\n",
    "\n",
    "    def forward(self, x):\n",
    "        x = self.pool(torch.relu(self.conv1(x)))\n",
    "        x = self.dropout(x)\n",
    "        x = self.pool(torch.relu(self.conv2(x)))\n",
    "        x = self.dropout(x)\n",
    "        x = x.view(x.size(0), -1)\n",
    "        x = torch.relu(self.fc1(x))\n",
    "        x = self.dropout(x)\n",
    "        x = self.fc2(x)\n",
    "        x = self.sigmoid(x)\n",
    "        return x"
   ]
  },
  {
   "cell_type": "code",
   "execution_count": 4,
   "id": "d115bcd7",
   "metadata": {
    "execution": {
     "iopub.execute_input": "2025-05-28T01:36:48.293703Z",
     "iopub.status.busy": "2025-05-28T01:36:48.293357Z",
     "iopub.status.idle": "2025-05-28T01:36:49.169170Z",
     "shell.execute_reply": "2025-05-28T01:36:49.168161Z"
    },
    "papermill": {
     "duration": 0.884464,
     "end_time": "2025-05-28T01:36:49.170856",
     "exception": false,
     "start_time": "2025-05-28T01:36:48.286392",
     "status": "completed"
    },
    "tags": []
   },
   "outputs": [
    {
     "data": {
      "text/plain": [
       "AudioCNN(\n",
       "  (conv1): Conv2d(1, 32, kernel_size=(3, 3), stride=(1, 1), padding=(1, 1))\n",
       "  (conv2): Conv2d(32, 64, kernel_size=(3, 3), stride=(1, 1), padding=(1, 1))\n",
       "  (pool): MaxPool2d(kernel_size=2, stride=2, padding=0, dilation=1, ceil_mode=False)\n",
       "  (dropout): Dropout(p=0.3, inplace=False)\n",
       "  (fc1): Linear(in_features=143360, out_features=128, bias=True)\n",
       "  (fc2): Linear(in_features=128, out_features=1, bias=True)\n",
       "  (sigmoid): Sigmoid()\n",
       ")"
      ]
     },
     "execution_count": 4,
     "metadata": {},
     "output_type": "execute_result"
    }
   ],
   "source": [
    "classificatorModel = AudioCNN()\n",
    "classificatorModel.load_state_dict(torch.load('/kaggle/input/speechmusicclassificator/pytorch/default/2/speech_music_classificator.pth', map_location='cpu', weights_only=True))\n",
    "classificatorModel.eval()"
   ]
  },
  {
   "cell_type": "code",
   "execution_count": 5,
   "id": "aafb322d",
   "metadata": {
    "execution": {
     "iopub.execute_input": "2025-05-28T01:36:49.184387Z",
     "iopub.status.busy": "2025-05-28T01:36:49.184033Z",
     "iopub.status.idle": "2025-05-28T01:37:30.583525Z",
     "shell.execute_reply": "2025-05-28T01:37:30.582600Z"
    },
    "papermill": {
     "duration": 41.408316,
     "end_time": "2025-05-28T01:37:30.585408",
     "exception": false,
     "start_time": "2025-05-28T01:36:49.177092",
     "status": "completed"
    },
    "tags": []
   },
   "outputs": [
    {
     "name": "stderr",
     "output_type": "stream",
     "text": [
      "100%|█████████████████████████████████████| 1.42G/1.42G [00:22<00:00, 67.8MiB/s]\n",
      "/usr/local/lib/python3.10/dist-packages/whisper/__init__.py:150: FutureWarning: You are using `torch.load` with `weights_only=False` (the current default value), which uses the default pickle module implicitly. It is possible to construct malicious pickle data which will execute arbitrary code during unpickling (See https://github.com/pytorch/pytorch/blob/main/SECURITY.md#untrusted-models for more details). In a future release, the default value for `weights_only` will be flipped to `True`. This limits the functions that could be executed during unpickling. Arbitrary objects will no longer be allowed to be loaded via this mode unless they are explicitly allowlisted by the user via `torch.serialization.add_safe_globals`. We recommend you start setting `weights_only=True` for any use case where you don't have full control of the loaded file. Please open an issue on GitHub for any issues related to this experimental feature.\n",
      "  checkpoint = torch.load(fp, map_location=device)\n"
     ]
    }
   ],
   "source": [
    "languageIdentifierModel = whisper.load_model('medium')"
   ]
  },
  {
   "cell_type": "code",
   "execution_count": 6,
   "id": "0961291c",
   "metadata": {
    "execution": {
     "iopub.execute_input": "2025-05-28T01:37:30.620897Z",
     "iopub.status.busy": "2025-05-28T01:37:30.620520Z",
     "iopub.status.idle": "2025-05-28T01:37:30.624632Z",
     "shell.execute_reply": "2025-05-28T01:37:30.623628Z"
    },
    "papermill": {
     "duration": 0.023255,
     "end_time": "2025-05-28T01:37:30.626246",
     "exception": false,
     "start_time": "2025-05-28T01:37:30.602991",
     "status": "completed"
    },
    "tags": []
   },
   "outputs": [],
   "source": [
    "stream = 'https://stream22.tmwradio.com/tmw.mp3'"
   ]
  },
  {
   "cell_type": "code",
   "execution_count": 7,
   "id": "8b8c33de",
   "metadata": {
    "execution": {
     "iopub.execute_input": "2025-05-28T01:37:30.661490Z",
     "iopub.status.busy": "2025-05-28T01:37:30.661120Z",
     "iopub.status.idle": "2025-05-28T01:37:30.665818Z",
     "shell.execute_reply": "2025-05-28T01:37:30.664976Z"
    },
    "papermill": {
     "duration": 0.024343,
     "end_time": "2025-05-28T01:37:30.667317",
     "exception": false,
     "start_time": "2025-05-28T01:37:30.642974",
     "status": "completed"
    },
    "tags": []
   },
   "outputs": [],
   "source": [
    "def recorder(stream_url):\n",
    "    with open('piece.mp3', 'wb') as f:\n",
    "        r = requests.get(stream_url, stream=True)\n",
    "        for block in r.iter_content(50000):\n",
    "            f.write(block)\n",
    "            break\n",
    "    return 'piece.mp3'"
   ]
  },
  {
   "cell_type": "code",
   "execution_count": 8,
   "id": "9b784990",
   "metadata": {
    "execution": {
     "iopub.execute_input": "2025-05-28T01:37:30.701423Z",
     "iopub.status.busy": "2025-05-28T01:37:30.701031Z",
     "iopub.status.idle": "2025-05-28T01:37:30.705679Z",
     "shell.execute_reply": "2025-05-28T01:37:30.704831Z"
    },
    "papermill": {
     "duration": 0.023241,
     "end_time": "2025-05-28T01:37:30.707050",
     "exception": false,
     "start_time": "2025-05-28T01:37:30.683809",
     "status": "completed"
    },
    "tags": []
   },
   "outputs": [],
   "source": [
    "def language_identifier(audio):\n",
    "    audio = whisper.load_audio(audio)\n",
    "    audio = whisper.pad_or_trim(audio)\n",
    "    mel = whisper.log_mel_spectrogram(audio, n_mels=languageIdentifierModel.dims.n_mels)\n",
    "    _, probs = languageIdentifierModel.detect_language(mel)\n",
    "    return max(probs, key=probs.get)"
   ]
  },
  {
   "cell_type": "code",
   "execution_count": 9,
   "id": "3cea2e3f",
   "metadata": {
    "execution": {
     "iopub.execute_input": "2025-05-28T01:37:30.741493Z",
     "iopub.status.busy": "2025-05-28T01:37:30.741063Z",
     "iopub.status.idle": "2025-05-28T01:37:30.746133Z",
     "shell.execute_reply": "2025-05-28T01:37:30.745145Z"
    },
    "papermill": {
     "duration": 0.024047,
     "end_time": "2025-05-28T01:37:30.747860",
     "exception": false,
     "start_time": "2025-05-28T01:37:30.723813",
     "status": "completed"
    },
    "tags": []
   },
   "outputs": [],
   "source": [
    "def preprocess(audio, sr=48000):\n",
    "    mel_spectrogram = librosa.feature.melspectrogram(y=audio, sr=sr)\n",
    "    log_mel_spectrogram = librosa.power_to_db(mel_spectrogram)\n",
    "    log_mel_spectrogram = (log_mel_spectrogram - np.mean(log_mel_spectrogram)) / np.std(log_mel_spectrogram)\n",
    "    return log_mel_spectrogram # (128, 282)"
   ]
  },
  {
   "cell_type": "code",
   "execution_count": 10,
   "id": "384121a0",
   "metadata": {
    "execution": {
     "iopub.execute_input": "2025-05-28T01:37:30.782659Z",
     "iopub.status.busy": "2025-05-28T01:37:30.782256Z",
     "iopub.status.idle": "2025-05-28T01:37:30.787502Z",
     "shell.execute_reply": "2025-05-28T01:37:30.786603Z"
    },
    "papermill": {
     "duration": 0.024417,
     "end_time": "2025-05-28T01:37:30.789060",
     "exception": false,
     "start_time": "2025-05-28T01:37:30.764643",
     "status": "completed"
    },
    "tags": []
   },
   "outputs": [],
   "source": [
    "def speech_music_classificator(audio):\n",
    "    array, sampling_rate = librosa.load(audio, dtype='float32', sr=48000)\n",
    "    array = preprocess(array[:144000])\n",
    "    array = torch.tensor(array).unsqueeze(0).unsqueeze(0).float()\n",
    "    with torch.no_grad():\n",
    "        output = classificatorModel(array)\n",
    "    prediction = output.item()\n",
    "    prediction = 'music' if prediction < 0.5 else 'speech'\n",
    "    return prediction"
   ]
  },
  {
   "cell_type": "code",
   "execution_count": 11,
   "id": "2b8d9f43",
   "metadata": {
    "execution": {
     "iopub.execute_input": "2025-05-28T01:37:30.823213Z",
     "iopub.status.busy": "2025-05-28T01:37:30.822887Z",
     "iopub.status.idle": "2025-05-28T01:37:30.831414Z",
     "shell.execute_reply": "2025-05-28T01:37:30.830386Z"
    },
    "papermill": {
     "duration": 0.027466,
     "end_time": "2025-05-28T01:37:30.832998",
     "exception": false,
     "start_time": "2025-05-28T01:37:30.805532",
     "status": "completed"
    },
    "tags": []
   },
   "outputs": [],
   "source": [
    "LANGUAGES = {'en': 'english', 'zh': 'chinese', 'de': 'german', 'es': 'spanish', 'ru': 'russian', 'ko': 'korean', 'fr': 'french', 'ja': 'japanese', 'pt': 'portuguese', 'tr': 'turkish', 'pl': 'polish', 'ca': 'catalan', 'nl': 'dutch', 'ar': 'arabic', 'sv': 'swedish', 'it': 'italian', 'id': 'indonesian', 'hi': 'hindi', 'fi': 'finnish', 'vi': 'vietnamese', 'he': 'hebrew', 'uk': 'ukrainian', 'el': 'greek', 'ms': 'malay', 'cs': 'czech', 'ro': 'romanian', 'da': 'danish', 'hu': 'hungarian', 'ta': 'tamil', 'no': 'norwegian', 'th': 'thai', 'ur': 'urdu', 'hr': 'croatian', 'bg': 'bulgarian', 'lt': 'lithuanian', 'la': 'latin', 'mi': 'maori', 'ml': 'malayalam', 'cy': 'welsh', 'sk': 'slovak', 'te': 'telugu', 'fa': 'persian', 'lv': 'latvian', 'bn': 'bengali', 'sr': 'serbian', 'az': 'azerbaijani', 'sl': 'slovenian', 'kn': 'kannada', 'et': 'estonian', 'mk': 'macedonian', 'br': 'breton', 'eu': 'basque', 'is': 'icelandic', 'hy': 'armenian', 'ne': 'nepali', 'mn': 'mongolian', 'bs': 'bosnian', 'kk': 'kazakh', 'sq': 'albanian', 'sw': 'swahili', 'gl': 'galician', 'mr': 'marathi', 'pa': 'punjabi', 'si': 'sinhala', 'km': 'khmer', 'sn': 'shona', 'yo': 'yoruba', 'so': 'somali', 'af': 'afrikaans', 'oc': 'occitan', 'ka': 'georgian', 'be': 'belarusian', 'tg': 'tajik', 'sd': 'sindhi', 'gu': 'gujarati', 'am': 'amharic', 'yi': 'yiddish', 'lo': 'lao', 'uz': 'uzbek', 'fo': 'faroese', 'ht': 'haitian creole', 'ps': 'pashto', 'tk': 'turkmen', 'nn': 'nynorsk', 'mt': 'maltese', 'sa': 'sanskrit', 'lb': 'luxembourgish', 'my': 'myanmar', 'bo': 'tibetan', 'tl': 'tagalog', 'mg': 'malagasy', 'as': 'assamese', 'tt': 'tatar', 'haw': 'hawaiian', 'ln': 'lingala', 'ha': 'hausa', 'ba': 'bashkir', 'jw': 'javanese', 'su': 'sundanese', 'yue': 'cantonese'}"
   ]
  },
  {
   "cell_type": "code",
   "execution_count": 12,
   "id": "282095a6",
   "metadata": {
    "execution": {
     "iopub.execute_input": "2025-05-28T01:37:30.868120Z",
     "iopub.status.busy": "2025-05-28T01:37:30.867780Z",
     "iopub.status.idle": "2025-05-28T01:37:30.875211Z",
     "shell.execute_reply": "2025-05-28T01:37:30.874081Z"
    },
    "papermill": {
     "duration": 0.026777,
     "end_time": "2025-05-28T01:37:30.876864",
     "exception": false,
     "start_time": "2025-05-28T01:37:30.850087",
     "status": "completed"
    },
    "tags": []
   },
   "outputs": [],
   "source": [
    "def plot_drawer(statistics, radioname, plot_num, include_plotlyjs=False):\n",
    "    statistics_counted = {\n",
    "        'speech': Counter(statistics['speech']),\n",
    "        'music': Counter(statistics['music'])\n",
    "    }\n",
    "\n",
    "    labels = []\n",
    "    parents = []\n",
    "    values = []\n",
    "    ids = []\n",
    "\n",
    "    for category in ['speech', 'music']:\n",
    "        total = sum(statistics_counted[category].values())\n",
    "        labels.append(category)\n",
    "        ids.append(category)\n",
    "        parents.append('')\n",
    "        values.append(total)\n",
    "    \n",
    "        for lang, count in statistics_counted[category].items():\n",
    "            node_id = f\"{category}-{lang}\"\n",
    "            labels.append(lang)\n",
    "            ids.append(node_id)\n",
    "            parents.append(category)\n",
    "            values.append(count)\n",
    "\n",
    "    fig = go.Figure(go.Sunburst(\n",
    "        labels=labels,\n",
    "        parents=parents,\n",
    "        values=values,\n",
    "        ids=ids,\n",
    "        branchvalues='total',\n",
    "        hoverinfo='label+value+percent parent'\n",
    "    ))\n",
    "    \n",
    "    fig.update_layout(\n",
    "        title=radioname,\n",
    "        margin=dict(t=40, l=10, r=10, b=10)\n",
    "    )\n",
    "\n",
    "    return fig.to_html(full_html=False, include_plotlyjs=include_plotlyjs)"
   ]
  },
  {
   "cell_type": "code",
   "execution_count": 13,
   "id": "020449eb",
   "metadata": {
    "execution": {
     "iopub.execute_input": "2025-05-28T01:37:30.911948Z",
     "iopub.status.busy": "2025-05-28T01:37:30.911615Z",
     "iopub.status.idle": "2025-05-28T01:37:30.919654Z",
     "shell.execute_reply": "2025-05-28T01:37:30.918710Z"
    },
    "papermill": {
     "duration": 0.027288,
     "end_time": "2025-05-28T01:37:30.921179",
     "exception": false,
     "start_time": "2025-05-28T01:37:30.893891",
     "status": "completed"
    },
    "tags": []
   },
   "outputs": [],
   "source": [
    "def system(stream, minutes, plots=1):\n",
    "    html_start = f'''\n",
    "    <!DOCTYPE html>\n",
    "    <html>\n",
    "    <head>\n",
    "        <meta charset=\"utf-8\">\n",
    "        <title>Combined Plotly Charts</title>\n",
    "    </head>\n",
    "    <body>\n",
    "    \n",
    "    '''\n",
    "    html_end = f'''\n",
    "    </body>\n",
    "    </html>\n",
    "    '''\n",
    "    statistics = {\n",
    "        'speech': [],\n",
    "        'music': []\n",
    "    }\n",
    "    start_time = time.time()\n",
    "    print(f'started at: {time.ctime(start_time + 60*60*3)}')\n",
    "    finish_time = start_time + 60 * minutes\n",
    "    plot_interval = 60 * minutes / plots\n",
    "    next_plot_time = start_time + plot_interval\n",
    "    plots_shown = 0\n",
    "    while time.time() < finish_time:\n",
    "        current_time = time.time()\n",
    "        if plots_shown < plots and current_time >= next_plot_time:\n",
    "            if plots_shown == 0:\n",
    "                html_start += '<\\n>' + plot_drawer(statistics, f'Plot {plots_shown + 1}', plots_shown + 1, 'cdn')\n",
    "            else:\n",
    "                html_start += '<\\n>' + plot_drawer(statistics, f'Plot {plots_shown + 1}', plots_shown + 1)\n",
    "            plots_shown += 1\n",
    "            next_plot_time = current_time + plot_interval * (plots_shown + 1)\n",
    "        audio = recorder(stream)\n",
    "        language = language_identifier(audio)\n",
    "        content = speech_music_classificator(audio)\n",
    "        statistics[content].append(LANGUAGES[language])\n",
    "    finish_time = time.time()\n",
    "    print(f'started at: {time.ctime(finish_time + 60*60*3)}')\n",
    "    if plots == 1:\n",
    "        html_start += '<\\n>' + plot_drawer(statistics, f'Final plot', 'final', 'cdn') + '<br/>'\n",
    "    else:\n",
    "        html_start += '<\\n>' + plot_drawer(statistics, f'Final plot', 'final') + '<br/>'\n",
    "    full_html = html_start + html_end\n",
    "    with open('charts.html', 'w') as html_f:\n",
    "        html_f.write(full_html)"
   ]
  },
  {
   "cell_type": "code",
   "execution_count": 14,
   "id": "ccbad289",
   "metadata": {
    "execution": {
     "iopub.execute_input": "2025-05-28T01:37:30.955061Z",
     "iopub.status.busy": "2025-05-28T01:37:30.954728Z",
     "iopub.status.idle": "2025-05-28T02:37:43.637095Z",
     "shell.execute_reply": "2025-05-28T02:37:43.635672Z"
    },
    "papermill": {
     "duration": 3612.702018,
     "end_time": "2025-05-28T02:37:43.639536",
     "exception": false,
     "start_time": "2025-05-28T01:37:30.937518",
     "status": "completed"
    },
    "tags": []
   },
   "outputs": [
    {
     "name": "stdout",
     "output_type": "stream",
     "text": [
      "started at: Wed May 28 04:37:30 2025\n",
      "started at: Wed May 28 05:37:43 2025\n"
     ]
    }
   ],
   "source": [
    "system(stream, minutes=60)"
   ]
  },
  {
   "cell_type": "code",
   "execution_count": null,
   "id": "bc68d19c",
   "metadata": {
    "papermill": {
     "duration": 0.016734,
     "end_time": "2025-05-28T02:37:43.673314",
     "exception": false,
     "start_time": "2025-05-28T02:37:43.656580",
     "status": "completed"
    },
    "tags": []
   },
   "outputs": [],
   "source": []
  }
 ],
 "metadata": {
  "kaggle": {
   "accelerator": "none",
   "dataSources": [
    {
     "isSourceIdPinned": true,
     "modelId": 350058,
     "modelInstanceId": 329247,
     "sourceId": 405908,
     "sourceType": "modelInstanceVersion"
    }
   ],
   "dockerImageVersionId": 30918,
   "isGpuEnabled": false,
   "isInternetEnabled": true,
   "language": "python",
   "sourceType": "notebook"
  },
  "kernelspec": {
   "display_name": "Python 3",
   "language": "python",
   "name": "python3"
  },
  "language_info": {
   "codemirror_mode": {
    "name": "ipython",
    "version": 3
   },
   "file_extension": ".py",
   "mimetype": "text/x-python",
   "name": "python",
   "nbconvert_exporter": "python",
   "pygments_lexer": "ipython3",
   "version": "3.10.12"
  },
  "papermill": {
   "default_parameters": {},
   "duration": 3687.099132,
   "end_time": "2025-05-28T02:37:46.425520",
   "environment_variables": {},
   "exception": null,
   "input_path": "__notebook__.ipynb",
   "output_path": "__notebook__.ipynb",
   "parameters": {},
   "start_time": "2025-05-28T01:36:19.326388",
   "version": "2.6.0"
  }
 },
 "nbformat": 4,
 "nbformat_minor": 5
}
