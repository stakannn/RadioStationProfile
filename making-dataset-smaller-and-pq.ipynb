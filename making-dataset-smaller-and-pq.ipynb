{
 "cells": [
  {
   "cell_type": "code",
   "execution_count": 1,
   "id": "1232e171",
   "metadata": {
    "_cell_guid": "b1076dfc-b9ad-4769-8c92-a6c4dae69d19",
    "_uuid": "8f2839f25d086af736a60e9eeb907d3b93b6e0e5",
    "execution": {
     "iopub.execute_input": "2025-05-26T18:53:16.436119Z",
     "iopub.status.busy": "2025-05-26T18:53:16.435008Z",
     "iopub.status.idle": "2025-05-26T18:53:18.367571Z",
     "shell.execute_reply": "2025-05-26T18:53:18.366469Z"
    },
    "papermill": {
     "duration": 1.938405,
     "end_time": "2025-05-26T18:53:18.369372",
     "exception": false,
     "start_time": "2025-05-26T18:53:16.430967",
     "status": "completed"
    },
    "tags": []
   },
   "outputs": [],
   "source": [
    "import os\n",
    "import pickle\n",
    "import pandas as pd"
   ]
  },
  {
   "cell_type": "code",
   "execution_count": 2,
   "id": "73f3f335",
   "metadata": {
    "execution": {
     "iopub.execute_input": "2025-05-26T18:53:18.376119Z",
     "iopub.status.busy": "2025-05-26T18:53:18.375701Z",
     "iopub.status.idle": "2025-05-26T18:54:49.552594Z",
     "shell.execute_reply": "2025-05-26T18:54:49.550961Z"
    },
    "papermill": {
     "duration": 91.185782,
     "end_time": "2025-05-26T18:54:49.558029",
     "exception": false,
     "start_time": "2025-05-26T18:53:18.372247",
     "status": "completed"
    },
    "tags": []
   },
   "outputs": [],
   "source": [
    "with open('/kaggle/input/music-with-language-labels/music_dataset.pkl', 'rb') as f:\n",
    "    dataset_m = pd.DataFrame(pickle.load(f))\n",
    "    dataset_m = dataset_m.groupby('language_code')[dataset_m.columns.tolist()].apply(lambda x: x.tail(20), include_groups=True).reset_index(drop=True)"
   ]
  },
  {
   "cell_type": "code",
   "execution_count": 3,
   "id": "8de367d8",
   "metadata": {
    "execution": {
     "iopub.execute_input": "2025-05-26T18:54:49.576217Z",
     "iopub.status.busy": "2025-05-26T18:54:49.575137Z",
     "iopub.status.idle": "2025-05-26T18:56:11.070246Z",
     "shell.execute_reply": "2025-05-26T18:56:11.068753Z"
    },
    "papermill": {
     "duration": 81.504189,
     "end_time": "2025-05-26T18:56:11.072225",
     "exception": false,
     "start_time": "2025-05-26T18:54:49.568036",
     "status": "completed"
    },
    "tags": []
   },
   "outputs": [],
   "source": [
    "with open('/kaggle/input/speech-in-different-languages/speech_dataset.pkl', 'rb') as f:\n",
    "    dataset_sp = pd.DataFrame(pickle.load(f))\n",
    "    dataset_sp = dataset_sp.groupby('language_code')[dataset_sp.columns.tolist()].apply(lambda x: x.tail(20), include_groups=True).reset_index(drop=True)"
   ]
  },
  {
   "cell_type": "code",
   "execution_count": 4,
   "id": "add69878",
   "metadata": {
    "execution": {
     "iopub.execute_input": "2025-05-26T18:56:11.079022Z",
     "iopub.status.busy": "2025-05-26T18:56:11.078721Z",
     "iopub.status.idle": "2025-05-26T18:56:11.083944Z",
     "shell.execute_reply": "2025-05-26T18:56:11.083104Z"
    },
    "papermill": {
     "duration": 0.010353,
     "end_time": "2025-05-26T18:56:11.085616",
     "exception": false,
     "start_time": "2025-05-26T18:56:11.075263",
     "status": "completed"
    },
    "tags": []
   },
   "outputs": [],
   "source": [
    "dataset = pd.concat([dataset_sp, dataset_m], ignore_index=True)"
   ]
  },
  {
   "cell_type": "code",
   "execution_count": 5,
   "id": "000b7751",
   "metadata": {
    "execution": {
     "iopub.execute_input": "2025-05-26T18:56:11.091812Z",
     "iopub.status.busy": "2025-05-26T18:56:11.091479Z",
     "iopub.status.idle": "2025-05-26T18:56:11.096199Z",
     "shell.execute_reply": "2025-05-26T18:56:11.095243Z"
    },
    "papermill": {
     "duration": 0.009559,
     "end_time": "2025-05-26T18:56:11.097730",
     "exception": false,
     "start_time": "2025-05-26T18:56:11.088171",
     "status": "completed"
    },
    "tags": []
   },
   "outputs": [],
   "source": [
    "del dataset_sp\n",
    "del dataset_m"
   ]
  },
  {
   "cell_type": "code",
   "execution_count": 6,
   "id": "40c74815",
   "metadata": {
    "execution": {
     "iopub.execute_input": "2025-05-26T18:56:11.103812Z",
     "iopub.status.busy": "2025-05-26T18:56:11.103507Z",
     "iopub.status.idle": "2025-05-26T18:56:11.122223Z",
     "shell.execute_reply": "2025-05-26T18:56:11.121133Z"
    },
    "papermill": {
     "duration": 0.024396,
     "end_time": "2025-05-26T18:56:11.124677",
     "exception": false,
     "start_time": "2025-05-26T18:56:11.100281",
     "status": "completed"
    },
    "tags": []
   },
   "outputs": [
    {
     "name": "stdout",
     "output_type": "stream",
     "text": [
      "Filesystem      Size  Used Avail Use% Mounted on\n",
      "overlay         7.9T  6.3T  1.7T  79% /\n"
     ]
    },
    {
     "data": {
      "text/plain": [
       "0"
      ]
     },
     "execution_count": 6,
     "metadata": {},
     "output_type": "execute_result"
    }
   ],
   "source": [
    "os.system(\"df -h /kaggle/\")"
   ]
  },
  {
   "cell_type": "code",
   "execution_count": 7,
   "id": "37ea7e76",
   "metadata": {
    "execution": {
     "iopub.execute_input": "2025-05-26T18:56:11.131543Z",
     "iopub.status.busy": "2025-05-26T18:56:11.131186Z",
     "iopub.status.idle": "2025-05-26T18:56:11.171133Z",
     "shell.execute_reply": "2025-05-26T18:56:11.170265Z"
    },
    "papermill": {
     "duration": 0.045311,
     "end_time": "2025-05-26T18:56:11.173001",
     "exception": false,
     "start_time": "2025-05-26T18:56:11.127690",
     "status": "completed"
    },
    "tags": []
   },
   "outputs": [
    {
     "data": {
      "text/html": [
       "<div>\n",
       "<style scoped>\n",
       "    .dataframe tbody tr th:only-of-type {\n",
       "        vertical-align: middle;\n",
       "    }\n",
       "\n",
       "    .dataframe tbody tr th {\n",
       "        vertical-align: top;\n",
       "    }\n",
       "\n",
       "    .dataframe thead th {\n",
       "        text-align: right;\n",
       "    }\n",
       "</style>\n",
       "<table border=\"1\" class=\"dataframe\">\n",
       "  <thead>\n",
       "    <tr style=\"text-align: right;\">\n",
       "      <th></th>\n",
       "      <th>name</th>\n",
       "      <th>array</th>\n",
       "      <th>language_code</th>\n",
       "      <th>label</th>\n",
       "    </tr>\n",
       "  </thead>\n",
       "  <tbody>\n",
       "    <tr>\n",
       "      <th>0</th>\n",
       "      <td>en1480speech</td>\n",
       "      <td>[0.0, 2.0829986e-15, 3.1082873e-15, 2.5172794e...</td>\n",
       "      <td>en</td>\n",
       "      <td>speech</td>\n",
       "    </tr>\n",
       "    <tr>\n",
       "      <th>1</th>\n",
       "      <td>en1481speech</td>\n",
       "      <td>[0.0, -2.6867495e-15, -2.0341257e-15, -1.47925...</td>\n",
       "      <td>en</td>\n",
       "      <td>speech</td>\n",
       "    </tr>\n",
       "    <tr>\n",
       "      <th>2</th>\n",
       "      <td>en1482speech</td>\n",
       "      <td>[0.10524987, 0.106167175, 0.10787907, 0.110155...</td>\n",
       "      <td>en</td>\n",
       "      <td>speech</td>\n",
       "    </tr>\n",
       "    <tr>\n",
       "      <th>3</th>\n",
       "      <td>en1483speech</td>\n",
       "      <td>[-8.8094735e-23, -3.4741586e-23, 1.0422476e-22...</td>\n",
       "      <td>en</td>\n",
       "      <td>speech</td>\n",
       "    </tr>\n",
       "    <tr>\n",
       "      <th>4</th>\n",
       "      <td>en1484speech</td>\n",
       "      <td>[0.09319314, 0.08222517, 0.071456626, 0.062593...</td>\n",
       "      <td>en</td>\n",
       "      <td>speech</td>\n",
       "    </tr>\n",
       "    <tr>\n",
       "      <th>...</th>\n",
       "      <td>...</td>\n",
       "      <td>...</td>\n",
       "      <td>...</td>\n",
       "      <td>...</td>\n",
       "    </tr>\n",
       "    <tr>\n",
       "      <th>355</th>\n",
       "      <td>ro1_60915music</td>\n",
       "      <td>[-0.21291357, -0.21470588, -0.21528308, -0.215...</td>\n",
       "      <td>ro</td>\n",
       "      <td>music</td>\n",
       "    </tr>\n",
       "    <tr>\n",
       "      <th>356</th>\n",
       "      <td>ro1_60916music</td>\n",
       "      <td>[-0.11393688, -0.19880858, -0.28027794, -0.342...</td>\n",
       "      <td>ro</td>\n",
       "      <td>music</td>\n",
       "    </tr>\n",
       "    <tr>\n",
       "      <th>357</th>\n",
       "      <td>ro1_60917music</td>\n",
       "      <td>[-0.023206625, -0.00548587, 0.0045426562, 0.00...</td>\n",
       "      <td>ro</td>\n",
       "      <td>music</td>\n",
       "    </tr>\n",
       "    <tr>\n",
       "      <th>358</th>\n",
       "      <td>ro1_60918music</td>\n",
       "      <td>[0.5275165, 0.44827634, 0.34115124, 0.22983935...</td>\n",
       "      <td>ro</td>\n",
       "      <td>music</td>\n",
       "    </tr>\n",
       "    <tr>\n",
       "      <th>359</th>\n",
       "      <td>ro1_60919music</td>\n",
       "      <td>[0.24154066, 0.17669892, 0.16472647, 0.2204834...</td>\n",
       "      <td>ro</td>\n",
       "      <td>music</td>\n",
       "    </tr>\n",
       "  </tbody>\n",
       "</table>\n",
       "<p>360 rows × 4 columns</p>\n",
       "</div>"
      ],
      "text/plain": [
       "               name                                              array  \\\n",
       "0      en1480speech  [0.0, 2.0829986e-15, 3.1082873e-15, 2.5172794e...   \n",
       "1      en1481speech  [0.0, -2.6867495e-15, -2.0341257e-15, -1.47925...   \n",
       "2      en1482speech  [0.10524987, 0.106167175, 0.10787907, 0.110155...   \n",
       "3      en1483speech  [-8.8094735e-23, -3.4741586e-23, 1.0422476e-22...   \n",
       "4      en1484speech  [0.09319314, 0.08222517, 0.071456626, 0.062593...   \n",
       "..              ...                                                ...   \n",
       "355  ro1_60915music  [-0.21291357, -0.21470588, -0.21528308, -0.215...   \n",
       "356  ro1_60916music  [-0.11393688, -0.19880858, -0.28027794, -0.342...   \n",
       "357  ro1_60917music  [-0.023206625, -0.00548587, 0.0045426562, 0.00...   \n",
       "358  ro1_60918music  [0.5275165, 0.44827634, 0.34115124, 0.22983935...   \n",
       "359  ro1_60919music  [0.24154066, 0.17669892, 0.16472647, 0.2204834...   \n",
       "\n",
       "    language_code   label  \n",
       "0              en  speech  \n",
       "1              en  speech  \n",
       "2              en  speech  \n",
       "3              en  speech  \n",
       "4              en  speech  \n",
       "..            ...     ...  \n",
       "355            ro   music  \n",
       "356            ro   music  \n",
       "357            ro   music  \n",
       "358            ro   music  \n",
       "359            ro   music  \n",
       "\n",
       "[360 rows x 4 columns]"
      ]
     },
     "execution_count": 7,
     "metadata": {},
     "output_type": "execute_result"
    }
   ],
   "source": [
    "dataset"
   ]
  },
  {
   "cell_type": "code",
   "execution_count": 8,
   "id": "9c44468d",
   "metadata": {
    "execution": {
     "iopub.execute_input": "2025-05-26T18:56:11.181679Z",
     "iopub.status.busy": "2025-05-26T18:56:11.180611Z",
     "iopub.status.idle": "2025-05-26T18:56:11.192194Z",
     "shell.execute_reply": "2025-05-26T18:56:11.191022Z"
    },
    "papermill": {
     "duration": 0.01741,
     "end_time": "2025-05-26T18:56:11.193890",
     "exception": false,
     "start_time": "2025-05-26T18:56:11.176480",
     "status": "completed"
    },
    "tags": []
   },
   "outputs": [
    {
     "data": {
      "text/plain": [
       "language_code\n",
       "en    40\n",
       "es    40\n",
       "fr    40\n",
       "id    40\n",
       "ja    40\n",
       "lt    40\n",
       "nl    40\n",
       "pt    40\n",
       "ro    40\n",
       "Name: count, dtype: int64"
      ]
     },
     "execution_count": 8,
     "metadata": {},
     "output_type": "execute_result"
    }
   ],
   "source": [
    "dataset.value_counts('language_code')"
   ]
  },
  {
   "cell_type": "code",
   "execution_count": 9,
   "id": "095484ac",
   "metadata": {
    "execution": {
     "iopub.execute_input": "2025-05-26T18:56:11.201312Z",
     "iopub.status.busy": "2025-05-26T18:56:11.200941Z",
     "iopub.status.idle": "2025-05-26T18:56:19.672944Z",
     "shell.execute_reply": "2025-05-26T18:56:19.671967Z"
    },
    "papermill": {
     "duration": 8.477665,
     "end_time": "2025-05-26T18:56:19.674769",
     "exception": false,
     "start_time": "2025-05-26T18:56:11.197104",
     "status": "completed"
    },
    "tags": []
   },
   "outputs": [],
   "source": [
    "dataset.to_parquet(\"speechAndMusicWLanguagesTestSplit.parquet\", index=False, compression='brotli')"
   ]
  },
  {
   "cell_type": "code",
   "execution_count": null,
   "id": "c47138cb",
   "metadata": {
    "papermill": {
     "duration": 0.002614,
     "end_time": "2025-05-26T18:56:19.680486",
     "exception": false,
     "start_time": "2025-05-26T18:56:19.677872",
     "status": "completed"
    },
    "tags": []
   },
   "outputs": [],
   "source": []
  }
 ],
 "metadata": {
  "kaggle": {
   "accelerator": "none",
   "dataSources": [
    {
     "datasetId": 7452340,
     "sourceId": 11859841,
     "sourceType": "datasetVersion"
    },
    {
     "datasetId": 7453932,
     "sourceId": 11862443,
     "sourceType": "datasetVersion"
    }
   ],
   "dockerImageVersionId": 31040,
   "isGpuEnabled": false,
   "isInternetEnabled": true,
   "language": "python",
   "sourceType": "notebook"
  },
  "kernelspec": {
   "display_name": "Python 3",
   "language": "python",
   "name": "python3"
  },
  "language_info": {
   "codemirror_mode": {
    "name": "ipython",
    "version": 3
   },
   "file_extension": ".py",
   "mimetype": "text/x-python",
   "name": "python",
   "nbconvert_exporter": "python",
   "pygments_lexer": "ipython3",
   "version": "3.11.11"
  },
  "papermill": {
   "default_parameters": {},
   "duration": 189.854134,
   "end_time": "2025-05-26T18:56:21.309812",
   "environment_variables": {},
   "exception": null,
   "input_path": "__notebook__.ipynb",
   "output_path": "__notebook__.ipynb",
   "parameters": {},
   "start_time": "2025-05-26T18:53:11.455678",
   "version": "2.6.0"
  }
 },
 "nbformat": 4,
 "nbformat_minor": 5
}
