{
 "cells": [
  {
   "cell_type": "code",
   "execution_count": 1,
   "id": "b8f91bfd",
   "metadata": {
    "execution": {
     "iopub.execute_input": "2025-05-15T19:36:30.488644Z",
     "iopub.status.busy": "2025-05-15T19:36:30.488281Z",
     "iopub.status.idle": "2025-05-15T19:36:30.613661Z",
     "shell.execute_reply": "2025-05-15T19:36:30.612036Z"
    },
    "papermill": {
     "duration": 0.132222,
     "end_time": "2025-05-15T19:36:30.615798",
     "exception": false,
     "start_time": "2025-05-15T19:36:30.483576",
     "status": "completed"
    },
    "tags": []
   },
   "outputs": [],
   "source": [
    "!rm -rf /kaggle/working/*"
   ]
  },
  {
   "cell_type": "code",
   "execution_count": 2,
   "id": "ffaa860b",
   "metadata": {
    "_cell_guid": "b1076dfc-b9ad-4769-8c92-a6c4dae69d19",
    "_uuid": "8f2839f25d086af736a60e9eeb907d3b93b6e0e5",
    "execution": {
     "iopub.execute_input": "2025-05-15T19:36:30.623251Z",
     "iopub.status.busy": "2025-05-15T19:36:30.622666Z",
     "iopub.status.idle": "2025-05-15T19:36:32.903355Z",
     "shell.execute_reply": "2025-05-15T19:36:32.902464Z"
    },
    "papermill": {
     "duration": 2.286323,
     "end_time": "2025-05-15T19:36:32.905027",
     "exception": false,
     "start_time": "2025-05-15T19:36:30.618704",
     "status": "completed"
    },
    "tags": []
   },
   "outputs": [],
   "source": [
    "import os\n",
    "import json\n",
    "import csv\n",
    "import pandas as pd\n",
    "import soundfile as sf\n",
    "import numpy as np"
   ]
  },
  {
   "cell_type": "code",
   "execution_count": 3,
   "id": "95d82a13",
   "metadata": {
    "execution": {
     "iopub.execute_input": "2025-05-15T19:36:32.911694Z",
     "iopub.status.busy": "2025-05-15T19:36:32.911155Z",
     "iopub.status.idle": "2025-05-15T19:36:32.917000Z",
     "shell.execute_reply": "2025-05-15T19:36:32.915503Z"
    },
    "papermill": {
     "duration": 0.011026,
     "end_time": "2025-05-15T19:36:32.918820",
     "exception": false,
     "start_time": "2025-05-15T19:36:32.907794",
     "status": "completed"
    },
    "tags": []
   },
   "outputs": [],
   "source": [
    "LANGUAGES = {\n",
    "    'id': 'Indonesian',\n",
    "    'fr': 'French',\n",
    "    'es': 'Spanish',\n",
    "    'ja': 'Japanese',\n",
    "    'nl': 'Dutch',\n",
    "    'lt': 'Lithuanian',\n",
    "    'pt': 'Portuguese',\n",
    "    'zh-CN': 'Chinese',\n",
    "    'ro': 'Romanian',\n",
    "    'sl': 'Slovenian',\n",
    "    'pa-IN': 'Punjabi',\n",
    "    'fi': 'Finnish',\n",
    "    'en': 'English'\n",
    "}"
   ]
  },
  {
   "cell_type": "code",
   "execution_count": 4,
   "id": "1df05660",
   "metadata": {
    "execution": {
     "iopub.execute_input": "2025-05-15T19:36:32.925337Z",
     "iopub.status.busy": "2025-05-15T19:36:32.925009Z",
     "iopub.status.idle": "2025-05-15T19:36:32.930507Z",
     "shell.execute_reply": "2025-05-15T19:36:32.929395Z"
    },
    "papermill": {
     "duration": 0.010706,
     "end_time": "2025-05-15T19:36:32.932203",
     "exception": false,
     "start_time": "2025-05-15T19:36:32.921497",
     "status": "completed"
    },
    "tags": []
   },
   "outputs": [],
   "source": [
    "LANGUAGES_CODES = {\n",
    "    'Indonesian': 'id',\n",
    "    'French': 'fr',\n",
    "    'Spanish': 'es',\n",
    "    'Japanese': 'ja',\n",
    "    'Dutch': 'nl',\n",
    "    'Lithuanian': 'lt',\n",
    "    'Portuguese': 'pt',\n",
    "    'Chinese': 'zh-CN',\n",
    "    'Romanian': 'ro',\n",
    "    'Slovenian': 'sl',\n",
    "    'Punjabi': 'pa-IN',\n",
    "    'Finnish': 'fi',\n",
    "    'English': 'en'\n",
    "}"
   ]
  },
  {
   "cell_type": "code",
   "execution_count": 5,
   "id": "c8a42f2e",
   "metadata": {
    "execution": {
     "iopub.execute_input": "2025-05-15T19:36:32.939841Z",
     "iopub.status.busy": "2025-05-15T19:36:32.938270Z",
     "iopub.status.idle": "2025-05-15T19:36:32.944176Z",
     "shell.execute_reply": "2025-05-15T19:36:32.943139Z"
    },
    "papermill": {
     "duration": 0.011185,
     "end_time": "2025-05-15T19:36:32.946072",
     "exception": false,
     "start_time": "2025-05-15T19:36:32.934887",
     "status": "completed"
    },
    "tags": []
   },
   "outputs": [],
   "source": [
    "NUMBER_OF_PIECES = 1500\n",
    "DURATION_SECONDS = 3\n",
    "DATASET_DIR = '/kaggle/working/processed_languages'\n",
    "METADATA_FILE = '/kaggle/working/metadata.csv'"
   ]
  },
  {
   "cell_type": "code",
   "execution_count": 6,
   "id": "ba04245e",
   "metadata": {
    "execution": {
     "iopub.execute_input": "2025-05-15T19:36:32.952372Z",
     "iopub.status.busy": "2025-05-15T19:36:32.952074Z",
     "iopub.status.idle": "2025-05-15T19:36:32.997494Z",
     "shell.execute_reply": "2025-05-15T19:36:32.996277Z"
    },
    "papermill": {
     "duration": 0.050619,
     "end_time": "2025-05-15T19:36:32.999364",
     "exception": false,
     "start_time": "2025-05-15T19:36:32.948745",
     "status": "completed"
    },
    "tags": []
   },
   "outputs": [],
   "source": [
    "with open('/kaggle/input/jukebox-mirror/artistsIdsSplitAndLanguages.csv', 'r') as file:\n",
    "    result = {}\n",
    "    df = pd.read_csv(file, delimiter=';')\n",
    "    for split in ['TRAIN', 'TEST']:\n",
    "        split_df = df[df['partition'] == split]\n",
    "        result[split] = split_df.groupby('language_label')['artist_id'].apply(list).to_dict()\n",
    "\n",
    "with open('artists_by_languages.json', 'w', encoding='utf-8') as jsfile:\n",
    "    json.dump(result, jsfile, ensure_ascii=False, indent=4)"
   ]
  },
  {
   "cell_type": "code",
   "execution_count": 7,
   "id": "35c623fc",
   "metadata": {
    "execution": {
     "iopub.execute_input": "2025-05-15T19:36:33.005924Z",
     "iopub.status.busy": "2025-05-15T19:36:33.005567Z",
     "iopub.status.idle": "2025-05-15T19:36:33.012555Z",
     "shell.execute_reply": "2025-05-15T19:36:33.011445Z"
    },
    "papermill": {
     "duration": 0.012076,
     "end_time": "2025-05-15T19:36:33.014059",
     "exception": false,
     "start_time": "2025-05-15T19:36:33.001983",
     "status": "completed"
    },
    "tags": []
   },
   "outputs": [],
   "source": [
    "def process_directory(JukeBox_folder, language_code, artist_id):\n",
    "    dir_count = 0\n",
    "    metadata = []\n",
    "    for wav_file in os.listdir(JukeBox_folder):\n",
    "        song_id = wav_file[:-4]\n",
    "        wav_path = os.path.join(JukeBox_folder, wav_file)\n",
    "        array, sample_rate = sf.read(wav_path)\n",
    "        piece_size = DURATION_SECONDS * sample_rate\n",
    "        number_of_pieces = len(array) // piece_size\n",
    "        for i in range(number_of_pieces):\n",
    "            piece = array[i*piece_size : (i+1)*piece_size]\n",
    "            metadata.append({\n",
    "                'name': f'{language_code}{dir_count}music',\n",
    "                'array': piece,\n",
    "                'language_code': language_code,\n",
    "                'label': 'music',\n",
    "            })\n",
    "            dir_count += 1\n",
    "    return dir_count, metadata"
   ]
  },
  {
   "cell_type": "code",
   "execution_count": 8,
   "id": "4895ce62",
   "metadata": {
    "execution": {
     "iopub.execute_input": "2025-05-15T19:36:33.021529Z",
     "iopub.status.busy": "2025-05-15T19:36:33.021196Z",
     "iopub.status.idle": "2025-05-15T19:36:33.027028Z",
     "shell.execute_reply": "2025-05-15T19:36:33.025800Z"
    },
    "papermill": {
     "duration": 0.012003,
     "end_time": "2025-05-15T19:36:33.028611",
     "exception": false,
     "start_time": "2025-05-15T19:36:33.016608",
     "status": "completed"
    },
    "tags": []
   },
   "outputs": [],
   "source": [
    "def save_metadata_csv(full_metadata):\n",
    "    with open(METADATA_FILE, \"w\", newline=\"\", encoding=\"utf-8\") as f:\n",
    "        writer = csv.DictWriter(f, fieldnames=full_metadata[0].keys())\n",
    "        writer.writeheader()\n",
    "        writer.writerows(full_metadata)\n",
    "    print(f\"metadata saved to {METADATA_FILE}\")"
   ]
  },
  {
   "cell_type": "code",
   "execution_count": 9,
   "id": "6ec73678",
   "metadata": {
    "execution": {
     "iopub.execute_input": "2025-05-15T19:36:33.034982Z",
     "iopub.status.busy": "2025-05-15T19:36:33.034635Z",
     "iopub.status.idle": "2025-05-15T19:37:27.889553Z",
     "shell.execute_reply": "2025-05-15T19:37:27.888370Z"
    },
    "papermill": {
     "duration": 54.859928,
     "end_time": "2025-05-15T19:37:27.891146",
     "exception": false,
     "start_time": "2025-05-15T19:36:33.031218",
     "status": "completed"
    },
    "tags": []
   },
   "outputs": [
    {
     "name": "stdout",
     "output_type": "stream",
     "text": [
      "processing language: Dutch\n",
      "processed 149 pieces for language Dutch (nl)\n",
      "processing language: English\n",
      "processed 1640 pieces for language English (en)\n",
      "processing language: French\n",
      "processed 1890 pieces for language French (fr)\n",
      "processing language: Japanese\n",
      "processed 680 pieces for language Japanese (ja)\n",
      "processing language: Punjabi\n",
      "processed 140 pieces for language Punjabi (pa-IN)\n",
      "processing language: Romanian\n",
      "processed 440 pieces for language Romanian (ro)\n",
      "processing language: Spanish\n",
      "processed 480 pieces for language Spanish (es)\n",
      "processing language: Dutch\n",
      "processed 5520 pieces for language Dutch (nl)\n",
      "processing language: English\n",
      "processed 1664 pieces for language English (en)\n",
      "processing language: French\n",
      "processed 4049 pieces for language French (fr)\n",
      "processing language: Indonesian\n",
      "processed 2090 pieces for language Indonesian (id)\n",
      "processing language: Japanese\n",
      "processed 1609 pieces for language Japanese (ja)\n",
      "processing language: Lithuanian\n",
      "processed 2630 pieces for language Lithuanian (lt)\n",
      "processing language: Portuguese\n",
      "processed 1228 pieces for language Portuguese (pt)\n",
      "processing language: Romanian\n",
      "processed 1340 pieces for language Romanian (ro)\n",
      "processing language: Spanish\n",
      "processed 1582 pieces for language Spanish (es)\n"
     ]
    }
   ],
   "source": [
    "full_metadata = []\n",
    "for split in ['TEST', 'TRAIN']:\n",
    "    for language, artists_ids in result[split].items():\n",
    "        if language in list(LANGUAGES.values()):\n",
    "            print(f'processing language: {language}')\n",
    "            language_code = LANGUAGES_CODES[language]\n",
    "            count = 0\n",
    "            for artist_id in artists_ids:\n",
    "                if count >= NUMBER_OF_PIECES:\n",
    "                    break\n",
    "                artist_dir = f'/kaggle/input/jukebox-mirror/{split}/{split}/{artist_id}'\n",
    "                dir_count, dir_metadata = process_directory(artist_dir, language_code, artist_id)\n",
    "                count += dir_count\n",
    "                if dir_metadata:\n",
    "                    full_metadata.extend(dir_metadata)\n",
    "            print(f'processed {count} pieces for language {language} ({language_code})')"
   ]
  },
  {
   "cell_type": "code",
   "execution_count": 10,
   "id": "6df86ae9",
   "metadata": {
    "execution": {
     "iopub.execute_input": "2025-05-15T19:37:27.899361Z",
     "iopub.status.busy": "2025-05-15T19:37:27.899055Z",
     "iopub.status.idle": "2025-05-15T19:37:30.697928Z",
     "shell.execute_reply": "2025-05-15T19:37:30.696351Z"
    },
    "papermill": {
     "duration": 2.805166,
     "end_time": "2025-05-15T19:37:30.699939",
     "exception": false,
     "start_time": "2025-05-15T19:37:27.894773",
     "status": "completed"
    },
    "tags": []
   },
   "outputs": [
    {
     "name": "stdout",
     "output_type": "stream",
     "text": [
      "metadata saved to /kaggle/working/metadata.csv\n"
     ]
    }
   ],
   "source": [
    "save_metadata_csv(full_metadata)"
   ]
  }
 ],
 "metadata": {
  "kaggle": {
   "accelerator": "none",
   "dataSources": [
    {
     "datasetId": 7394985,
     "sourceId": 11785212,
     "sourceType": "datasetVersion"
    }
   ],
   "dockerImageVersionId": 31012,
   "isGpuEnabled": false,
   "isInternetEnabled": true,
   "language": "python",
   "sourceType": "notebook"
  },
  "kernelspec": {
   "display_name": "Python 3",
   "language": "python",
   "name": "python3"
  },
  "language_info": {
   "codemirror_mode": {
    "name": "ipython",
    "version": 3
   },
   "file_extension": ".py",
   "mimetype": "text/x-python",
   "name": "python",
   "nbconvert_exporter": "python",
   "pygments_lexer": "ipython3",
   "version": "3.11.11"
  },
  "papermill": {
   "default_parameters": {},
   "duration": 68.219525,
   "end_time": "2025-05-15T19:37:32.531779",
   "environment_variables": {},
   "exception": null,
   "input_path": "__notebook__.ipynb",
   "output_path": "__notebook__.ipynb",
   "parameters": {},
   "start_time": "2025-05-15T19:36:24.312254",
   "version": "2.6.0"
  }
 },
 "nbformat": 4,
 "nbformat_minor": 5
}
