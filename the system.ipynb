{
 "cells": [
  {
   "cell_type": "code",
   "execution_count": 1,
   "id": "70e2b33a",
   "metadata": {
    "collapsed": true,
    "execution": {
     "iopub.execute_input": "2025-05-28T14:17:45.217702Z",
     "iopub.status.busy": "2025-05-28T14:17:45.217273Z",
     "iopub.status.idle": "2025-05-28T14:18:03.326972Z",
     "shell.execute_reply": "2025-05-28T14:18:03.325634Z"
    },
    "jupyter": {
     "outputs_hidden": true
    },
    "papermill": {
     "duration": 18.119612,
     "end_time": "2025-05-28T14:18:03.328930",
     "exception": false,
     "start_time": "2025-05-28T14:17:45.209318",
     "status": "completed"
    },
    "tags": []
   },
   "outputs": [
    {
     "name": "stdout",
     "output_type": "stream",
     "text": [
      "Collecting openai-whisper\r\n",
      "  Downloading openai-whisper-20240930.tar.gz (800 kB)\r\n",
      "\u001b[2K     \u001b[90m━━━━━━━━━━━━━━━━━━━━━━━━━━━━━━━━━━━━━━━━\u001b[0m \u001b[32m800.5/800.5 kB\u001b[0m \u001b[31m47.5 MB/s\u001b[0m eta \u001b[36m0:00:00\u001b[0m\r\n",
      "\u001b[?25h  Installing build dependencies ... \u001b[?25l\u001b[?25hdone\r\n",
      "  Getting requirements to build wheel ... \u001b[?25l\u001b[?25hdone\r\n",
      "  Preparing metadata (pyproject.toml) ... \u001b[?25l\u001b[?25hdone\r\n",
      "Requirement already satisfied: numba in /usr/local/lib/python3.10/dist-packages (from openai-whisper) (0.60.0)\r\n",
      "Requirement already satisfied: numpy in /usr/local/lib/python3.10/dist-packages (from openai-whisper) (1.26.4)\r\n",
      "Requirement already satisfied: torch in /usr/local/lib/python3.10/dist-packages (from openai-whisper) (2.5.1+cu121)\r\n",
      "Requirement already satisfied: tqdm in /usr/local/lib/python3.10/dist-packages (from openai-whisper) (4.67.1)\r\n",
      "Requirement already satisfied: more-itertools in /usr/local/lib/python3.10/dist-packages (from openai-whisper) (10.5.0)\r\n",
      "Requirement already satisfied: tiktoken in /usr/local/lib/python3.10/dist-packages (from openai-whisper) (0.9.0)\r\n",
      "Collecting triton>=2.0.0 (from openai-whisper)\r\n",
      "  Downloading triton-3.3.0-cp310-cp310-manylinux_2_27_x86_64.manylinux_2_28_x86_64.whl.metadata (1.5 kB)\r\n",
      "Requirement already satisfied: setuptools>=40.8.0 in /usr/local/lib/python3.10/dist-packages (from triton>=2.0.0->openai-whisper) (75.1.0)\r\n",
      "Requirement already satisfied: llvmlite<0.44,>=0.43.0dev0 in /usr/local/lib/python3.10/dist-packages (from numba->openai-whisper) (0.43.0)\r\n",
      "Requirement already satisfied: mkl_fft in /usr/local/lib/python3.10/dist-packages (from numpy->openai-whisper) (1.3.8)\r\n",
      "Requirement already satisfied: mkl_random in /usr/local/lib/python3.10/dist-packages (from numpy->openai-whisper) (1.2.4)\r\n",
      "Requirement already satisfied: mkl_umath in /usr/local/lib/python3.10/dist-packages (from numpy->openai-whisper) (0.1.1)\r\n",
      "Requirement already satisfied: mkl in /usr/local/lib/python3.10/dist-packages (from numpy->openai-whisper) (2025.0.1)\r\n",
      "Requirement already satisfied: tbb4py in /usr/local/lib/python3.10/dist-packages (from numpy->openai-whisper) (2022.0.0)\r\n",
      "Requirement already satisfied: mkl-service in /usr/local/lib/python3.10/dist-packages (from numpy->openai-whisper) (2.4.1)\r\n",
      "Requirement already satisfied: regex>=2022.1.18 in /usr/local/lib/python3.10/dist-packages (from tiktoken->openai-whisper) (2024.11.6)\r\n",
      "Requirement already satisfied: requests>=2.26.0 in /usr/local/lib/python3.10/dist-packages (from tiktoken->openai-whisper) (2.32.3)\r\n",
      "Requirement already satisfied: filelock in /usr/local/lib/python3.10/dist-packages (from torch->openai-whisper) (3.17.0)\r\n",
      "Requirement already satisfied: typing-extensions>=4.8.0 in /usr/local/lib/python3.10/dist-packages (from torch->openai-whisper) (4.12.2)\r\n",
      "Requirement already satisfied: networkx in /usr/local/lib/python3.10/dist-packages (from torch->openai-whisper) (3.4.2)\r\n",
      "Requirement already satisfied: jinja2 in /usr/local/lib/python3.10/dist-packages (from torch->openai-whisper) (3.1.4)\r\n",
      "Requirement already satisfied: fsspec in /usr/local/lib/python3.10/dist-packages (from torch->openai-whisper) (2024.12.0)\r\n",
      "Requirement already satisfied: sympy==1.13.1 in /usr/local/lib/python3.10/dist-packages (from torch->openai-whisper) (1.13.1)\r\n",
      "Requirement already satisfied: mpmath<1.4,>=1.1.0 in /usr/local/lib/python3.10/dist-packages (from sympy==1.13.1->torch->openai-whisper) (1.3.0)\r\n",
      "Requirement already satisfied: charset-normalizer<4,>=2 in /usr/local/lib/python3.10/dist-packages (from requests>=2.26.0->tiktoken->openai-whisper) (3.4.1)\r\n",
      "Requirement already satisfied: idna<4,>=2.5 in /usr/local/lib/python3.10/dist-packages (from requests>=2.26.0->tiktoken->openai-whisper) (3.10)\r\n",
      "Requirement already satisfied: urllib3<3,>=1.21.1 in /usr/local/lib/python3.10/dist-packages (from requests>=2.26.0->tiktoken->openai-whisper) (2.3.0)\r\n",
      "Requirement already satisfied: certifi>=2017.4.17 in /usr/local/lib/python3.10/dist-packages (from requests>=2.26.0->tiktoken->openai-whisper) (2025.1.31)\r\n",
      "Requirement already satisfied: MarkupSafe>=2.0 in /usr/local/lib/python3.10/dist-packages (from jinja2->torch->openai-whisper) (3.0.2)\r\n",
      "Requirement already satisfied: intel-openmp>=2024 in /usr/local/lib/python3.10/dist-packages (from mkl->numpy->openai-whisper) (2024.2.0)\r\n",
      "Requirement already satisfied: tbb==2022.* in /usr/local/lib/python3.10/dist-packages (from mkl->numpy->openai-whisper) (2022.0.0)\r\n",
      "Requirement already satisfied: tcmlib==1.* in /usr/local/lib/python3.10/dist-packages (from tbb==2022.*->mkl->numpy->openai-whisper) (1.2.0)\r\n",
      "Requirement already satisfied: intel-cmplr-lib-rt in /usr/local/lib/python3.10/dist-packages (from mkl_umath->numpy->openai-whisper) (2024.2.0)\r\n",
      "Requirement already satisfied: intel-cmplr-lib-ur==2024.2.0 in /usr/local/lib/python3.10/dist-packages (from intel-openmp>=2024->mkl->numpy->openai-whisper) (2024.2.0)\r\n",
      "Downloading triton-3.3.0-cp310-cp310-manylinux_2_27_x86_64.manylinux_2_28_x86_64.whl (156.4 MB)\r\n",
      "\u001b[2K   \u001b[90m━━━━━━━━━━━━━━━━━━━━━━━━━━━━━━━━━━━━━━━━\u001b[0m \u001b[32m156.4/156.4 MB\u001b[0m \u001b[31m249.4 MB/s\u001b[0m eta \u001b[36m0:00:00\u001b[0m\r\n",
      "\u001b[?25hBuilding wheels for collected packages: openai-whisper\r\n",
      "  Building wheel for openai-whisper (pyproject.toml) ... \u001b[?25l\u001b[?25hdone\r\n",
      "  Created wheel for openai-whisper: filename=openai_whisper-20240930-py3-none-any.whl size=803404 sha256=32085a861c635330c5d9de85ebaf87c9a45db315e3cb143fcfce970f44e78811\r\n",
      "  Stored in directory: /tmp/pip-ephem-wheel-cache-_bgzw8b2/wheels/dd/4a/1f/d1c4bf3b9133c8168fe617ed979cab7b14fe381d059ffb9d83\r\n",
      "Successfully built openai-whisper\r\n",
      "Installing collected packages: triton, openai-whisper\r\n",
      "Successfully installed openai-whisper-20240930 triton-3.3.0\r\n",
      "Note: you may need to restart the kernel to use updated packages.\n"
     ]
    }
   ],
   "source": [
    "pip install openai-whisper --no-cache-dir"
   ]
  },
  {
   "cell_type": "code",
   "execution_count": 2,
   "id": "fcfa1e3d",
   "metadata": {
    "execution": {
     "iopub.execute_input": "2025-05-28T14:18:03.341740Z",
     "iopub.status.busy": "2025-05-28T14:18:03.341343Z",
     "iopub.status.idle": "2025-05-28T14:18:10.449342Z",
     "shell.execute_reply": "2025-05-28T14:18:10.448339Z"
    },
    "papermill": {
     "duration": 7.116344,
     "end_time": "2025-05-28T14:18:10.451345",
     "exception": false,
     "start_time": "2025-05-28T14:18:03.335001",
     "status": "completed"
    },
    "tags": []
   },
   "outputs": [],
   "source": [
    "import re\n",
    "import time\n",
    "import torch\n",
    "import whisper\n",
    "import librosa\n",
    "import datetime\n",
    "import requests\n",
    "import pandas as pd\n",
    "import numpy as np\n",
    "import torch.nn as nn\n",
    "import plotly.graph_objects as go\n",
    "from collections import Counter"
   ]
  },
  {
   "cell_type": "code",
   "execution_count": 3,
   "id": "0819ac92",
   "metadata": {
    "execution": {
     "iopub.execute_input": "2025-05-28T14:18:10.464359Z",
     "iopub.status.busy": "2025-05-28T14:18:10.463863Z",
     "iopub.status.idle": "2025-05-28T14:18:10.471153Z",
     "shell.execute_reply": "2025-05-28T14:18:10.469977Z"
    },
    "papermill": {
     "duration": 0.015891,
     "end_time": "2025-05-28T14:18:10.473156",
     "exception": false,
     "start_time": "2025-05-28T14:18:10.457265",
     "status": "completed"
    },
    "tags": []
   },
   "outputs": [],
   "source": [
    "class AudioCNN(nn.Module):\n",
    "    def __init__(self):\n",
    "        super(AudioCNN, self).__init__()\n",
    "        self.conv1 = nn.Conv2d(1, 32, kernel_size=3, padding=1)\n",
    "        self.conv2 = nn.Conv2d(32, 64, kernel_size=3, padding=1)\n",
    "        self.pool = nn.MaxPool2d(2, 2)\n",
    "        self.dropout = nn.Dropout(p=0.3)\n",
    "        self.fc1 = nn.Linear(64 * 32 * 70, 128)\n",
    "        self.fc2 = nn.Linear(128, 1)\n",
    "        self.sigmoid = nn.Sigmoid()\n",
    "\n",
    "    def forward(self, x):\n",
    "        x = self.pool(torch.relu(self.conv1(x)))\n",
    "        x = self.dropout(x)\n",
    "        x = self.pool(torch.relu(self.conv2(x)))\n",
    "        x = self.dropout(x)\n",
    "        x = x.view(x.size(0), -1)\n",
    "        x = torch.relu(self.fc1(x))\n",
    "        x = self.dropout(x)\n",
    "        x = self.fc2(x)\n",
    "        x = self.sigmoid(x)\n",
    "        return x"
   ]
  },
  {
   "cell_type": "code",
   "execution_count": 4,
   "id": "c0be34ab",
   "metadata": {
    "execution": {
     "iopub.execute_input": "2025-05-28T14:18:10.486595Z",
     "iopub.status.busy": "2025-05-28T14:18:10.486246Z",
     "iopub.status.idle": "2025-05-28T14:18:12.158896Z",
     "shell.execute_reply": "2025-05-28T14:18:12.157749Z"
    },
    "papermill": {
     "duration": 1.680769,
     "end_time": "2025-05-28T14:18:12.160507",
     "exception": false,
     "start_time": "2025-05-28T14:18:10.479738",
     "status": "completed"
    },
    "tags": []
   },
   "outputs": [
    {
     "data": {
      "text/plain": [
       "AudioCNN(\n",
       "  (conv1): Conv2d(1, 32, kernel_size=(3, 3), stride=(1, 1), padding=(1, 1))\n",
       "  (conv2): Conv2d(32, 64, kernel_size=(3, 3), stride=(1, 1), padding=(1, 1))\n",
       "  (pool): MaxPool2d(kernel_size=2, stride=2, padding=0, dilation=1, ceil_mode=False)\n",
       "  (dropout): Dropout(p=0.3, inplace=False)\n",
       "  (fc1): Linear(in_features=143360, out_features=128, bias=True)\n",
       "  (fc2): Linear(in_features=128, out_features=1, bias=True)\n",
       "  (sigmoid): Sigmoid()\n",
       ")"
      ]
     },
     "execution_count": 4,
     "metadata": {},
     "output_type": "execute_result"
    }
   ],
   "source": [
    "classificatorModel = AudioCNN()\n",
    "classificatorModel.load_state_dict(torch.load('/kaggle/input/speechmusicclassificator/pytorch/default/2/speech_music_classificator.pth', map_location='cpu', weights_only=True))\n",
    "classificatorModel.eval()"
   ]
  },
  {
   "cell_type": "code",
   "execution_count": 5,
   "id": "9df584ae",
   "metadata": {
    "execution": {
     "iopub.execute_input": "2025-05-28T14:18:12.173524Z",
     "iopub.status.busy": "2025-05-28T14:18:12.173211Z",
     "iopub.status.idle": "2025-05-28T14:19:06.183024Z",
     "shell.execute_reply": "2025-05-28T14:19:06.182130Z"
    },
    "papermill": {
     "duration": 54.018325,
     "end_time": "2025-05-28T14:19:06.184918",
     "exception": false,
     "start_time": "2025-05-28T14:18:12.166593",
     "status": "completed"
    },
    "tags": []
   },
   "outputs": [
    {
     "name": "stderr",
     "output_type": "stream",
     "text": [
      "100%|█████████████████████████████████████| 1.42G/1.42G [00:35<00:00, 42.7MiB/s]\n",
      "/usr/local/lib/python3.10/dist-packages/whisper/__init__.py:150: FutureWarning: You are using `torch.load` with `weights_only=False` (the current default value), which uses the default pickle module implicitly. It is possible to construct malicious pickle data which will execute arbitrary code during unpickling (See https://github.com/pytorch/pytorch/blob/main/SECURITY.md#untrusted-models for more details). In a future release, the default value for `weights_only` will be flipped to `True`. This limits the functions that could be executed during unpickling. Arbitrary objects will no longer be allowed to be loaded via this mode unless they are explicitly allowlisted by the user via `torch.serialization.add_safe_globals`. We recommend you start setting `weights_only=True` for any use case where you don't have full control of the loaded file. Please open an issue on GitHub for any issues related to this experimental feature.\n",
      "  checkpoint = torch.load(fp, map_location=device)\n"
     ]
    }
   ],
   "source": [
    "languageIdentifierModel = whisper.load_model('medium')"
   ]
  },
  {
   "cell_type": "code",
   "execution_count": 6,
   "id": "1af02d02",
   "metadata": {
    "execution": {
     "iopub.execute_input": "2025-05-28T14:19:06.220264Z",
     "iopub.status.busy": "2025-05-28T14:19:06.219955Z",
     "iopub.status.idle": "2025-05-28T14:19:06.223513Z",
     "shell.execute_reply": "2025-05-28T14:19:06.222707Z"
    },
    "papermill": {
     "duration": 0.022579,
     "end_time": "2025-05-28T14:19:06.225033",
     "exception": false,
     "start_time": "2025-05-28T14:19:06.202454",
     "status": "completed"
    },
    "tags": []
   },
   "outputs": [],
   "source": [
    "stream = 'https://stream22.tmwradio.com/tmw.mp3'"
   ]
  },
  {
   "cell_type": "code",
   "execution_count": 7,
   "id": "95709c15",
   "metadata": {
    "execution": {
     "iopub.execute_input": "2025-05-28T14:19:06.259268Z",
     "iopub.status.busy": "2025-05-28T14:19:06.258959Z",
     "iopub.status.idle": "2025-05-28T14:19:06.263686Z",
     "shell.execute_reply": "2025-05-28T14:19:06.262719Z"
    },
    "papermill": {
     "duration": 0.023823,
     "end_time": "2025-05-28T14:19:06.265388",
     "exception": false,
     "start_time": "2025-05-28T14:19:06.241565",
     "status": "completed"
    },
    "tags": []
   },
   "outputs": [],
   "source": [
    "def recorder(stream_url):\n",
    "    with open('piece.mp3', 'wb') as f:\n",
    "        r = requests.get(stream_url, stream=True)\n",
    "        for block in r.iter_content(50000):\n",
    "            f.write(block)\n",
    "            break\n",
    "    return 'piece.mp3'"
   ]
  },
  {
   "cell_type": "code",
   "execution_count": 8,
   "id": "98ef81f6",
   "metadata": {
    "execution": {
     "iopub.execute_input": "2025-05-28T14:19:06.302169Z",
     "iopub.status.busy": "2025-05-28T14:19:06.301846Z",
     "iopub.status.idle": "2025-05-28T14:19:06.306253Z",
     "shell.execute_reply": "2025-05-28T14:19:06.305435Z"
    },
    "papermill": {
     "duration": 0.024763,
     "end_time": "2025-05-28T14:19:06.307867",
     "exception": false,
     "start_time": "2025-05-28T14:19:06.283104",
     "status": "completed"
    },
    "tags": []
   },
   "outputs": [],
   "source": [
    "def language_identifier(audio):\n",
    "    audio = whisper.load_audio(audio)\n",
    "    audio = whisper.pad_or_trim(audio)\n",
    "    mel = whisper.log_mel_spectrogram(audio, n_mels=languageIdentifierModel.dims.n_mels)\n",
    "    _, probs = languageIdentifierModel.detect_language(mel)\n",
    "    return max(probs, key=probs.get)"
   ]
  },
  {
   "cell_type": "code",
   "execution_count": 9,
   "id": "c948f31f",
   "metadata": {
    "execution": {
     "iopub.execute_input": "2025-05-28T14:19:06.342646Z",
     "iopub.status.busy": "2025-05-28T14:19:06.342263Z",
     "iopub.status.idle": "2025-05-28T14:19:06.346837Z",
     "shell.execute_reply": "2025-05-28T14:19:06.345957Z"
    },
    "papermill": {
     "duration": 0.023873,
     "end_time": "2025-05-28T14:19:06.348471",
     "exception": false,
     "start_time": "2025-05-28T14:19:06.324598",
     "status": "completed"
    },
    "tags": []
   },
   "outputs": [],
   "source": [
    "def preprocess(audio, sr=48000):\n",
    "    mel_spectrogram = librosa.feature.melspectrogram(y=audio, sr=sr)\n",
    "    log_mel_spectrogram = librosa.power_to_db(mel_spectrogram)\n",
    "    log_mel_spectrogram = (log_mel_spectrogram - np.mean(log_mel_spectrogram)) / np.std(log_mel_spectrogram)\n",
    "    return log_mel_spectrogram # (128, 282)"
   ]
  },
  {
   "cell_type": "code",
   "execution_count": 10,
   "id": "36cbd013",
   "metadata": {
    "execution": {
     "iopub.execute_input": "2025-05-28T14:19:06.384212Z",
     "iopub.status.busy": "2025-05-28T14:19:06.383887Z",
     "iopub.status.idle": "2025-05-28T14:19:06.388963Z",
     "shell.execute_reply": "2025-05-28T14:19:06.387926Z"
    },
    "papermill": {
     "duration": 0.024083,
     "end_time": "2025-05-28T14:19:06.390540",
     "exception": false,
     "start_time": "2025-05-28T14:19:06.366457",
     "status": "completed"
    },
    "tags": []
   },
   "outputs": [],
   "source": [
    "def speech_music_classificator(audio):\n",
    "    array, sampling_rate = librosa.load(audio, dtype='float32', sr=48000)\n",
    "    array = preprocess(array[:144000])\n",
    "    array = torch.tensor(array).unsqueeze(0).unsqueeze(0).float()\n",
    "    with torch.no_grad():\n",
    "        output = classificatorModel(array)\n",
    "    prediction = output.item()\n",
    "    prediction = 'music' if prediction < 0.5 else 'speech'\n",
    "    return prediction"
   ]
  },
  {
   "cell_type": "code",
   "execution_count": 11,
   "id": "d44f8e6d",
   "metadata": {
    "execution": {
     "iopub.execute_input": "2025-05-28T14:19:06.424932Z",
     "iopub.status.busy": "2025-05-28T14:19:06.424544Z",
     "iopub.status.idle": "2025-05-28T14:19:06.432684Z",
     "shell.execute_reply": "2025-05-28T14:19:06.431676Z"
    },
    "papermill": {
     "duration": 0.027156,
     "end_time": "2025-05-28T14:19:06.434306",
     "exception": false,
     "start_time": "2025-05-28T14:19:06.407150",
     "status": "completed"
    },
    "tags": []
   },
   "outputs": [],
   "source": [
    "LANGUAGES = {'en': 'english', 'zh': 'chinese', 'de': 'german', 'es': 'spanish', 'ru': 'russian', 'ko': 'korean', 'fr': 'french', 'ja': 'japanese', 'pt': 'portuguese', 'tr': 'turkish', 'pl': 'polish', 'ca': 'catalan', 'nl': 'dutch', 'ar': 'arabic', 'sv': 'swedish', 'it': 'italian', 'id': 'indonesian', 'hi': 'hindi', 'fi': 'finnish', 'vi': 'vietnamese', 'he': 'hebrew', 'uk': 'ukrainian', 'el': 'greek', 'ms': 'malay', 'cs': 'czech', 'ro': 'romanian', 'da': 'danish', 'hu': 'hungarian', 'ta': 'tamil', 'no': 'norwegian', 'th': 'thai', 'ur': 'urdu', 'hr': 'croatian', 'bg': 'bulgarian', 'lt': 'lithuanian', 'la': 'latin', 'mi': 'maori', 'ml': 'malayalam', 'cy': 'welsh', 'sk': 'slovak', 'te': 'telugu', 'fa': 'persian', 'lv': 'latvian', 'bn': 'bengali', 'sr': 'serbian', 'az': 'azerbaijani', 'sl': 'slovenian', 'kn': 'kannada', 'et': 'estonian', 'mk': 'macedonian', 'br': 'breton', 'eu': 'basque', 'is': 'icelandic', 'hy': 'armenian', 'ne': 'nepali', 'mn': 'mongolian', 'bs': 'bosnian', 'kk': 'kazakh', 'sq': 'albanian', 'sw': 'swahili', 'gl': 'galician', 'mr': 'marathi', 'pa': 'punjabi', 'si': 'sinhala', 'km': 'khmer', 'sn': 'shona', 'yo': 'yoruba', 'so': 'somali', 'af': 'afrikaans', 'oc': 'occitan', 'ka': 'georgian', 'be': 'belarusian', 'tg': 'tajik', 'sd': 'sindhi', 'gu': 'gujarati', 'am': 'amharic', 'yi': 'yiddish', 'lo': 'lao', 'uz': 'uzbek', 'fo': 'faroese', 'ht': 'haitian creole', 'ps': 'pashto', 'tk': 'turkmen', 'nn': 'nynorsk', 'mt': 'maltese', 'sa': 'sanskrit', 'lb': 'luxembourgish', 'my': 'myanmar', 'bo': 'tibetan', 'tl': 'tagalog', 'mg': 'malagasy', 'as': 'assamese', 'tt': 'tatar', 'haw': 'hawaiian', 'ln': 'lingala', 'ha': 'hausa', 'ba': 'bashkir', 'jw': 'javanese', 'su': 'sundanese', 'yue': 'cantonese'}"
   ]
  },
  {
   "cell_type": "code",
   "execution_count": 12,
   "id": "45ac83b4",
   "metadata": {
    "execution": {
     "iopub.execute_input": "2025-05-28T14:19:06.470514Z",
     "iopub.status.busy": "2025-05-28T14:19:06.470169Z",
     "iopub.status.idle": "2025-05-28T14:19:06.477302Z",
     "shell.execute_reply": "2025-05-28T14:19:06.476041Z"
    },
    "papermill": {
     "duration": 0.027254,
     "end_time": "2025-05-28T14:19:06.478986",
     "exception": false,
     "start_time": "2025-05-28T14:19:06.451732",
     "status": "completed"
    },
    "tags": []
   },
   "outputs": [],
   "source": [
    "def pie_plot_drawer(statistics, plotname):\n",
    "    statistics_counted = {\n",
    "        'speech': Counter(statistics['speech']),\n",
    "        'music': Counter(statistics['music'])\n",
    "    }\n",
    "\n",
    "    labels = []\n",
    "    parents = []\n",
    "    values = []\n",
    "    ids = []\n",
    "\n",
    "    for category in ['speech', 'music']:\n",
    "        total = sum(statistics_counted[category].values())\n",
    "        labels.append(category)\n",
    "        ids.append(category)\n",
    "        parents.append('')\n",
    "        values.append(total)\n",
    "    \n",
    "        for lang, count in statistics_counted[category].items():\n",
    "            node_id = f\"{category}-{lang}\"\n",
    "            labels.append(lang)\n",
    "            ids.append(node_id)\n",
    "            parents.append(category)\n",
    "            values.append(count)\n",
    "\n",
    "    fig = go.Figure(go.Sunburst(\n",
    "        labels=labels,\n",
    "        parents=parents,\n",
    "        values=values,\n",
    "        ids=ids,\n",
    "        branchvalues='total',\n",
    "        hoverinfo='label+value+percent parent'\n",
    "    ))\n",
    "    \n",
    "    fig.update_layout(\n",
    "        title=plotname,\n",
    "        margin=dict(t=40, l=10, r=10, b=10)\n",
    "    )\n",
    "    return fig.to_html(full_html=False, include_plotlyjs='cdn')"
   ]
  },
  {
   "cell_type": "code",
   "execution_count": 13,
   "id": "3f2065f0",
   "metadata": {
    "execution": {
     "iopub.execute_input": "2025-05-28T14:19:06.513517Z",
     "iopub.status.busy": "2025-05-28T14:19:06.513215Z",
     "iopub.status.idle": "2025-05-28T14:19:06.519341Z",
     "shell.execute_reply": "2025-05-28T14:19:06.518282Z"
    },
    "papermill": {
     "duration": 0.025196,
     "end_time": "2025-05-28T14:19:06.521007",
     "exception": false,
     "start_time": "2025-05-28T14:19:06.495811",
     "status": "completed"
    },
    "tags": []
   },
   "outputs": [],
   "source": [
    "def bar_plot_drawer(statistics, plotname):\n",
    "    splits = list(statistics.keys())\n",
    "    speech_info = []\n",
    "    music_info = []\n",
    "    for bar_name, bar in statistics.items():\n",
    "        speech_info.append(len(bar['speech']))\n",
    "        music_info.append(len(bar['music']))\n",
    "    fig = go.Figure(data=[\n",
    "        go.Bar(\n",
    "            name = 'Speech',\n",
    "            x = splits,\n",
    "            y = speech_info\n",
    "        ),\n",
    "        go.Bar(\n",
    "            name = 'Music',\n",
    "            x = splits,\n",
    "            y = music_info\n",
    "        )\n",
    "    ])\n",
    "    \n",
    "    fig.update_layout(\n",
    "        barmode='stack',\n",
    "        title=plotname\n",
    "    )\n",
    "                     \n",
    "    return fig.to_html(full_html=False, include_plotlyjs=False)"
   ]
  },
  {
   "cell_type": "code",
   "execution_count": 14,
   "id": "619fd279",
   "metadata": {
    "execution": {
     "iopub.execute_input": "2025-05-28T14:19:06.561594Z",
     "iopub.status.busy": "2025-05-28T14:19:06.561223Z",
     "iopub.status.idle": "2025-05-28T14:19:06.566236Z",
     "shell.execute_reply": "2025-05-28T14:19:06.565130Z"
    },
    "papermill": {
     "duration": 0.030409,
     "end_time": "2025-05-28T14:19:06.567961",
     "exception": false,
     "start_time": "2025-05-28T14:19:06.537552",
     "status": "completed"
    },
    "tags": []
   },
   "outputs": [],
   "source": [
    "html_start = f'''\n",
    "    <!DOCTYPE html>\n",
    "    <html>\n",
    "    <head>\n",
    "        <meta charset=\"utf-8\">\n",
    "    </head>\n",
    "    <body>\n",
    "    \n",
    "    '''\n",
    "html_end = f'''\n",
    "    </body>\n",
    "    </html>\n",
    "    '''"
   ]
  },
  {
   "cell_type": "code",
   "execution_count": 15,
   "id": "c3320b39",
   "metadata": {
    "execution": {
     "iopub.execute_input": "2025-05-28T14:19:06.603124Z",
     "iopub.status.busy": "2025-05-28T14:19:06.602793Z",
     "iopub.status.idle": "2025-05-28T14:19:06.610711Z",
     "shell.execute_reply": "2025-05-28T14:19:06.609495Z"
    },
    "papermill": {
     "duration": 0.02742,
     "end_time": "2025-05-28T14:19:06.612638",
     "exception": false,
     "start_time": "2025-05-28T14:19:06.585218",
     "status": "completed"
    },
    "tags": []
   },
   "outputs": [],
   "source": [
    "def system(stream, hours=2, html_start=html_start, html_end=html_end):\n",
    "    statistics = {\n",
    "        'speech': [],\n",
    "        'music': []\n",
    "    }\n",
    "    start_time = time.time()\n",
    "    time_for_new_bar = start_time + 60*60\n",
    "    current_bar = f'{str(time.ctime(start_time))}-{str(time.ctime(time_for_new_bar))}'\n",
    "    statistics_for_bars = {\n",
    "        current_bar: {\n",
    "            'speech': [],\n",
    "            'music': []\n",
    "        }\n",
    "    }\n",
    "    print(f'started at: {time.ctime(start_time + 60*60*3)}')\n",
    "    finish_time = start_time + 60*60*hours\n",
    "    while time.time() < finish_time:\n",
    "        current_time = time.time()\n",
    "        if current_time >= time_for_new_bar:\n",
    "            current_bar = f'{str(time.ctime(time_for_new_bar))}-{str(time.ctime(current_time + 60*60))}'\n",
    "            time_for_new_bar = current_time + 60*60\n",
    "            statistics_for_bars[current_bar] = {'speech': [], 'music': []}\n",
    "        audio = recorder(stream)\n",
    "        language = language_identifier(audio)\n",
    "        content = speech_music_classificator(audio)\n",
    "        statistics[content].append(LANGUAGES[language])\n",
    "        statistics_for_bars[current_bar][content].append(LANGUAGES[language])\n",
    "    print(f'finished at: {time.ctime(finish_time + 60*60*3)}')\n",
    "    html_start += pie_plot_drawer(statistics, f'Pie plot for the whole peroid')\n",
    "    html_start += bar_plot_drawer(statistics_for_bars, f'Bar plot for each hour separately')\n",
    "    full_html = html_start + html_end\n",
    "    with open('charts.html', 'w') as html_f:\n",
    "        html_f.write(full_html)"
   ]
  },
  {
   "cell_type": "code",
   "execution_count": 16,
   "id": "a20d1eb8",
   "metadata": {
    "execution": {
     "iopub.execute_input": "2025-05-28T14:19:06.647242Z",
     "iopub.status.busy": "2025-05-28T14:19:06.646930Z",
     "iopub.status.idle": "2025-05-28T16:19:16.789234Z",
     "shell.execute_reply": "2025-05-28T16:19:16.788142Z"
    },
    "papermill": {
     "duration": 7210.161943,
     "end_time": "2025-05-28T16:19:16.791235",
     "exception": false,
     "start_time": "2025-05-28T14:19:06.629292",
     "status": "completed"
    },
    "tags": []
   },
   "outputs": [
    {
     "name": "stdout",
     "output_type": "stream",
     "text": [
      "started at: Wed May 28 17:19:06 2025\n",
      "finished at: Wed May 28 19:19:06 2025\n"
     ]
    }
   ],
   "source": [
    "system(stream)"
   ]
  },
  {
   "cell_type": "code",
   "execution_count": null,
   "id": "e9e8d6af",
   "metadata": {
    "papermill": {
     "duration": 0.016383,
     "end_time": "2025-05-28T16:19:16.824804",
     "exception": false,
     "start_time": "2025-05-28T16:19:16.808421",
     "status": "completed"
    },
    "tags": []
   },
   "outputs": [],
   "source": []
  }
 ],
 "metadata": {
  "kaggle": {
   "accelerator": "none",
   "dataSources": [
    {
     "isSourceIdPinned": true,
     "modelId": 350058,
     "modelInstanceId": 329247,
     "sourceId": 405908,
     "sourceType": "modelInstanceVersion"
    }
   ],
   "dockerImageVersionId": 30918,
   "isGpuEnabled": false,
   "isInternetEnabled": true,
   "language": "python",
   "sourceType": "notebook"
  },
  "kernelspec": {
   "display_name": "Python 3",
   "language": "python",
   "name": "python3"
  },
  "language_info": {
   "codemirror_mode": {
    "name": "ipython",
    "version": 3
   },
   "file_extension": ".py",
   "mimetype": "text/x-python",
   "name": "python",
   "nbconvert_exporter": "python",
   "pygments_lexer": "ipython3",
   "version": "3.10.12"
  },
  "papermill": {
   "default_parameters": {},
   "duration": 7298.822979,
   "end_time": "2025-05-28T16:19:20.559308",
   "environment_variables": {},
   "exception": null,
   "input_path": "__notebook__.ipynb",
   "output_path": "__notebook__.ipynb",
   "parameters": {},
   "start_time": "2025-05-28T14:17:41.736329",
   "version": "2.6.0"
  }
 },
 "nbformat": 4,
 "nbformat_minor": 5
}
