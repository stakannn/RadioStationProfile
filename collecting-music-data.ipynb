{
 "cells": [
  {
   "cell_type": "code",
   "execution_count": 1,
   "id": "c7480ef9",
   "metadata": {
    "_cell_guid": "b1076dfc-b9ad-4769-8c92-a6c4dae69d19",
    "_uuid": "8f2839f25d086af736a60e9eeb907d3b93b6e0e5",
    "execution": {
     "iopub.execute_input": "2025-05-18T13:47:06.459054Z",
     "iopub.status.busy": "2025-05-18T13:47:06.457952Z",
     "iopub.status.idle": "2025-05-18T13:47:08.829680Z",
     "shell.execute_reply": "2025-05-18T13:47:08.828260Z"
    },
    "papermill": {
     "duration": 2.379162,
     "end_time": "2025-05-18T13:47:08.831979",
     "exception": false,
     "start_time": "2025-05-18T13:47:06.452817",
     "status": "completed"
    },
    "tags": []
   },
   "outputs": [],
   "source": [
    "import os\n",
    "import csv\n",
    "import pickle\n",
    "import librosa\n",
    "import pandas as pd"
   ]
  },
  {
   "cell_type": "markdown",
   "id": "908cc321",
   "metadata": {
    "papermill": {
     "duration": 0.002627,
     "end_time": "2025-05-18T13:47:08.838467",
     "exception": false,
     "start_time": "2025-05-18T13:47:08.835840",
     "status": "completed"
    },
    "tags": []
   },
   "source": [
    "## Список языков, отобранных для датасета:\n",
    "1. Indonesian\n",
    "2. French\n",
    "3. Spanish\n",
    "4. Japanese\n",
    "5. Dutch\n",
    "6. Lithuanian\n",
    "7. Portuguese\n",
    "8. Romanian\n",
    "9. English"
   ]
  },
  {
   "cell_type": "code",
   "execution_count": 2,
   "id": "232ab6be",
   "metadata": {
    "execution": {
     "iopub.execute_input": "2025-05-18T13:47:08.846019Z",
     "iopub.status.busy": "2025-05-18T13:47:08.845482Z",
     "iopub.status.idle": "2025-05-18T13:47:08.851055Z",
     "shell.execute_reply": "2025-05-18T13:47:08.849990Z"
    },
    "papermill": {
     "duration": 0.011575,
     "end_time": "2025-05-18T13:47:08.852943",
     "exception": false,
     "start_time": "2025-05-18T13:47:08.841368",
     "status": "completed"
    },
    "tags": []
   },
   "outputs": [],
   "source": [
    "LANGUAGES = ['Indonesian', 'French', 'Spanish', 'Japanese', 'Dutch', 'Lithuanian', 'Portuguese', 'Romanian', 'English']"
   ]
  },
  {
   "cell_type": "code",
   "execution_count": 3,
   "id": "6d00c095",
   "metadata": {
    "execution": {
     "iopub.execute_input": "2025-05-18T13:47:08.860290Z",
     "iopub.status.busy": "2025-05-18T13:47:08.859868Z",
     "iopub.status.idle": "2025-05-18T13:47:08.865394Z",
     "shell.execute_reply": "2025-05-18T13:47:08.864362Z"
    },
    "papermill": {
     "duration": 0.011272,
     "end_time": "2025-05-18T13:47:08.867217",
     "exception": false,
     "start_time": "2025-05-18T13:47:08.855945",
     "status": "completed"
    },
    "tags": []
   },
   "outputs": [],
   "source": [
    "LANGUAGES_CODES = {\n",
    "    'Indonesian': 'id',\n",
    "    'French': 'fr',\n",
    "    'Spanish': 'es',\n",
    "    'Japanese': 'ja',\n",
    "    'Dutch': 'nl',\n",
    "    'Lithuanian': 'lt',\n",
    "    'Portuguese': 'pt',\n",
    "    'Romanian': 'ro',\n",
    "    'English': 'en'\n",
    "}"
   ]
  },
  {
   "cell_type": "code",
   "execution_count": 4,
   "id": "ebb1f284",
   "metadata": {
    "execution": {
     "iopub.execute_input": "2025-05-18T13:47:08.873802Z",
     "iopub.status.busy": "2025-05-18T13:47:08.873502Z",
     "iopub.status.idle": "2025-05-18T13:47:08.878329Z",
     "shell.execute_reply": "2025-05-18T13:47:08.877281Z"
    },
    "papermill": {
     "duration": 0.009855,
     "end_time": "2025-05-18T13:47:08.879982",
     "exception": false,
     "start_time": "2025-05-18T13:47:08.870127",
     "status": "completed"
    },
    "tags": []
   },
   "outputs": [],
   "source": [
    "NUMBER_OF_PIECES = 1500\n",
    "DURATION_SECONDS = 3"
   ]
  },
  {
   "cell_type": "code",
   "execution_count": 5,
   "id": "1f1d7ab4",
   "metadata": {
    "execution": {
     "iopub.execute_input": "2025-05-18T13:47:08.886429Z",
     "iopub.status.busy": "2025-05-18T13:47:08.886116Z",
     "iopub.status.idle": "2025-05-18T13:47:08.935318Z",
     "shell.execute_reply": "2025-05-18T13:47:08.934215Z"
    },
    "papermill": {
     "duration": 0.054406,
     "end_time": "2025-05-18T13:47:08.936994",
     "exception": false,
     "start_time": "2025-05-18T13:47:08.882588",
     "status": "completed"
    },
    "tags": []
   },
   "outputs": [],
   "source": [
    "with open('/kaggle/input/jukebox-mirror/artistsIdsAndLanguages.csv', 'r') as file:\n",
    "    df = pd.read_csv(file, delimiter=';')\n",
    "    languages_and_artists_ids = df.groupby('language_label')['artist_id'].apply(list).to_dict()"
   ]
  },
  {
   "cell_type": "code",
   "execution_count": 6,
   "id": "02f6d5e5",
   "metadata": {
    "execution": {
     "iopub.execute_input": "2025-05-18T13:47:08.943321Z",
     "iopub.status.busy": "2025-05-18T13:47:08.943017Z",
     "iopub.status.idle": "2025-05-18T13:47:08.950039Z",
     "shell.execute_reply": "2025-05-18T13:47:08.948867Z"
    },
    "papermill": {
     "duration": 0.012131,
     "end_time": "2025-05-18T13:47:08.951692",
     "exception": false,
     "start_time": "2025-05-18T13:47:08.939561",
     "status": "completed"
    },
    "tags": []
   },
   "outputs": [],
   "source": [
    "def process_artist_folder(JukeBox_folder, language_code, artist_id):\n",
    "    folder_count = 0\n",
    "    folder_data = []\n",
    "    for wav_file in os.listdir(JukeBox_folder):\n",
    "        song_id = wav_file[:-4]\n",
    "        wav_path = os.path.join(JukeBox_folder, wav_file)\n",
    "        array, sampling_rate = librosa.load(wav_path, dtype='float32', sr=48000)\n",
    "        piece_size = DURATION_SECONDS * sampling_rate\n",
    "        number_of_pieces_from_wav = len(array) // piece_size\n",
    "        for i in range(number_of_pieces_from_wav):\n",
    "            piece = array[i*piece_size : (i+1)*piece_size]\n",
    "            folder_data.append({\n",
    "                'name': f'{language_code}{song_id}{folder_count}music',\n",
    "                'array': piece,\n",
    "                'language_code': language_code,\n",
    "                'label': 'music',\n",
    "            })\n",
    "            folder_count += 1\n",
    "    return folder_count, folder_data"
   ]
  },
  {
   "cell_type": "code",
   "execution_count": 7,
   "id": "77fedd23",
   "metadata": {
    "execution": {
     "iopub.execute_input": "2025-05-18T13:47:08.959485Z",
     "iopub.status.busy": "2025-05-18T13:47:08.958173Z",
     "iopub.status.idle": "2025-05-18T13:47:08.965235Z",
     "shell.execute_reply": "2025-05-18T13:47:08.964005Z"
    },
    "papermill": {
     "duration": 0.012668,
     "end_time": "2025-05-18T13:47:08.966994",
     "exception": false,
     "start_time": "2025-05-18T13:47:08.954326",
     "status": "completed"
    },
    "tags": []
   },
   "outputs": [],
   "source": [
    "def process_language(language, language_code, artists_ids):\n",
    "    print(f'processing language: {language}')\n",
    "    language_data = []\n",
    "    language_count = 0\n",
    "    for artist_id in artists_ids:\n",
    "        if language_count >= NUMBER_OF_PIECES:\n",
    "            break\n",
    "        artist_folder = f'/kaggle/input/jukebox-mirror/ALLTHEDATA/ALLTHEDATA/{artist_id}'\n",
    "        folder_count, folder_data = process_artist_folder(artist_folder, language_code, artist_id)\n",
    "        language_count += folder_count\n",
    "        language_data.extend(folder_data[:NUMBER_OF_PIECES])\n",
    "    print(f'processed {language_count} pieces for {language} language ({language_code})')\n",
    "    return language_data"
   ]
  },
  {
   "cell_type": "code",
   "execution_count": 8,
   "id": "1e59e67f",
   "metadata": {
    "execution": {
     "iopub.execute_input": "2025-05-18T13:47:08.973819Z",
     "iopub.status.busy": "2025-05-18T13:47:08.973427Z",
     "iopub.status.idle": "2025-05-18T13:53:14.217660Z",
     "shell.execute_reply": "2025-05-18T13:53:14.196061Z"
    },
    "papermill": {
     "duration": 365.250684,
     "end_time": "2025-05-18T13:53:14.220392",
     "exception": false,
     "start_time": "2025-05-18T13:47:08.969708",
     "status": "completed"
    },
    "tags": []
   },
   "outputs": [
    {
     "name": "stdout",
     "output_type": "stream",
     "text": [
      "processing language: Dutch\n",
      "processed 5800 pieces for Dutch language (nl)\n",
      "processing language: English\n",
      "processed 1884 pieces for English language (en)\n",
      "processing language: French\n",
      "processed 2360 pieces for French language (fr)\n",
      "processing language: Indonesian\n",
      "processed 2090 pieces for Indonesian language (id)\n",
      "processing language: Japanese\n",
      "processed 1670 pieces for Japanese language (ja)\n",
      "processing language: Lithuanian\n",
      "processed 2630 pieces for Lithuanian language (lt)\n",
      "processing language: Portuguese\n",
      "processed 2108 pieces for Portuguese language (pt)\n",
      "processing language: Romanian\n",
      "processed 1830 pieces for Romanian language (ro)\n",
      "processing language: Spanish\n",
      "processed 1890 pieces for Spanish language (es)\n"
     ]
    }
   ],
   "source": [
    "for language, artists_ids in languages_and_artists_ids.items():\n",
    "    if language in LANGUAGES:\n",
    "        language_data = process_language(language, LANGUAGES_CODES[language], artists_ids)\n",
    "        if 'music_dataset.pkl' in os.listdir('/kaggle/working/'):\n",
    "            with open('music_dataset.pkl', 'rb') as file:\n",
    "                existing_data = pd.read_pickle(file)\n",
    "                language_data = existing_data + language_data\n",
    "        with open('music_dataset.pkl', 'wb') as file:\n",
    "            pickle.dump(language_data, file)"
   ]
  },
  {
   "cell_type": "code",
   "execution_count": null,
   "id": "f4a22b69",
   "metadata": {
    "papermill": {
     "duration": 0.004289,
     "end_time": "2025-05-18T13:53:14.230848",
     "exception": false,
     "start_time": "2025-05-18T13:53:14.226559",
     "status": "completed"
    },
    "tags": []
   },
   "outputs": [],
   "source": []
  }
 ],
 "metadata": {
  "kaggle": {
   "accelerator": "none",
   "dataSources": [
    {
     "datasetId": 7394985,
     "sourceId": 11847710,
     "sourceType": "datasetVersion"
    }
   ],
   "dockerImageVersionId": 31040,
   "isGpuEnabled": false,
   "isInternetEnabled": true,
   "language": "python",
   "sourceType": "notebook"
  },
  "kernelspec": {
   "display_name": "Python 3",
   "language": "python",
   "name": "python3"
  },
  "language_info": {
   "codemirror_mode": {
    "name": "ipython",
    "version": 3
   },
   "file_extension": ".py",
   "mimetype": "text/x-python",
   "name": "python",
   "nbconvert_exporter": "python",
   "pygments_lexer": "ipython3",
   "version": "3.11.11"
  },
  "papermill": {
   "default_parameters": {},
   "duration": 376.510333,
   "end_time": "2025-05-18T13:53:17.064103",
   "environment_variables": {},
   "exception": null,
   "input_path": "__notebook__.ipynb",
   "output_path": "__notebook__.ipynb",
   "parameters": {},
   "start_time": "2025-05-18T13:47:00.553770",
   "version": "2.6.0"
  }
 },
 "nbformat": 4,
 "nbformat_minor": 5
}
