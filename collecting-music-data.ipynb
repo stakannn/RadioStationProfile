{
 "cells": [
  {
   "cell_type": "code",
   "execution_count": 1,
   "id": "3f52599a",
   "metadata": {
    "_cell_guid": "b1076dfc-b9ad-4769-8c92-a6c4dae69d19",
    "_uuid": "8f2839f25d086af736a60e9eeb907d3b93b6e0e5",
    "execution": {
     "iopub.execute_input": "2025-05-18T12:33:02.426452Z",
     "iopub.status.busy": "2025-05-18T12:33:02.426149Z",
     "iopub.status.idle": "2025-05-18T12:33:04.565283Z",
     "shell.execute_reply": "2025-05-18T12:33:04.564253Z"
    },
    "papermill": {
     "duration": 2.145774,
     "end_time": "2025-05-18T12:33:04.567029",
     "exception": false,
     "start_time": "2025-05-18T12:33:02.421255",
     "status": "completed"
    },
    "tags": []
   },
   "outputs": [],
   "source": [
    "import os\n",
    "import csv\n",
    "import pickle\n",
    "import librosa\n",
    "import pandas as pd"
   ]
  },
  {
   "cell_type": "markdown",
   "id": "b20fd5ac",
   "metadata": {
    "papermill": {
     "duration": 0.002161,
     "end_time": "2025-05-18T12:33:04.572530",
     "exception": false,
     "start_time": "2025-05-18T12:33:04.570369",
     "status": "completed"
    },
    "tags": []
   },
   "source": [
    "## Список языков, отобранных для датасета:\n",
    "1. Indonesian\n",
    "2. French\n",
    "3. Spanish\n",
    "4. Japanese\n",
    "5. Dutch\n",
    "6. Lithuanian\n",
    "7. Portuguese\n",
    "8. Romanian\n",
    "9. English"
   ]
  },
  {
   "cell_type": "code",
   "execution_count": 2,
   "id": "1a615a56",
   "metadata": {
    "execution": {
     "iopub.execute_input": "2025-05-18T12:33:04.578719Z",
     "iopub.status.busy": "2025-05-18T12:33:04.578289Z",
     "iopub.status.idle": "2025-05-18T12:33:04.583288Z",
     "shell.execute_reply": "2025-05-18T12:33:04.582231Z"
    },
    "papermill": {
     "duration": 0.009957,
     "end_time": "2025-05-18T12:33:04.584885",
     "exception": false,
     "start_time": "2025-05-18T12:33:04.574928",
     "status": "completed"
    },
    "tags": []
   },
   "outputs": [],
   "source": [
    "LANGUAGES = ['Indonesian', 'French', 'Spanish', 'Japanese', 'Dutch', 'Lithuanian', 'Portuguese', 'Romanian', 'English']"
   ]
  },
  {
   "cell_type": "code",
   "execution_count": 3,
   "id": "833bcf6d",
   "metadata": {
    "execution": {
     "iopub.execute_input": "2025-05-18T12:33:04.591617Z",
     "iopub.status.busy": "2025-05-18T12:33:04.591291Z",
     "iopub.status.idle": "2025-05-18T12:33:04.596614Z",
     "shell.execute_reply": "2025-05-18T12:33:04.595515Z"
    },
    "papermill": {
     "duration": 0.011412,
     "end_time": "2025-05-18T12:33:04.598965",
     "exception": false,
     "start_time": "2025-05-18T12:33:04.587553",
     "status": "completed"
    },
    "tags": []
   },
   "outputs": [],
   "source": [
    "LANGUAGES_CODES = {\n",
    "    'Indonesian': 'id',\n",
    "    'French': 'fr',\n",
    "    'Spanish': 'es',\n",
    "    'Japanese': 'ja',\n",
    "    'Dutch': 'nl',\n",
    "    'Lithuanian': 'lt',\n",
    "    'Portuguese': 'pt',\n",
    "    'Romanian': 'ro',\n",
    "    'English': 'en'\n",
    "}"
   ]
  },
  {
   "cell_type": "code",
   "execution_count": 4,
   "id": "aade8783",
   "metadata": {
    "execution": {
     "iopub.execute_input": "2025-05-18T12:33:04.607099Z",
     "iopub.status.busy": "2025-05-18T12:33:04.606660Z",
     "iopub.status.idle": "2025-05-18T12:33:04.612215Z",
     "shell.execute_reply": "2025-05-18T12:33:04.610970Z"
    },
    "papermill": {
     "duration": 0.011781,
     "end_time": "2025-05-18T12:33:04.614096",
     "exception": false,
     "start_time": "2025-05-18T12:33:04.602315",
     "status": "completed"
    },
    "tags": []
   },
   "outputs": [],
   "source": [
    "NUMBER_OF_PIECES = 1000\n",
    "DURATION_SECONDS = 3"
   ]
  },
  {
   "cell_type": "code",
   "execution_count": 5,
   "id": "12bf627f",
   "metadata": {
    "execution": {
     "iopub.execute_input": "2025-05-18T12:33:04.621058Z",
     "iopub.status.busy": "2025-05-18T12:33:04.620558Z",
     "iopub.status.idle": "2025-05-18T12:33:04.665791Z",
     "shell.execute_reply": "2025-05-18T12:33:04.664152Z"
    },
    "papermill": {
     "duration": 0.051372,
     "end_time": "2025-05-18T12:33:04.668088",
     "exception": false,
     "start_time": "2025-05-18T12:33:04.616716",
     "status": "completed"
    },
    "tags": []
   },
   "outputs": [],
   "source": [
    "with open('/kaggle/input/jukebox-mirror/artistsIdsAndLanguages.csv', 'r') as file:\n",
    "    df = pd.read_csv(file, delimiter=';')\n",
    "    languages_and_artists_ids = df.groupby('language_label')['artist_id'].apply(list).to_dict()"
   ]
  },
  {
   "cell_type": "code",
   "execution_count": 6,
   "id": "c01289ad",
   "metadata": {
    "execution": {
     "iopub.execute_input": "2025-05-18T12:33:04.678002Z",
     "iopub.status.busy": "2025-05-18T12:33:04.677513Z",
     "iopub.status.idle": "2025-05-18T12:33:04.687180Z",
     "shell.execute_reply": "2025-05-18T12:33:04.686102Z"
    },
    "papermill": {
     "duration": 0.016772,
     "end_time": "2025-05-18T12:33:04.689308",
     "exception": false,
     "start_time": "2025-05-18T12:33:04.672536",
     "status": "completed"
    },
    "tags": []
   },
   "outputs": [],
   "source": [
    "def process_artist_folder(JukeBox_folder, language_code, artist_id):\n",
    "    folder_count = 0\n",
    "    folder_data = []\n",
    "    for wav_file in os.listdir(JukeBox_folder):\n",
    "        song_id = wav_file[:-4]\n",
    "        wav_path = os.path.join(JukeBox_folder, wav_file)\n",
    "        array, sampling_rate = librosa.load(wav_path, dtype='float64', sr=48000)\n",
    "        array = array.astype('float32')\n",
    "        piece_size = DURATION_SECONDS * sampling_rate\n",
    "        number_of_pieces_from_wav = len(array) // piece_size\n",
    "        for i in range(number_of_pieces_from_wav):\n",
    "            piece = array[i*piece_size : (i+1)*piece_size]\n",
    "            folder_data.append({\n",
    "                'name': f'{language_code}{song_id}{folder_count}music',\n",
    "                'array': piece,\n",
    "                'language_code': language_code,\n",
    "                'label': 'music',\n",
    "            })\n",
    "            folder_count += 1\n",
    "    return folder_count, folder_data"
   ]
  },
  {
   "cell_type": "code",
   "execution_count": 7,
   "id": "c9a9c306",
   "metadata": {
    "execution": {
     "iopub.execute_input": "2025-05-18T12:33:04.697590Z",
     "iopub.status.busy": "2025-05-18T12:33:04.697225Z",
     "iopub.status.idle": "2025-05-18T12:33:04.705069Z",
     "shell.execute_reply": "2025-05-18T12:33:04.703578Z"
    },
    "papermill": {
     "duration": 0.014727,
     "end_time": "2025-05-18T12:33:04.707174",
     "exception": false,
     "start_time": "2025-05-18T12:33:04.692447",
     "status": "completed"
    },
    "tags": []
   },
   "outputs": [],
   "source": [
    "def process_language(language, language_code, artists_ids):\n",
    "    print(f'processing language: {language}')\n",
    "    language_data = []\n",
    "    language_count = 0\n",
    "    for artist_id in artists_ids:\n",
    "        if language_count >= NUMBER_OF_PIECES:\n",
    "            break\n",
    "        artist_folder = f'/kaggle/input/jukebox-mirror/ALLTHEDATA/ALLTHEDATA/{artist_id}'\n",
    "        folder_count, folder_data = process_artist_folder(artist_folder, language_code, artist_id)\n",
    "        language_count += folder_count\n",
    "        language_data.extend(folder_data[:NUMBER_OF_PIECES])\n",
    "    print(f'processed {language_count} pieces for {language} language ({language_code})')\n",
    "    return language_data"
   ]
  },
  {
   "cell_type": "code",
   "execution_count": 8,
   "id": "b8cc66ec",
   "metadata": {
    "execution": {
     "iopub.execute_input": "2025-05-18T12:33:04.715343Z",
     "iopub.status.busy": "2025-05-18T12:33:04.715017Z",
     "iopub.status.idle": "2025-05-18T12:36:50.728378Z",
     "shell.execute_reply": "2025-05-18T12:36:50.726699Z"
    },
    "papermill": {
     "duration": 226.020889,
     "end_time": "2025-05-18T12:36:50.731554",
     "exception": false,
     "start_time": "2025-05-18T12:33:04.710665",
     "status": "completed"
    },
    "tags": []
   },
   "outputs": [
    {
     "name": "stdout",
     "output_type": "stream",
     "text": [
      "processing language: Dutch\n",
      "processed 1450 pieces for Dutch language (nl)\n",
      "processing language: English\n",
      "processed 1484 pieces for English language (en)\n",
      "processing language: French\n",
      "processed 1040 pieces for French language (fr)\n",
      "processing language: Indonesian\n",
      "processed 2090 pieces for Indonesian language (id)\n",
      "processing language: Japanese\n",
      "processed 1250 pieces for Japanese language (ja)\n",
      "processing language: Lithuanian\n",
      "processed 2630 pieces for Lithuanian language (lt)\n",
      "processing language: Portuguese\n",
      "processed 1152 pieces for Portuguese language (pt)\n",
      "processing language: Romanian\n",
      "processed 1830 pieces for Romanian language (ro)\n",
      "processing language: Spanish\n",
      "processed 1890 pieces for Spanish language (es)\n"
     ]
    }
   ],
   "source": [
    "for language, artists_ids in languages_and_artists_ids.items():\n",
    "    if language in LANGUAGES:\n",
    "        language_data = process_language(language, LANGUAGES_CODES[language], artists_ids)\n",
    "        if 'music_dataset.pkl' in os.listdir('/kaggle/working/'):\n",
    "            with open('music_dataset.pkl', 'rb') as file:\n",
    "                existing_data = pd.read_pickle(file)\n",
    "                language_data = existing_data + language_data\n",
    "        with open('music_dataset.pkl', 'wb') as file:\n",
    "            pickle.dump(language_data, file)"
   ]
  },
  {
   "cell_type": "code",
   "execution_count": null,
   "id": "22c95caf",
   "metadata": {
    "papermill": {
     "duration": 0.030346,
     "end_time": "2025-05-18T12:36:50.768694",
     "exception": false,
     "start_time": "2025-05-18T12:36:50.738348",
     "status": "completed"
    },
    "tags": []
   },
   "outputs": [],
   "source": []
  }
 ],
 "metadata": {
  "kaggle": {
   "accelerator": "none",
   "dataSources": [
    {
     "datasetId": 7394985,
     "sourceId": 11847710,
     "sourceType": "datasetVersion"
    }
   ],
   "dockerImageVersionId": 31040,
   "isGpuEnabled": false,
   "isInternetEnabled": true,
   "language": "python",
   "sourceType": "notebook"
  },
  "kernelspec": {
   "display_name": "Python 3",
   "language": "python",
   "name": "python3"
  },
  "language_info": {
   "codemirror_mode": {
    "name": "ipython",
    "version": 3
   },
   "file_extension": ".py",
   "mimetype": "text/x-python",
   "name": "python",
   "nbconvert_exporter": "python",
   "pygments_lexer": "ipython3",
   "version": "3.11.11"
  },
  "papermill": {
   "default_parameters": {},
   "duration": 235.681199,
   "end_time": "2025-05-18T12:36:53.002072",
   "environment_variables": {},
   "exception": null,
   "input_path": "__notebook__.ipynb",
   "output_path": "__notebook__.ipynb",
   "parameters": {},
   "start_time": "2025-05-18T12:32:57.320873",
   "version": "2.6.0"
  }
 },
 "nbformat": 4,
 "nbformat_minor": 5
}
