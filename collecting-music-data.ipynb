{
 "cells": [
  {
   "cell_type": "code",
   "execution_count": 1,
   "id": "aa71a558",
   "metadata": {
    "_cell_guid": "b1076dfc-b9ad-4769-8c92-a6c4dae69d19",
    "_uuid": "8f2839f25d086af736a60e9eeb907d3b93b6e0e5",
    "execution": {
     "iopub.execute_input": "2025-05-17T19:35:24.460271Z",
     "iopub.status.busy": "2025-05-17T19:35:24.459753Z",
     "iopub.status.idle": "2025-05-17T19:35:26.445867Z",
     "shell.execute_reply": "2025-05-17T19:35:26.444707Z"
    },
    "papermill": {
     "duration": 1.992107,
     "end_time": "2025-05-17T19:35:26.447777",
     "exception": false,
     "start_time": "2025-05-17T19:35:24.455670",
     "status": "completed"
    },
    "tags": []
   },
   "outputs": [],
   "source": [
    "import os\n",
    "import csv\n",
    "import pickle\n",
    "import librosa\n",
    "import pandas as pd"
   ]
  },
  {
   "cell_type": "markdown",
   "id": "6dde5c1b",
   "metadata": {
    "papermill": {
     "duration": 0.001979,
     "end_time": "2025-05-17T19:35:26.452668",
     "exception": false,
     "start_time": "2025-05-17T19:35:26.450689",
     "status": "completed"
    },
    "tags": []
   },
   "source": [
    "## Список языков, отобранных для датасета:\n",
    "1. Indonesian\n",
    "2. French\n",
    "3. Spanish\n",
    "4. Japanese\n",
    "5. Dutch\n",
    "6. Portuguese\n",
    "7. Romanian\n",
    "8. Slovenian\n",
    "9. Finnish\n",
    "10. English"
   ]
  },
  {
   "cell_type": "code",
   "execution_count": 2,
   "id": "944ff687",
   "metadata": {
    "execution": {
     "iopub.execute_input": "2025-05-17T19:35:26.458676Z",
     "iopub.status.busy": "2025-05-17T19:35:26.457918Z",
     "iopub.status.idle": "2025-05-17T19:35:26.463814Z",
     "shell.execute_reply": "2025-05-17T19:35:26.462460Z"
    },
    "papermill": {
     "duration": 0.011513,
     "end_time": "2025-05-17T19:35:26.466333",
     "exception": false,
     "start_time": "2025-05-17T19:35:26.454820",
     "status": "completed"
    },
    "tags": []
   },
   "outputs": [],
   "source": [
    "LANGUAGES = ['Indonesian', 'French', 'Spanish', 'Japanese', 'Dutch', 'Lithuanian', 'Portuguese', 'Romanian', 'Finnish', 'English']"
   ]
  },
  {
   "cell_type": "code",
   "execution_count": 3,
   "id": "73a6c89f",
   "metadata": {
    "execution": {
     "iopub.execute_input": "2025-05-17T19:35:26.472370Z",
     "iopub.status.busy": "2025-05-17T19:35:26.471994Z",
     "iopub.status.idle": "2025-05-17T19:35:26.478297Z",
     "shell.execute_reply": "2025-05-17T19:35:26.476797Z"
    },
    "papermill": {
     "duration": 0.011472,
     "end_time": "2025-05-17T19:35:26.480263",
     "exception": false,
     "start_time": "2025-05-17T19:35:26.468791",
     "status": "completed"
    },
    "tags": []
   },
   "outputs": [],
   "source": [
    "LANGUAGES_CODES = {\n",
    "    'Indonesian': 'id',\n",
    "    'French': 'fr',\n",
    "    'Spanish': 'es',\n",
    "    'Japanese': 'ja',\n",
    "    'Dutch': 'nl',\n",
    "    'Lithuanian': 'lt',\n",
    "    'Portuguese': 'pt',\n",
    "    'Romanian': 'ro',\n",
    "    'Finnish': 'fi',\n",
    "    'English': 'en'\n",
    "}"
   ]
  },
  {
   "cell_type": "code",
   "execution_count": 4,
   "id": "9a51cdf7",
   "metadata": {
    "execution": {
     "iopub.execute_input": "2025-05-17T19:35:26.487279Z",
     "iopub.status.busy": "2025-05-17T19:35:26.486911Z",
     "iopub.status.idle": "2025-05-17T19:35:26.491785Z",
     "shell.execute_reply": "2025-05-17T19:35:26.490627Z"
    },
    "papermill": {
     "duration": 0.011069,
     "end_time": "2025-05-17T19:35:26.493734",
     "exception": false,
     "start_time": "2025-05-17T19:35:26.482665",
     "status": "completed"
    },
    "tags": []
   },
   "outputs": [],
   "source": [
    "NUMBER_OF_PIECES = 1500\n",
    "DURATION_SECONDS = 3"
   ]
  },
  {
   "cell_type": "code",
   "execution_count": 5,
   "id": "192a1108",
   "metadata": {
    "execution": {
     "iopub.execute_input": "2025-05-17T19:35:26.499849Z",
     "iopub.status.busy": "2025-05-17T19:35:26.499539Z",
     "iopub.status.idle": "2025-05-17T19:35:26.544359Z",
     "shell.execute_reply": "2025-05-17T19:35:26.543335Z"
    },
    "papermill": {
     "duration": 0.050089,
     "end_time": "2025-05-17T19:35:26.546377",
     "exception": false,
     "start_time": "2025-05-17T19:35:26.496288",
     "status": "completed"
    },
    "tags": []
   },
   "outputs": [],
   "source": [
    "with open('/kaggle/input/jukebox-mirror/artistsIdsAndLanguages.csv', 'r') as file:\n",
    "    df = pd.read_csv(file, delimiter=';')\n",
    "    languages_and_artists_ids = df.groupby('language_label')['artist_id'].apply(list).to_dict()"
   ]
  },
  {
   "cell_type": "code",
   "execution_count": 6,
   "id": "981e9ca4",
   "metadata": {
    "execution": {
     "iopub.execute_input": "2025-05-17T19:35:26.552991Z",
     "iopub.status.busy": "2025-05-17T19:35:26.551918Z",
     "iopub.status.idle": "2025-05-17T19:35:26.558585Z",
     "shell.execute_reply": "2025-05-17T19:35:26.557747Z"
    },
    "papermill": {
     "duration": 0.011142,
     "end_time": "2025-05-17T19:35:26.559915",
     "exception": false,
     "start_time": "2025-05-17T19:35:26.548773",
     "status": "completed"
    },
    "tags": []
   },
   "outputs": [],
   "source": [
    "def process_artist_folder(JukeBox_folder, language_code, artist_id):\n",
    "    folder_count = 0\n",
    "    folder_data = []\n",
    "    for wav_file in os.listdir(JukeBox_folder):\n",
    "        song_id = wav_file[:-4]\n",
    "        wav_path = os.path.join(JukeBox_folder, wav_file)\n",
    "        array, sampling_rate = librosa.load(wav_path, dtype='float64', sr=48000)\n",
    "        piece_size = DURATION_SECONDS * sampling_rate\n",
    "        number_of_pieces_from_wav = len(array) // piece_size\n",
    "        for i in range(number_of_pieces_from_wav):\n",
    "            piece = array[i*piece_size : (i+1)*piece_size]\n",
    "            folder_data.append({\n",
    "                'name': f'{language_code}{song_id}{folder_count}music',\n",
    "                'array': piece,\n",
    "                'language_code': language_code,\n",
    "                'label': 'music',\n",
    "            })\n",
    "            folder_count += 1\n",
    "    return folder_count, folder_data"
   ]
  },
  {
   "cell_type": "code",
   "execution_count": 7,
   "id": "f77bcea9",
   "metadata": {
    "execution": {
     "iopub.execute_input": "2025-05-17T19:35:26.565963Z",
     "iopub.status.busy": "2025-05-17T19:35:26.565598Z",
     "iopub.status.idle": "2025-05-17T19:35:26.571163Z",
     "shell.execute_reply": "2025-05-17T19:35:26.570315Z"
    },
    "papermill": {
     "duration": 0.010132,
     "end_time": "2025-05-17T19:35:26.572562",
     "exception": false,
     "start_time": "2025-05-17T19:35:26.562430",
     "status": "completed"
    },
    "tags": []
   },
   "outputs": [],
   "source": [
    "def process_language(language, language_code, artists_ids):\n",
    "    print(f'processing language: {language}')\n",
    "    language_data = []\n",
    "    language_count = 0\n",
    "    for artist_id in artists_ids:\n",
    "        if language_count >= NUMBER_OF_PIECES:\n",
    "            break\n",
    "        artist_folder = f'/kaggle/input/jukebox-mirror/ALLTHEDATA/ALLTHEDATA/{artist_id}'\n",
    "        folder_count, folder_data = process_artist_folder(artist_folder, language_code, artist_id)\n",
    "        language_count += folder_count\n",
    "        language_data.extend(folder_data[:NUMBER_OF_PIECES])\n",
    "    print(f'processed {language_count} pieces for {language} language ({language_code})')\n",
    "    return language_data"
   ]
  },
  {
   "cell_type": "code",
   "execution_count": 8,
   "id": "d8a16cb5",
   "metadata": {
    "execution": {
     "iopub.execute_input": "2025-05-17T19:35:26.578612Z",
     "iopub.status.busy": "2025-05-17T19:35:26.578312Z",
     "iopub.status.idle": "2025-05-17T19:38:37.142659Z",
     "shell.execute_reply": "2025-05-17T19:38:37.141483Z"
    },
    "papermill": {
     "duration": 190.570388,
     "end_time": "2025-05-17T19:38:37.145531",
     "exception": false,
     "start_time": "2025-05-17T19:35:26.575143",
     "status": "completed"
    },
    "tags": []
   },
   "outputs": [
    {
     "name": "stdout",
     "output_type": "stream",
     "text": [
      "processing language: Dutch\n",
      "processed 5800 pieces for Dutch language (nl)\n",
      "processing language: English\n",
      "processed 1884 pieces for English language (en)\n",
      "processing language: Finnish\n",
      "processed 70 pieces for Finnish language (fi)\n",
      "processing language: French\n",
      "processed 2360 pieces for French language (fr)\n",
      "processing language: Indonesian\n",
      "processed 2090 pieces for Indonesian language (id)\n",
      "processing language: Japanese\n",
      "processed 1670 pieces for Japanese language (ja)\n",
      "processing language: Lithuanian\n",
      "processed 2630 pieces for Lithuanian language (lt)\n",
      "processing language: Portuguese\n",
      "processed 2108 pieces for Portuguese language (pt)\n",
      "processing language: Romanian\n",
      "processed 1830 pieces for Romanian language (ro)\n",
      "processing language: Spanish\n",
      "processed 1890 pieces for Spanish language (es)\n"
     ]
    }
   ],
   "source": [
    "for language, artists_ids in languages_and_artists_ids.items():\n",
    "    if language in LANGUAGES:\n",
    "        language_data = process_language(language, LANGUAGES_CODES[language], artists_ids)\n",
    "        with open('music_dataset.pkl', 'ab') as file:\n",
    "            pickle.dump(language_data, file)"
   ]
  }
 ],
 "metadata": {
  "kaggle": {
   "accelerator": "none",
   "dataSources": [
    {
     "datasetId": 7394985,
     "sourceId": 11847710,
     "sourceType": "datasetVersion"
    }
   ],
   "dockerImageVersionId": 31040,
   "isGpuEnabled": false,
   "isInternetEnabled": true,
   "language": "python",
   "sourceType": "notebook"
  },
  "kernelspec": {
   "display_name": "Python 3",
   "language": "python",
   "name": "python3"
  },
  "language_info": {
   "codemirror_mode": {
    "name": "ipython",
    "version": 3
   },
   "file_extension": ".py",
   "mimetype": "text/x-python",
   "name": "python",
   "nbconvert_exporter": "python",
   "pygments_lexer": "ipython3",
   "version": "3.11.11"
  },
  "papermill": {
   "default_parameters": {},
   "duration": 199.672778,
   "end_time": "2025-05-17T19:38:39.011202",
   "environment_variables": {},
   "exception": null,
   "input_path": "__notebook__.ipynb",
   "output_path": "__notebook__.ipynb",
   "parameters": {},
   "start_time": "2025-05-17T19:35:19.338424",
   "version": "2.6.0"
  }
 },
 "nbformat": 4,
 "nbformat_minor": 5
}
