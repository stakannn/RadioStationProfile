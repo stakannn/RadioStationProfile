{
 "cells": [
  {
   "cell_type": "code",
   "execution_count": 1,
   "id": "a646e9a3",
   "metadata": {
    "_cell_guid": "b1076dfc-b9ad-4769-8c92-a6c4dae69d19",
    "_uuid": "8f2839f25d086af736a60e9eeb907d3b93b6e0e5",
    "execution": {
     "iopub.execute_input": "2025-05-18T12:50:56.390477Z",
     "iopub.status.busy": "2025-05-18T12:50:56.390156Z",
     "iopub.status.idle": "2025-05-18T12:50:58.296512Z",
     "shell.execute_reply": "2025-05-18T12:50:58.295672Z"
    },
    "papermill": {
     "duration": 1.912084,
     "end_time": "2025-05-18T12:50:58.298152",
     "exception": false,
     "start_time": "2025-05-18T12:50:56.386068",
     "status": "completed"
    },
    "tags": []
   },
   "outputs": [],
   "source": [
    "import os\n",
    "import csv\n",
    "import pickle\n",
    "import librosa\n",
    "import pandas as pd"
   ]
  },
  {
   "cell_type": "markdown",
   "id": "c1673b77",
   "metadata": {
    "papermill": {
     "duration": 0.002121,
     "end_time": "2025-05-18T12:50:58.303267",
     "exception": false,
     "start_time": "2025-05-18T12:50:58.301146",
     "status": "completed"
    },
    "tags": []
   },
   "source": [
    "## Список языков, отобранных для датасета:\n",
    "1. Indonesian\n",
    "2. French\n",
    "3. Spanish\n",
    "4. Japanese\n",
    "5. Dutch\n",
    "6. Lithuanian\n",
    "7. Portuguese\n",
    "8. Romanian\n",
    "9. English"
   ]
  },
  {
   "cell_type": "code",
   "execution_count": 2,
   "id": "d54f46ad",
   "metadata": {
    "execution": {
     "iopub.execute_input": "2025-05-18T12:50:58.309152Z",
     "iopub.status.busy": "2025-05-18T12:50:58.308739Z",
     "iopub.status.idle": "2025-05-18T12:50:58.313313Z",
     "shell.execute_reply": "2025-05-18T12:50:58.312495Z"
    },
    "papermill": {
     "duration": 0.009324,
     "end_time": "2025-05-18T12:50:58.314871",
     "exception": false,
     "start_time": "2025-05-18T12:50:58.305547",
     "status": "completed"
    },
    "tags": []
   },
   "outputs": [],
   "source": [
    "LANGUAGES = ['Indonesian', 'French', 'Spanish', 'Japanese', 'Dutch', 'Lithuanian', 'Portuguese', 'Romanian', 'English']"
   ]
  },
  {
   "cell_type": "code",
   "execution_count": 3,
   "id": "0ff3a4f7",
   "metadata": {
    "execution": {
     "iopub.execute_input": "2025-05-18T12:50:58.321128Z",
     "iopub.status.busy": "2025-05-18T12:50:58.320838Z",
     "iopub.status.idle": "2025-05-18T12:50:58.325465Z",
     "shell.execute_reply": "2025-05-18T12:50:58.324524Z"
    },
    "papermill": {
     "duration": 0.009324,
     "end_time": "2025-05-18T12:50:58.326877",
     "exception": false,
     "start_time": "2025-05-18T12:50:58.317553",
     "status": "completed"
    },
    "tags": []
   },
   "outputs": [],
   "source": [
    "LANGUAGES_CODES = {\n",
    "    'Indonesian': 'id',\n",
    "    'French': 'fr',\n",
    "    'Spanish': 'es',\n",
    "    'Japanese': 'ja',\n",
    "    'Dutch': 'nl',\n",
    "    'Lithuanian': 'lt',\n",
    "    'Portuguese': 'pt',\n",
    "    'Romanian': 'ro',\n",
    "    'English': 'en'\n",
    "}"
   ]
  },
  {
   "cell_type": "code",
   "execution_count": 4,
   "id": "a8c5c30c",
   "metadata": {
    "execution": {
     "iopub.execute_input": "2025-05-18T12:50:58.332918Z",
     "iopub.status.busy": "2025-05-18T12:50:58.332630Z",
     "iopub.status.idle": "2025-05-18T12:50:58.336693Z",
     "shell.execute_reply": "2025-05-18T12:50:58.335814Z"
    },
    "papermill": {
     "duration": 0.008799,
     "end_time": "2025-05-18T12:50:58.338226",
     "exception": false,
     "start_time": "2025-05-18T12:50:58.329427",
     "status": "completed"
    },
    "tags": []
   },
   "outputs": [],
   "source": [
    "NUMBER_OF_PIECES = 1500\n",
    "DURATION_SECONDS = 3"
   ]
  },
  {
   "cell_type": "code",
   "execution_count": 5,
   "id": "e6358fd7",
   "metadata": {
    "execution": {
     "iopub.execute_input": "2025-05-18T12:50:58.344523Z",
     "iopub.status.busy": "2025-05-18T12:50:58.344001Z",
     "iopub.status.idle": "2025-05-18T12:50:58.382734Z",
     "shell.execute_reply": "2025-05-18T12:50:58.382007Z"
    },
    "papermill": {
     "duration": 0.043655,
     "end_time": "2025-05-18T12:50:58.384305",
     "exception": false,
     "start_time": "2025-05-18T12:50:58.340650",
     "status": "completed"
    },
    "tags": []
   },
   "outputs": [],
   "source": [
    "with open('/kaggle/input/jukebox-mirror/artistsIdsAndLanguages.csv', 'r') as file:\n",
    "    df = pd.read_csv(file, delimiter=';')\n",
    "    languages_and_artists_ids = df.groupby('language_label')['artist_id'].apply(list).to_dict()"
   ]
  },
  {
   "cell_type": "code",
   "execution_count": 6,
   "id": "96d75b5b",
   "metadata": {
    "execution": {
     "iopub.execute_input": "2025-05-18T12:50:58.390286Z",
     "iopub.status.busy": "2025-05-18T12:50:58.389978Z",
     "iopub.status.idle": "2025-05-18T12:50:58.396284Z",
     "shell.execute_reply": "2025-05-18T12:50:58.395405Z"
    },
    "papermill": {
     "duration": 0.010845,
     "end_time": "2025-05-18T12:50:58.397721",
     "exception": false,
     "start_time": "2025-05-18T12:50:58.386876",
     "status": "completed"
    },
    "tags": []
   },
   "outputs": [],
   "source": [
    "def process_artist_folder(JukeBox_folder, language_code, artist_id):\n",
    "    folder_count = 0\n",
    "    folder_data = []\n",
    "    for wav_file in os.listdir(JukeBox_folder):\n",
    "        song_id = wav_file[:-4]\n",
    "        wav_path = os.path.join(JukeBox_folder, wav_file)\n",
    "        array, sampling_rate = librosa.load(wav_path, dtype='float64', sr=48000)\n",
    "        array = array.astype('float32')\n",
    "        piece_size = DURATION_SECONDS * sampling_rate\n",
    "        number_of_pieces_from_wav = len(array) // piece_size\n",
    "        for i in range(number_of_pieces_from_wav):\n",
    "            piece = array[i*piece_size : (i+1)*piece_size]\n",
    "            folder_data.append({\n",
    "                'name': f'{language_code}{song_id}{folder_count}music',\n",
    "                'array': piece,\n",
    "                'language_code': language_code,\n",
    "                'label': 'music',\n",
    "            })\n",
    "            folder_count += 1\n",
    "    return folder_count, folder_data"
   ]
  },
  {
   "cell_type": "code",
   "execution_count": 7,
   "id": "a9540952",
   "metadata": {
    "execution": {
     "iopub.execute_input": "2025-05-18T12:50:58.404054Z",
     "iopub.status.busy": "2025-05-18T12:50:58.403509Z",
     "iopub.status.idle": "2025-05-18T12:50:58.408855Z",
     "shell.execute_reply": "2025-05-18T12:50:58.408130Z"
    },
    "papermill": {
     "duration": 0.009899,
     "end_time": "2025-05-18T12:50:58.410123",
     "exception": false,
     "start_time": "2025-05-18T12:50:58.400224",
     "status": "completed"
    },
    "tags": []
   },
   "outputs": [],
   "source": [
    "def process_language(language, language_code, artists_ids):\n",
    "    print(f'processing language: {language}')\n",
    "    language_data = []\n",
    "    language_count = 0\n",
    "    for artist_id in artists_ids:\n",
    "        if language_count >= NUMBER_OF_PIECES:\n",
    "            break\n",
    "        artist_folder = f'/kaggle/input/jukebox-mirror/ALLTHEDATA/ALLTHEDATA/{artist_id}'\n",
    "        folder_count, folder_data = process_artist_folder(artist_folder, language_code, artist_id)\n",
    "        language_count += folder_count\n",
    "        language_data.extend(folder_data[:NUMBER_OF_PIECES])\n",
    "    print(f'processed {language_count} pieces for {language} language ({language_code})')\n",
    "    return language_data"
   ]
  },
  {
   "cell_type": "code",
   "execution_count": 8,
   "id": "fc4d44b2",
   "metadata": {
    "execution": {
     "iopub.execute_input": "2025-05-18T12:50:58.416508Z",
     "iopub.status.busy": "2025-05-18T12:50:58.415772Z",
     "iopub.status.idle": "2025-05-18T12:56:38.973038Z",
     "shell.execute_reply": "2025-05-18T12:56:38.970505Z"
    },
    "papermill": {
     "duration": 340.563495,
     "end_time": "2025-05-18T12:56:38.976104",
     "exception": false,
     "start_time": "2025-05-18T12:50:58.412609",
     "status": "completed"
    },
    "tags": []
   },
   "outputs": [
    {
     "name": "stdout",
     "output_type": "stream",
     "text": [
      "processing language: Dutch\n",
      "processed 5800 pieces for Dutch language (nl)\n",
      "processing language: English\n",
      "processed 1884 pieces for English language (en)\n",
      "processing language: French\n",
      "processed 2360 pieces for French language (fr)\n",
      "processing language: Indonesian\n",
      "processed 2090 pieces for Indonesian language (id)\n",
      "processing language: Japanese\n",
      "processed 1670 pieces for Japanese language (ja)\n",
      "processing language: Lithuanian\n",
      "processed 2630 pieces for Lithuanian language (lt)\n",
      "processing language: Portuguese\n",
      "processed 2108 pieces for Portuguese language (pt)\n",
      "processing language: Romanian\n",
      "processed 1830 pieces for Romanian language (ro)\n",
      "processing language: Spanish\n",
      "processed 1890 pieces for Spanish language (es)\n"
     ]
    }
   ],
   "source": [
    "for language, artists_ids in languages_and_artists_ids.items():\n",
    "    if language in LANGUAGES:\n",
    "        language_data = process_language(language, LANGUAGES_CODES[language], artists_ids)\n",
    "        if 'music_dataset.pkl' in os.listdir('/kaggle/working/'):\n",
    "            with open('music_dataset.pkl', 'rb') as file:\n",
    "                existing_data = pd.read_pickle(file)\n",
    "                language_data = existing_data + language_data\n",
    "        with open('music_dataset.pkl', 'wb') as file:\n",
    "            pickle.dump(language_data, file)"
   ]
  },
  {
   "cell_type": "code",
   "execution_count": null,
   "id": "8b16a475",
   "metadata": {
    "papermill": {
     "duration": 0.003725,
     "end_time": "2025-05-18T12:56:38.986081",
     "exception": false,
     "start_time": "2025-05-18T12:56:38.982356",
     "status": "completed"
    },
    "tags": []
   },
   "outputs": [],
   "source": []
  }
 ],
 "metadata": {
  "kaggle": {
   "accelerator": "none",
   "dataSources": [
    {
     "datasetId": 7394985,
     "sourceId": 11847710,
     "sourceType": "datasetVersion"
    }
   ],
   "dockerImageVersionId": 31040,
   "isGpuEnabled": false,
   "isInternetEnabled": true,
   "language": "python",
   "sourceType": "notebook"
  },
  "kernelspec": {
   "display_name": "Python 3",
   "language": "python",
   "name": "python3"
  },
  "language_info": {
   "codemirror_mode": {
    "name": "ipython",
    "version": 3
   },
   "file_extension": ".py",
   "mimetype": "text/x-python",
   "name": "python",
   "nbconvert_exporter": "python",
   "pygments_lexer": "ipython3",
   "version": "3.11.11"
  },
  "papermill": {
   "default_parameters": {},
   "duration": 350.02118,
   "end_time": "2025-05-18T12:56:41.617508",
   "environment_variables": {},
   "exception": null,
   "input_path": "__notebook__.ipynb",
   "output_path": "__notebook__.ipynb",
   "parameters": {},
   "start_time": "2025-05-18T12:50:51.596328",
   "version": "2.6.0"
  }
 },
 "nbformat": 4,
 "nbformat_minor": 5
}
